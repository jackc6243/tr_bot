{
 "cells": [
  {
   "cell_type": "code",
   "execution_count": 1,
   "id": "dce2918f",
   "metadata": {
    "tags": []
   },
   "outputs": [],
   "source": [
    "#data essentials\n",
    "import matplotlib.pyplot as plt\n",
    "import numpy as np\n",
    "import pandas as pd\n",
    "import math\n",
    "import scipy\n",
    "\n",
    "#self created tools\n",
    "from getting_data import *\n",
    "from Indicators import *\n",
    "from y_engineering import *\n",
    "from metric import *\n",
    "from models import *\n",
    "\n",
    "# PyTorch model and training necessities\n",
    "import torch\n",
    "import torch.nn as nn\n",
    "import torch.nn.functional as F\n",
    "import torch.optim as optim\n",
    "from torch.utils.data import Dataset, DataLoader\n",
    "from torchvision import transforms\n",
    "\n",
    "#sklearn\n",
    "from sklearn.metrics import *\n",
    "\n",
    "#visualisation with tensorboard\n",
    "from torch.utils.tensorboard import SummaryWriter"
   ]
  },
  {
   "cell_type": "code",
   "execution_count": 2,
   "id": "6a2a439c-88b1-4394-ae7a-334088ee39b1",
   "metadata": {},
   "outputs": [],
   "source": [
    "%load_ext autoreload\n",
    "%autoreload 2"
   ]
  },
  {
   "cell_type": "code",
   "execution_count": 3,
   "id": "4e80e42b",
   "metadata": {},
   "outputs": [],
   "source": [
    "#use gpu if available\n",
    "if torch.cuda.is_available():\n",
    "    torch.set_default_tensor_type('torch.cuda.FloatTensor')\n",
    "    device = \"cuda\""
   ]
  },
  {
   "cell_type": "code",
   "execution_count": 4,
   "id": "deff6e77-7b9c-4e03-8c68-c864a1971e17",
   "metadata": {},
   "outputs": [],
   "source": [
    "tickers = [\"AAPL\", \"AMZN\", \"GOOG\", \"META\", \"MSFT\", \"NVDA\"]"
   ]
  },
  {
   "cell_type": "code",
   "execution_count": 5,
   "id": "eb8eebe8-9d48-4959-bdd0-ee4d1fa564c8",
   "metadata": {},
   "outputs": [],
   "source": [
    "# getting raw data\n",
    "data = {}\n",
    "for ticker in tickers:\n",
    "    raw_path = \"/home/jack/Desktop/Programming/tr_bot/data/train/\" + ticker + \"_train.csv\"\n",
    "    data[ticker] = pd.read_csv(raw_path)"
   ]
  },
  {
   "cell_type": "code",
   "execution_count": 7,
   "id": "2f142c34-9931-4f58-8c6a-4fefb11af187",
   "metadata": {},
   "outputs": [],
   "source": [
    "# addig some features\n",
    "#df['y_binary_sma4'] = (sma(df, period=4, column='Adj Close').shift(periods=-4) > df['Adj Close']).astype(int)\n",
    "# df[\"ema_pct_20\"] = pct_log(df, y_col='ema_20', time_to_pred = 1, pct=True, log=False)\n",
    "# df[\"ema_pct_200\"] = pct_log(df, y_col='ema_200', time_to_pred = 1, pct=True, log=False)"
   ]
  },
  {
   "cell_type": "code",
   "execution_count": 8,
   "id": "e5886aa2-cfde-4212-87c2-30c5a1b9b3de",
   "metadata": {},
   "outputs": [
    {
     "data": {
      "text/html": [
       "<div>\n",
       "<style scoped>\n",
       "    .dataframe tbody tr th:only-of-type {\n",
       "        vertical-align: middle;\n",
       "    }\n",
       "\n",
       "    .dataframe tbody tr th {\n",
       "        vertical-align: top;\n",
       "    }\n",
       "\n",
       "    .dataframe thead th {\n",
       "        text-align: right;\n",
       "    }\n",
       "</style>\n",
       "<table border=\"1\" class=\"dataframe\">\n",
       "  <thead>\n",
       "    <tr style=\"text-align: right;\">\n",
       "      <th></th>\n",
       "      <th>Date</th>\n",
       "      <th>Open</th>\n",
       "      <th>High</th>\n",
       "      <th>Low</th>\n",
       "      <th>Close</th>\n",
       "      <th>Adj Close</th>\n",
       "      <th>Volume</th>\n",
       "      <th>pct</th>\n",
       "      <th>pct_log</th>\n",
       "      <th>ema_20</th>\n",
       "      <th>ema_50</th>\n",
       "      <th>ema_200</th>\n",
       "      <th>ema_pct_20</th>\n",
       "      <th>ema_pct_50</th>\n",
       "      <th>ema_pct_200</th>\n",
       "      <th>rsi_20</th>\n",
       "      <th>y_binary_sma4</th>\n",
       "    </tr>\n",
       "  </thead>\n",
       "  <tbody>\n",
       "    <tr>\n",
       "      <th>0</th>\n",
       "      <td>1986-03-14</td>\n",
       "      <td>0.097222</td>\n",
       "      <td>0.102431</td>\n",
       "      <td>0.097222</td>\n",
       "      <td>0.100694</td>\n",
       "      <td>0.062823</td>\n",
       "      <td>308160000</td>\n",
       "      <td>NaN</td>\n",
       "      <td>NaN</td>\n",
       "      <td>0.062823</td>\n",
       "      <td>0.062823</td>\n",
       "      <td>0.062823</td>\n",
       "      <td>NaN</td>\n",
       "      <td>NaN</td>\n",
       "      <td>NaN</td>\n",
       "      <td>NaN</td>\n",
       "      <td>0</td>\n",
       "    </tr>\n",
       "    <tr>\n",
       "      <th>1</th>\n",
       "      <td>1986-03-17</td>\n",
       "      <td>0.100694</td>\n",
       "      <td>0.103299</td>\n",
       "      <td>0.100694</td>\n",
       "      <td>0.102431</td>\n",
       "      <td>0.063907</td>\n",
       "      <td>133171200</td>\n",
       "      <td>0.017255</td>\n",
       "      <td>-0.006182</td>\n",
       "      <td>0.063392</td>\n",
       "      <td>0.063376</td>\n",
       "      <td>0.063368</td>\n",
       "      <td>0.009059</td>\n",
       "      <td>0.008800</td>\n",
       "      <td>0.008671</td>\n",
       "      <td>NaN</td>\n",
       "      <td>0</td>\n",
       "    </tr>\n",
       "    <tr>\n",
       "      <th>2</th>\n",
       "      <td>1986-03-18</td>\n",
       "      <td>0.102431</td>\n",
       "      <td>0.103299</td>\n",
       "      <td>0.098958</td>\n",
       "      <td>0.099826</td>\n",
       "      <td>0.062281</td>\n",
       "      <td>67766400</td>\n",
       "      <td>-0.025443</td>\n",
       "      <td>0.009371</td>\n",
       "      <td>0.062984</td>\n",
       "      <td>0.062996</td>\n",
       "      <td>0.063002</td>\n",
       "      <td>-0.006436</td>\n",
       "      <td>-0.005990</td>\n",
       "      <td>-0.005774</td>\n",
       "      <td>NaN</td>\n",
       "      <td>0</td>\n",
       "    </tr>\n",
       "    <tr>\n",
       "      <th>3</th>\n",
       "      <td>1986-03-19</td>\n",
       "      <td>0.099826</td>\n",
       "      <td>0.100694</td>\n",
       "      <td>0.097222</td>\n",
       "      <td>0.098090</td>\n",
       "      <td>0.061198</td>\n",
       "      <td>47894400</td>\n",
       "      <td>-0.017389</td>\n",
       "      <td>0.006319</td>\n",
       "      <td>0.062468</td>\n",
       "      <td>0.062519</td>\n",
       "      <td>0.062544</td>\n",
       "      <td>-0.008187</td>\n",
       "      <td>-0.007570</td>\n",
       "      <td>-0.007266</td>\n",
       "      <td>NaN</td>\n",
       "      <td>0</td>\n",
       "    </tr>\n",
       "    <tr>\n",
       "      <th>4</th>\n",
       "      <td>1986-03-20</td>\n",
       "      <td>0.098090</td>\n",
       "      <td>0.098090</td>\n",
       "      <td>0.094618</td>\n",
       "      <td>0.095486</td>\n",
       "      <td>0.059574</td>\n",
       "      <td>58435200</td>\n",
       "      <td>-0.026537</td>\n",
       "      <td>0.009627</td>\n",
       "      <td>0.061768</td>\n",
       "      <td>0.061882</td>\n",
       "      <td>0.061938</td>\n",
       "      <td>-0.011208</td>\n",
       "      <td>-0.010191</td>\n",
       "      <td>-0.009689</td>\n",
       "      <td>NaN</td>\n",
       "      <td>0</td>\n",
       "    </tr>\n",
       "    <tr>\n",
       "      <th>...</th>\n",
       "      <td>...</td>\n",
       "      <td>...</td>\n",
       "      <td>...</td>\n",
       "      <td>...</td>\n",
       "      <td>...</td>\n",
       "      <td>...</td>\n",
       "      <td>...</td>\n",
       "      <td>...</td>\n",
       "      <td>...</td>\n",
       "      <td>...</td>\n",
       "      <td>...</td>\n",
       "      <td>...</td>\n",
       "      <td>...</td>\n",
       "      <td>...</td>\n",
       "      <td>...</td>\n",
       "      <td>...</td>\n",
       "      <td>...</td>\n",
       "    </tr>\n",
       "    <tr>\n",
       "      <th>8837</th>\n",
       "      <td>2021-04-07</td>\n",
       "      <td>247.809998</td>\n",
       "      <td>250.929993</td>\n",
       "      <td>247.190002</td>\n",
       "      <td>249.899994</td>\n",
       "      <td>245.472717</td>\n",
       "      <td>22719800</td>\n",
       "      <td>0.008230</td>\n",
       "      <td>0.001492</td>\n",
       "      <td>234.537831</td>\n",
       "      <td>230.417240</td>\n",
       "      <td>211.750363</td>\n",
       "      <td>0.004932</td>\n",
       "      <td>0.002674</td>\n",
       "      <td>0.001603</td>\n",
       "      <td>0.117034</td>\n",
       "      <td>1</td>\n",
       "    </tr>\n",
       "    <tr>\n",
       "      <th>8838</th>\n",
       "      <td>2021-04-08</td>\n",
       "      <td>252.770004</td>\n",
       "      <td>254.139999</td>\n",
       "      <td>252.000000</td>\n",
       "      <td>253.250000</td>\n",
       "      <td>248.763367</td>\n",
       "      <td>23625200</td>\n",
       "      <td>0.013405</td>\n",
       "      <td>0.002420</td>\n",
       "      <td>235.892644</td>\n",
       "      <td>231.136696</td>\n",
       "      <td>212.118651</td>\n",
       "      <td>0.005777</td>\n",
       "      <td>0.003122</td>\n",
       "      <td>0.001739</td>\n",
       "      <td>0.137510</td>\n",
       "      <td>1</td>\n",
       "    </tr>\n",
       "    <tr>\n",
       "      <th>8839</th>\n",
       "      <td>2021-04-09</td>\n",
       "      <td>252.869995</td>\n",
       "      <td>255.990005</td>\n",
       "      <td>252.440002</td>\n",
       "      <td>255.850006</td>\n",
       "      <td>251.317322</td>\n",
       "      <td>24326800</td>\n",
       "      <td>0.010267</td>\n",
       "      <td>0.001852</td>\n",
       "      <td>237.361661</td>\n",
       "      <td>231.928093</td>\n",
       "      <td>212.508688</td>\n",
       "      <td>0.006227</td>\n",
       "      <td>0.003424</td>\n",
       "      <td>0.001839</td>\n",
       "      <td>0.152681</td>\n",
       "      <td>1</td>\n",
       "    </tr>\n",
       "    <tr>\n",
       "      <th>8840</th>\n",
       "      <td>2021-04-12</td>\n",
       "      <td>254.710007</td>\n",
       "      <td>257.670013</td>\n",
       "      <td>254.619995</td>\n",
       "      <td>255.910004</td>\n",
       "      <td>251.376266</td>\n",
       "      <td>27148700</td>\n",
       "      <td>0.000235</td>\n",
       "      <td>0.000042</td>\n",
       "      <td>238.696385</td>\n",
       "      <td>232.690766</td>\n",
       "      <td>212.895430</td>\n",
       "      <td>0.005623</td>\n",
       "      <td>0.003288</td>\n",
       "      <td>0.001820</td>\n",
       "      <td>0.153034</td>\n",
       "      <td>1</td>\n",
       "    </tr>\n",
       "    <tr>\n",
       "      <th>8841</th>\n",
       "      <td>2021-04-13</td>\n",
       "      <td>257.260010</td>\n",
       "      <td>259.190002</td>\n",
       "      <td>256.829987</td>\n",
       "      <td>258.489990</td>\n",
       "      <td>253.910538</td>\n",
       "      <td>23837500</td>\n",
       "      <td>0.010082</td>\n",
       "      <td>0.001815</td>\n",
       "      <td>240.145352</td>\n",
       "      <td>233.522914</td>\n",
       "      <td>213.303540</td>\n",
       "      <td>0.006070</td>\n",
       "      <td>0.003576</td>\n",
       "      <td>0.001917</td>\n",
       "      <td>0.168283</td>\n",
       "      <td>1</td>\n",
       "    </tr>\n",
       "  </tbody>\n",
       "</table>\n",
       "<p>8842 rows × 17 columns</p>\n",
       "</div>"
      ],
      "text/plain": [
       "            Date        Open        High         Low       Close   Adj Close  \\\n",
       "0     1986-03-14    0.097222    0.102431    0.097222    0.100694    0.062823   \n",
       "1     1986-03-17    0.100694    0.103299    0.100694    0.102431    0.063907   \n",
       "2     1986-03-18    0.102431    0.103299    0.098958    0.099826    0.062281   \n",
       "3     1986-03-19    0.099826    0.100694    0.097222    0.098090    0.061198   \n",
       "4     1986-03-20    0.098090    0.098090    0.094618    0.095486    0.059574   \n",
       "...          ...         ...         ...         ...         ...         ...   \n",
       "8837  2021-04-07  247.809998  250.929993  247.190002  249.899994  245.472717   \n",
       "8838  2021-04-08  252.770004  254.139999  252.000000  253.250000  248.763367   \n",
       "8839  2021-04-09  252.869995  255.990005  252.440002  255.850006  251.317322   \n",
       "8840  2021-04-12  254.710007  257.670013  254.619995  255.910004  251.376266   \n",
       "8841  2021-04-13  257.260010  259.190002  256.829987  258.489990  253.910538   \n",
       "\n",
       "         Volume       pct   pct_log      ema_20      ema_50     ema_200  \\\n",
       "0     308160000       NaN       NaN    0.062823    0.062823    0.062823   \n",
       "1     133171200  0.017255 -0.006182    0.063392    0.063376    0.063368   \n",
       "2      67766400 -0.025443  0.009371    0.062984    0.062996    0.063002   \n",
       "3      47894400 -0.017389  0.006319    0.062468    0.062519    0.062544   \n",
       "4      58435200 -0.026537  0.009627    0.061768    0.061882    0.061938   \n",
       "...         ...       ...       ...         ...         ...         ...   \n",
       "8837   22719800  0.008230  0.001492  234.537831  230.417240  211.750363   \n",
       "8838   23625200  0.013405  0.002420  235.892644  231.136696  212.118651   \n",
       "8839   24326800  0.010267  0.001852  237.361661  231.928093  212.508688   \n",
       "8840   27148700  0.000235  0.000042  238.696385  232.690766  212.895430   \n",
       "8841   23837500  0.010082  0.001815  240.145352  233.522914  213.303540   \n",
       "\n",
       "      ema_pct_20  ema_pct_50  ema_pct_200    rsi_20  y_binary_sma4  \n",
       "0            NaN         NaN          NaN       NaN              0  \n",
       "1       0.009059    0.008800     0.008671       NaN              0  \n",
       "2      -0.006436   -0.005990    -0.005774       NaN              0  \n",
       "3      -0.008187   -0.007570    -0.007266       NaN              0  \n",
       "4      -0.011208   -0.010191    -0.009689       NaN              0  \n",
       "...          ...         ...          ...       ...            ...  \n",
       "8837    0.004932    0.002674     0.001603  0.117034              1  \n",
       "8838    0.005777    0.003122     0.001739  0.137510              1  \n",
       "8839    0.006227    0.003424     0.001839  0.152681              1  \n",
       "8840    0.005623    0.003288     0.001820  0.153034              1  \n",
       "8841    0.006070    0.003576     0.001917  0.168283              1  \n",
       "\n",
       "[8842 rows x 17 columns]"
      ]
     },
     "execution_count": 8,
     "metadata": {},
     "output_type": "execute_result"
    }
   ],
   "source": [
    "data[tickers[4]]"
   ]
  },
  {
   "cell_type": "code",
   "execution_count": 9,
   "id": "0dfed150-c912-42a7-8200-cd995915ba40",
   "metadata": {},
   "outputs": [
    {
     "data": {
      "text/plain": [
       "(array([0.000e+00, 0.000e+00, 0.000e+00, 0.000e+00, 2.000e+00, 4.000e+00,\n",
       "        1.300e+01, 3.600e+01, 1.730e+02, 1.764e+03, 1.952e+03, 1.790e+02,\n",
       "        3.800e+01, 1.200e+01, 8.000e+00, 3.000e+00, 3.000e+00, 1.000e+00,\n",
       "        1.000e+00, 0.000e+00]),\n",
       " array([-0.1 , -0.09, -0.08, -0.07, -0.06, -0.05, -0.04, -0.03, -0.02,\n",
       "        -0.01,  0.  ,  0.01,  0.02,  0.03,  0.04,  0.05,  0.06,  0.07,\n",
       "         0.08,  0.09,  0.1 ]),\n",
       " <BarContainer object of 20 artists>)"
      ]
     },
     "execution_count": 9,
     "metadata": {},
     "output_type": "execute_result"
    },
    {
     "data": {
      "image/png": "[encoded data removed]",
      "text/plain": [
       "<Figure size 640x480 with 1 Axes>"
      ]
     },
     "metadata": {},
     "output_type": "display_data"
    }
   ],
   "source": [
    "plt.hist(data[tickers[2]][\"pct_log\"], bins=20, range=(-0.1,0.1))"
   ]
  },
  {
   "cell_type": "code",
   "execution_count": 10,
   "id": "81e4c9c7-8395-4040-8518-83e7e7bf8ed5",
   "metadata": {},
   "outputs": [
    {
     "data": {
      "text/plain": [
       "0.02648532590561872"
      ]
     },
     "execution_count": 10,
     "metadata": {},
     "output_type": "execute_result"
    }
   ],
   "source": [
    "data[tickers[0]][\"pct_log\"].mean()"
   ]
  },
  {
   "cell_type": "code",
   "execution_count": 11,
   "id": "f44a63ff-c89f-4c56-a9f8-fc847ea71ebe",
   "metadata": {},
   "outputs": [],
   "source": [
    "# get all training and validation data and convert them to gpu\n",
    "\n",
    "def convert_to_tensor(x):\n",
    "    device = \"cuda\" if torch.cuda.is_available() else \"cpu\"\n",
    "    return [torch.tensor(i).to(device).type(torch.cuda.FloatTensor) for i in x]"
   ]
  },
  {
   "cell_type": "code",
   "execution_count": null,
   "id": "e1b9ad82-22ac-4125-a409-4235180ff52f",
   "metadata": {},
   "outputs": [],
   "source": [
    "#getting data for only one stock\n",
    "\n",
    "# temp = get_xy(df, 14, x_col = [\"pct_log\"], y_col='y_binary_sma5', val_pct=0.2, period_to_skip=40)\n",
    "# x_train, y_train, x_val, y_val = convert_to_tensor(temp)\n",
    "\n",
    "# ind = get_xy(df, 14, x_col = ['ema_pct_21',\"ema_pct_200\", \"rsi_20\"], y_col='y_binary_sma5', val_pct=0.2, period_to_skip=40)\n",
    "# ind_train, _, ind_val, _ = convert_to_tensor(ind)"
   ]
  },
  {
   "cell_type": "code",
   "execution_count": 12,
   "id": "c5322eef-45e3-4b90-b96f-a77b68569514",
   "metadata": {},
   "outputs": [],
   "source": [
    "#getting data for many stocks\n",
    "\n",
    "def get_concatenated_xy(data, period=14, x_cols = [[\"pct_log\"], ['ema_pct_20',\"ema_pct_200\", \"rsi_20\"]], y_col='y_binary_sma4', val_pct=0.2, period_to_skip=40):\n",
    "    \"\"\"\n",
    "    takes in a dictionary data of all the different stocks and returns a concatenated form\n",
    "    \"\"\"\n",
    "    \n",
    "    x_train_concatenated = [ [] for _ in range(len(x_cols)) ]\n",
    "    x_val_concatenated = [ [] for _ in range(len(x_cols)) ]\n",
    "    y_train_concatenated = []\n",
    "    y_val_concatenated = []\n",
    "    \n",
    "    for key, df in data.items():\n",
    "        for i, x_col in enumerate(x_cols):\n",
    "            temp = get_xy(df, period, x_col = x_col, y_col=y_col, val_pct=val_pct, period_to_skip=period_to_skip)\n",
    "            x_train, y_train, x_val, y_val = convert_to_tensor(temp)\n",
    "            \n",
    "            x_train_concatenated[i].append(x_train)\n",
    "            x_val_concatenated[i].append(x_val)\n",
    "            \n",
    "            \n",
    "            if i == 0:\n",
    "                y_train_concatenated.append(y_train)\n",
    "                y_val_concatenated.append(y_val)\n",
    "                \n",
    "    return [torch.cat(x) for x in x_train_concatenated], [torch.cat(x) for x in x_val_concatenated], torch.cat(y_train_concatenated), torch.cat(y_val_concatenated)"
   ]
  },
  {
   "cell_type": "code",
   "execution_count": 13,
   "id": "af42b1bb-9b32-4178-a56d-9c0ab6327c89",
   "metadata": {},
   "outputs": [],
   "source": [
    "x_train, x_val, y_train, y_val = get_concatenated_xy(data)"
   ]
  },
  {
   "cell_type": "code",
   "execution_count": 14,
   "id": "4948ad0a-0797-494f-b49e-77a535356231",
   "metadata": {},
   "outputs": [
    {
     "data": {
      "text/plain": [
       "(torch.Size([25508, 1, 14]),\n",
       " torch.Size([25508, 3, 14]),\n",
       " torch.Size([25508, 1]),\n",
       " torch.Size([6441, 1]))"
      ]
     },
     "execution_count": 14,
     "metadata": {},
     "output_type": "execute_result"
    }
   ],
   "source": [
    "x_train[0].shape, x_train[1].shape, y_train.shape, y_val.shape"
   ]
  },
  {
   "cell_type": "code",
   "execution_count": 15,
   "id": "9e855af5-a9bc-417f-8fdf-56bb5702697d",
   "metadata": {},
   "outputs": [],
   "source": [
    "#turning data into a dataloader\n",
    "\n",
    "batch_size = 64\n",
    "x_train_ds = CustomDataset(x_train, y_train)\n",
    "x_val_ds = CustomDataset(x_val, y_val)\n",
    "train_dataloader = DataLoader(x_train_ds, batch_size=batch_size, shuffle=True, generator=torch.Generator(device=device))\n",
    "val_dataloader = DataLoader(x_val_ds, batch_size=batch_size, shuffle=True, generator=torch.Generator(device=device))"
   ]
  },
  {
   "cell_type": "code",
   "execution_count": 16,
   "id": "39f139a3-a262-492f-a17a-77194d2374a2",
   "metadata": {},
   "outputs": [
    {
     "data": {
      "text/plain": [
       "torch.Size([25508, 3, 14])"
      ]
     },
     "execution_count": 16,
     "metadata": {},
     "output_type": "execute_result"
    }
   ],
   "source": [
    "x_train_ds.Xs[1].size()"
   ]
  },
  {
   "cell_type": "code",
   "execution_count": 17,
   "id": "b2192cbf-f5d8-4aaf-b4d2-9e85a6676898",
   "metadata": {},
   "outputs": [],
   "source": [
    "# some debugging to check where the nan values are\n",
    "for i in range(3969):\n",
    "    if x_train_ds.Xs[1][i:,:,:].isnan().sum()> 0:\n",
    "        print(i)\n",
    "        print(x_train_ds.Xs[1][i:,:,:])"
   ]
  },
  {
   "cell_type": "code",
   "execution_count": 18,
   "id": "df9bdfa3-fd2f-4ccd-9cef-1144552901b0",
   "metadata": {},
   "outputs": [
    {
     "data": {
      "text/plain": [
       "(3, torch.Size([64, 1, 14]), torch.Size([64, 3, 14]), torch.Size([64, 1]))"
      ]
     },
     "execution_count": 18,
     "metadata": {},
     "output_type": "execute_result"
    }
   ],
   "source": [
    "#checking data shapes\n",
    "\n",
    "temp = next(iter(train_dataloader))\n",
    "len(temp), temp[0].shape, temp[1].shape, temp[2].shape"
   ]
  },
  {
   "cell_type": "code",
   "execution_count": 43,
   "id": "e6a7e951-7113-4ca2-8d7a-1fdff2a35267",
   "metadata": {},
   "outputs": [
    {
     "name": "stderr",
     "output_type": "stream",
     "text": [
      "/home/jack/anaconda3/envs/trading_environment/lib/python3.10/site-packages/torch/nn/modules/lazy.py:180: UserWarning: Lazy modules are a new feature under heavy development so changes to the API or functionality can happen at any moment.\n",
      "  warnings.warn('Lazy modules are a new feature under heavy development '\n"
     ]
    }
   ],
   "source": [
    "class indicator_cnn(nn.Module):\n",
    "    \"\"\"\n",
    "    basic indicator model with 2 seperate cnn that that takes price and some indicators as input respectively. They both branch into a few common fully connected layers\n",
    "    \n",
    "    \"\"\"\n",
    "    \n",
    "    \n",
    "    def __init__(self):\n",
    "        super(indicator_cnn, self).__init__()\n",
    "        \n",
    "        # direct price input layers\n",
    "        # self.x_padding = nn.ConstantPad1d((0,2), 0)# we only want to pad the right because the earlier data is not as important\n",
    "        self.x_conv1 = nn.Conv1d(in_channels=1, out_channels=6, kernel_size=5, stride=2)\n",
    "        self.x_conv2 = nn.Conv1d(6, 16, 3, 1)\n",
    "        self.x_conv3 = nn.Conv1d(16, 24, 1)\n",
    "        \n",
    "        # indicators input layers\n",
    "        # self.ind_padding = nn.ConstantPad1d((0,2), 0) # we only want to pad the right because the earlier data is not as important\n",
    "        self.ind_conv1 = nn.Conv1d(in_channels=3, out_channels=6, kernel_size=5, stride=3)\n",
    "        self.ind_conv2 = nn.Conv1d(6, 12, 3, 1)\n",
    "        # self.ind_conv3 = nn.Conv1d(12, 16, 1, 1)\n",
    "        \n",
    "        #combined layers\n",
    "        self.fc1 = nn.LazyLinear(40)\n",
    "        self.fc2 = nn.Linear(40, 20)\n",
    "        self.fc3 = nn.Linear(20, 1)\n",
    "    \n",
    "    def forward(self, x, ind):\n",
    "\n",
    "        # x = self.x_padding(x)\n",
    "        x = F.relu(self.x_conv1(x))\n",
    "        x = nn.Dropout(0.2)(x)\n",
    "        x = F.relu(self.x_conv2(x))\n",
    "        x = nn.Dropout(0.2)(x)\n",
    "        x = F.relu(self.x_conv3(x))\n",
    "        x = nn.Dropout(0.2)(x)\n",
    "        x = x.view(-1, self.num_flat_features(x))\n",
    "        \n",
    "        # ind = self.ind_padding(ind)\n",
    "        ind = F.relu(self.ind_conv1(ind))\n",
    "        ind = nn.Dropout(0.2)(ind)\n",
    "        ind = F.relu(self.ind_conv2(ind))\n",
    "        ind = nn.Dropout(0.2)(ind)\n",
    "        # ind = F.relu(self.ind_conv3(ind))\n",
    "        # ind = nn.Dropout(0.2)(ind)\n",
    "        ind = ind.view(-1, self.num_flat_features(ind))\n",
    "        \n",
    "        combined = torch.cat((x, ind),1)\n",
    "        combined = F.relu(self.fc1(combined))\n",
    "        combined = F.relu(self.fc2(combined))\n",
    "        combined = self.fc3(combined)\n",
    "        \n",
    "        return combined\n",
    "    \n",
    "    def predict(self, X, return_logits=True, threshold = 0.5):\n",
    "        logits = torch.sigmoid(self.forward(*X).cpu().detach())\n",
    "        if return_logits:\n",
    "            return logits.numpy()\n",
    "        return (logits > threshold).astype(\"int\")\n",
    "    \n",
    "    def num_flat_features(self, x):\n",
    "        size = x.size()[1:]\n",
    "        num_features = 1\n",
    "        for s in size:\n",
    "            num_features *= s\n",
    "        return num_features\n",
    "    \n",
    "    def count_parameters(self):\n",
    "        return sum(p.numel() for p in model.parameters() if p.requires_grad)\n",
    "    \n",
    "\n",
    "model = indicator_cnn().cuda()"
   ]
  },
  {
   "cell_type": "code",
   "execution_count": 44,
   "id": "fdf001bd-02a1-4bfa-9aec-cda52013036f",
   "metadata": {
    "tags": []
   },
   "outputs": [
    {
     "data": {
      "text/plain": [
       "tensor([[0.0393],\n",
       "        [0.0511],\n",
       "        [0.0455],\n",
       "        [0.0436],\n",
       "        [0.0522],\n",
       "        [0.0423],\n",
       "        [0.0455],\n",
       "        [0.0454],\n",
       "        [0.0443],\n",
       "        [0.0438],\n",
       "        [0.0380],\n",
       "        [0.0416],\n",
       "        [0.0424],\n",
       "        [0.0453],\n",
       "        [0.0471],\n",
       "        [0.0464],\n",
       "        [0.0474],\n",
       "        [0.0479],\n",
       "        [0.0428],\n",
       "        [0.0441],\n",
       "        [0.0443],\n",
       "        [0.0439],\n",
       "        [0.0452],\n",
       "        [0.0469],\n",
       "        [0.0436],\n",
       "        [0.0457],\n",
       "        [0.0474],\n",
       "        [0.0461],\n",
       "        [0.0500],\n",
       "        [0.0364],\n",
       "        [0.0496],\n",
       "        [0.0479],\n",
       "        [0.0391],\n",
       "        [0.0427],\n",
       "        [0.0457],\n",
       "        [0.0384],\n",
       "        [0.0407],\n",
       "        [0.0483],\n",
       "        [0.0534],\n",
       "        [0.0487],\n",
       "        [0.0429],\n",
       "        [0.0470],\n",
       "        [0.0499],\n",
       "        [0.0466],\n",
       "        [0.0425],\n",
       "        [0.0473],\n",
       "        [0.0450],\n",
       "        [0.0431],\n",
       "        [0.0480],\n",
       "        [0.0421],\n",
       "        [0.0460],\n",
       "        [0.0504],\n",
       "        [0.0468],\n",
       "        [0.0411],\n",
       "        [0.0456],\n",
       "        [0.0480],\n",
       "        [0.0461],\n",
       "        [0.0476],\n",
       "        [0.0501],\n",
       "        [0.0506],\n",
       "        [0.0466],\n",
       "        [0.0491],\n",
       "        [0.0432],\n",
       "        [0.0476]], grad_fn=<AddmmBackward0>)"
      ]
     },
     "execution_count": 44,
     "metadata": {},
     "output_type": "execute_result"
    }
   ],
   "source": [
    "#dry run to initialise lazy modules\n",
    "model(*next(iter(train_dataloader))[:-1])"
   ]
  },
  {
   "cell_type": "code",
   "execution_count": 45,
   "id": "fe10eb65-2ca9-488f-9ef2-fed04e06cd26",
   "metadata": {},
   "outputs": [],
   "source": [
    "#len(next(iter(train_dataloader))[:-1])"
   ]
  },
  {
   "cell_type": "code",
   "execution_count": 46,
   "id": "58aea9c5-1b3b-4cc5-8f1e-1769b391c816",
   "metadata": {},
   "outputs": [
    {
     "data": {
      "text/plain": [
       "5793"
      ]
     },
     "execution_count": 46,
     "metadata": {},
     "output_type": "execute_result"
    }
   ],
   "source": [
    "model.count_parameters()"
   ]
  },
  {
   "cell_type": "code",
   "execution_count": 47,
   "id": "976ea5d2-d8f4-470a-a46b-0e5c52050c5a",
   "metadata": {},
   "outputs": [
    {
     "name": "stdout",
     "output_type": "stream",
     "text": [
      "indicator_cnn(\n",
      "  (x_conv1): Conv1d(1, 6, kernel_size=(5,), stride=(2,))\n",
      "  (x_conv2): Conv1d(6, 16, kernel_size=(3,), stride=(1,))\n",
      "  (x_conv3): Conv1d(16, 24, kernel_size=(1,), stride=(1,))\n",
      "  (ind_conv1): Conv1d(3, 6, kernel_size=(5,), stride=(3,))\n",
      "  (ind_conv2): Conv1d(6, 12, kernel_size=(3,), stride=(1,))\n",
      "  (fc1): Linear(in_features=96, out_features=40, bias=True)\n",
      "  (fc2): Linear(in_features=40, out_features=20, bias=True)\n",
      "  (fc3): Linear(in_features=20, out_features=1, bias=True)\n",
      ")\n"
     ]
    }
   ],
   "source": [
    "print(model)"
   ]
  },
  {
   "cell_type": "code",
   "execution_count": 48,
   "id": "8fc16817-7f84-400d-80a5-80092eb000ad",
   "metadata": {},
   "outputs": [],
   "source": [
    "loss_fn = nn.BCEWithLogitsLoss()\n",
    "optimizer = optim.Adam(model.parameters(), lr=0.001, betas = (0.9, 0.999), weight_decay=1e-5)\n",
    "# optimizer = optim.RMSprop(model.parameters(), lr=0.01, alpha=0.99)"
   ]
  },
  {
   "cell_type": "code",
   "execution_count": 49,
   "id": "2a9aab76-bd62-4915-be81-265e31c50c82",
   "metadata": {},
   "outputs": [],
   "source": [
    "# using tensorboard visualisation tool\n",
    "# To view, start TensorBoard on the command line with:\n",
    "#tensorboard --logdir=runs\n",
    "#and open a browser tab to http://localhost:6006/\n",
    "from datetime import datetime\n",
    "\n",
    "writer = SummaryWriter('runs/indicator_cnn_dropout')\n",
    "timestamp = datetime.now().strftime('%Y%m%d_%H%M%S')"
   ]
  },
  {
   "cell_type": "code",
   "execution_count": 50,
   "id": "380175e0-c29e-4bad-b78c-e3e16d40b11c",
   "metadata": {},
   "outputs": [],
   "source": [
    "# debugging each individual layers\n",
    "def printnorm(self, input, output):\n",
    "    # input is a tuple of packed inputs\n",
    "    # output is a Tensor. output.data is the Tensor we are interested\n",
    "    print('Inside ' + self.__class__.__name__ + ' forward')\n",
    "    print('')\n",
    "    print('input: ', type(input))\n",
    "    print('input[0]: ', type(input[0]))\n",
    "    print('output: ', type(output))\n",
    "    print('')\n",
    "    print('input size:', input[0].size())\n",
    "    print('output size:', output.data.size())\n",
    "    print('how many nan value:', torch.sum(torch.isnan(output.data)))"
   ]
  },
  {
   "cell_type": "code",
   "execution_count": 51,
   "id": "a0c1bc2c-202d-4019-8948-d84fd51f809f",
   "metadata": {},
   "outputs": [],
   "source": [
    "# register hooks to look at outputs for debugging\n",
    "\n",
    "# model.x_conv3.register_forward_hook(printnorm)\n",
    "# model.ind_conv2.register_forward_hook(printnorm)\n",
    "# model.fc1.register_forward_hook(printnorm)"
   ]
  },
  {
   "cell_type": "code",
   "execution_count": 52,
   "id": "b8ab1dd3-f959-4e54-95e1-4cd0d0d478b8",
   "metadata": {
    "tags": []
   },
   "outputs": [],
   "source": [
    "#model(*next(iter(train_dataloader))[:-1])"
   ]
  },
  {
   "cell_type": "code",
   "execution_count": 53,
   "id": "a1f889b7-ec3c-4961-a18b-a2dd4c54fd05",
   "metadata": {
    "tags": []
   },
   "outputs": [
    {
     "name": "stdout",
     "output_type": "stream",
     "text": [
      "Epoch 1 ------------------------>  Avg training loss: 0.010808, Avg val loss: 0.010717, Validation accuracy: 58.6% \n",
      "\n",
      "Epoch 2 ------------------------>  Avg training loss: 0.010809, Avg val loss: 0.010746, Validation accuracy: 58.6% \n",
      "\n",
      "Epoch 3 ------------------------>  Avg training loss: 0.010805, Avg val loss: 0.010748, Validation accuracy: 58.6% \n",
      "\n",
      "Epoch 4 ------------------------>  Avg training loss: 0.010802, Avg val loss: 0.010712, Validation accuracy: 58.6% \n",
      "\n",
      "Epoch 5 ------------------------>  Avg training loss: 0.010801, Avg val loss: 0.010722, Validation accuracy: 58.6% \n",
      "\n",
      "Epoch 6 ------------------------>  Avg training loss: 0.010804, Avg val loss: 0.010715, Validation accuracy: 58.6% \n",
      "\n",
      "Epoch 7 ------------------------>  Avg training loss: 0.010802, Avg val loss: 0.010726, Validation accuracy: 58.6% \n",
      "\n",
      "Epoch 8 ------------------------>  Avg training loss: 0.010802, Avg val loss: 0.010752, Validation accuracy: 58.6% \n",
      "\n",
      "Epoch 9 ------------------------>  Avg training loss: 0.010799, Avg val loss: 0.010717, Validation accuracy: 58.6% \n",
      "\n",
      "Epoch 10 ------------------------>  Avg training loss: 0.010801, Avg val loss: 0.010693, Validation accuracy: 58.6% \n",
      "\n",
      "Epoch 11 ------------------------>  Avg training loss: 0.010798, Avg val loss: 0.010768, Validation accuracy: 58.6% \n",
      "\n",
      "Epoch 12 ------------------------>  Avg training loss: 0.010797, Avg val loss: 0.010716, Validation accuracy: 58.6% \n",
      "\n",
      "Epoch 13 ------------------------>  Avg training loss: 0.010798, Avg val loss: 0.010731, Validation accuracy: 58.6% \n",
      "\n",
      "Epoch 14 ------------------------>  Avg training loss: 0.010797, Avg val loss: 0.010728, Validation accuracy: 58.6% \n",
      "\n",
      "Epoch 15 ------------------------>  Avg training loss: 0.010799, Avg val loss: 0.010736, Validation accuracy: 58.6% \n",
      "\n",
      "Epoch 16 ------------------------>  Avg training loss: 0.010797, Avg val loss: 0.010694, Validation accuracy: 58.6% \n",
      "\n",
      "Epoch 17 ------------------------>  Avg training loss: 0.010802, Avg val loss: 0.010721, Validation accuracy: 58.6% \n",
      "\n",
      "Epoch 18 ------------------------>  Avg training loss: 0.010796, Avg val loss: 0.010736, Validation accuracy: 58.6% \n",
      "\n",
      "Epoch 19 ------------------------>  Avg training loss: 0.010795, Avg val loss: 0.010711, Validation accuracy: 58.6% \n",
      "\n",
      "Epoch 20 ------------------------>  Avg training loss: 0.010802, Avg val loss: 0.010719, Validation accuracy: 58.6% \n",
      "\n",
      "Epoch 21 ------------------------>  Avg training loss: 0.010797, Avg val loss: 0.010741, Validation accuracy: 58.6% \n",
      "\n",
      "Epoch 22 ------------------------>  Avg training loss: 0.010795, Avg val loss: 0.010713, Validation accuracy: 58.6% \n",
      "\n",
      "Epoch 23 ------------------------>  Avg training loss: 0.010793, Avg val loss: 0.010677, Validation accuracy: 58.6% \n",
      "\n",
      "Epoch 24 ------------------------>  Avg training loss: 0.010795, Avg val loss: 0.010725, Validation accuracy: 58.6% \n",
      "\n",
      "Epoch 25 ------------------------>  Avg training loss: 0.010802, Avg val loss: 0.010708, Validation accuracy: 58.6% \n",
      "\n",
      "Epoch 26 ------------------------>  Avg training loss: 0.010795, Avg val loss: 0.010719, Validation accuracy: 58.6% \n",
      "\n",
      "Epoch 27 ------------------------>  Avg training loss: 0.010794, Avg val loss: 0.010713, Validation accuracy: 58.6% \n",
      "\n",
      "Epoch 28 ------------------------>  Avg training loss: 0.010794, Avg val loss: 0.010740, Validation accuracy: 58.6% \n",
      "\n",
      "Epoch 29 ------------------------>  Avg training loss: 0.010795, Avg val loss: 0.010691, Validation accuracy: 58.6% \n",
      "\n",
      "Epoch 30 ------------------------>  Avg training loss: 0.010794, Avg val loss: 0.010707, Validation accuracy: 58.6% \n",
      "\n",
      "Epoch 31 ------------------------>  Avg training loss: 0.010793, Avg val loss: 0.010703, Validation accuracy: 58.6% \n",
      "\n",
      "Epoch 32 ------------------------>  Avg training loss: 0.010793, Avg val loss: 0.010726, Validation accuracy: 58.6% \n",
      "\n",
      "Epoch 33 ------------------------>  Avg training loss: 0.010796, Avg val loss: 0.010734, Validation accuracy: 58.6% \n",
      "\n",
      "Epoch 34 ------------------------>  Avg training loss: 0.010794, Avg val loss: 0.010726, Validation accuracy: 58.6% \n",
      "\n",
      "Epoch 35 ------------------------>  Avg training loss: 0.010796, Avg val loss: 0.010715, Validation accuracy: 58.6% \n",
      "\n",
      "Epoch 36 ------------------------>  Avg training loss: 0.010792, Avg val loss: 0.010716, Validation accuracy: 58.6% \n",
      "\n",
      "Epoch 37 ------------------------>  Avg training loss: 0.010793, Avg val loss: 0.010702, Validation accuracy: 58.6% \n",
      "\n",
      "Epoch 38 ------------------------>  Avg training loss: 0.010790, Avg val loss: 0.010730, Validation accuracy: 58.6% \n",
      "\n",
      "Epoch 39 ------------------------>  Avg training loss: 0.010793, Avg val loss: 0.010721, Validation accuracy: 58.6% \n",
      "\n",
      "Epoch 40 ------------------------>  Avg training loss: 0.010791, Avg val loss: 0.010694, Validation accuracy: 58.6% \n",
      "\n",
      "Epoch 41 ------------------------>  Avg training loss: 0.010792, Avg val loss: 0.010733, Validation accuracy: 58.6% \n",
      "\n",
      "Epoch 42 ------------------------>  Avg training loss: 0.010789, Avg val loss: 0.010698, Validation accuracy: 58.6% \n",
      "\n",
      "Epoch 43 ------------------------>  Avg training loss: 0.010789, Avg val loss: 0.010733, Validation accuracy: 58.6% \n",
      "\n",
      "Epoch 44 ------------------------>  Avg training loss: 0.010786, Avg val loss: 0.010710, Validation accuracy: 58.6% \n",
      "\n",
      "Epoch 45 ------------------------>  Avg training loss: 0.010790, Avg val loss: 0.010733, Validation accuracy: 58.6% \n",
      "\n",
      "Epoch 46 ------------------------>  Avg training loss: 0.010788, Avg val loss: 0.010725, Validation accuracy: 58.6% \n",
      "\n",
      "Epoch 47 ------------------------>  Avg training loss: 0.010788, Avg val loss: 0.010725, Validation accuracy: 58.6% \n",
      "\n",
      "Epoch 48 ------------------------>  Avg training loss: 0.010791, Avg val loss: 0.010752, Validation accuracy: 58.6% \n",
      "\n",
      "Epoch 49 ------------------------>  Avg training loss: 0.010789, Avg val loss: 0.010725, Validation accuracy: 58.6% \n",
      "\n",
      "Epoch 50 ------------------------>  Avg training loss: 0.010789, Avg val loss: 0.010731, Validation accuracy: 58.6% \n",
      "\n",
      "Epoch 51 ------------------------>  Avg training loss: 0.010784, Avg val loss: 0.010739, Validation accuracy: 58.6% \n",
      "\n",
      "Epoch 52 ------------------------>  Avg training loss: 0.010788, Avg val loss: 0.010723, Validation accuracy: 58.6% \n",
      "\n",
      "Epoch 53 ------------------------>  Avg training loss: 0.010788, Avg val loss: 0.010725, Validation accuracy: 58.6% \n",
      "\n",
      "Epoch 54 ------------------------>  Avg training loss: 0.010787, Avg val loss: 0.010732, Validation accuracy: 58.6% \n",
      "\n",
      "Epoch 55 ------------------------>  Avg training loss: 0.010791, Avg val loss: 0.010729, Validation accuracy: 58.6% \n",
      "\n",
      "Epoch 56 ------------------------>  Avg training loss: 0.010788, Avg val loss: 0.010698, Validation accuracy: 58.6% \n",
      "\n",
      "Epoch 57 ------------------------>  Avg training loss: 0.010789, Avg val loss: 0.010700, Validation accuracy: 58.6% \n",
      "\n",
      "Epoch 58 ------------------------>  Avg training loss: 0.010788, Avg val loss: 0.010721, Validation accuracy: 58.6% \n",
      "\n",
      "Epoch 59 ------------------------>  Avg training loss: 0.010792, Avg val loss: 0.010716, Validation accuracy: 58.6% \n",
      "\n",
      "Epoch 60 ------------------------>  Avg training loss: 0.010786, Avg val loss: 0.010706, Validation accuracy: 58.6% \n",
      "\n",
      "Epoch 61 ------------------------>  Avg training loss: 0.010791, Avg val loss: 0.010740, Validation accuracy: 58.6% \n",
      "\n",
      "Epoch 62 ------------------------>  Avg training loss: 0.010787, Avg val loss: 0.010698, Validation accuracy: 58.6% \n",
      "\n",
      "Epoch 63 ------------------------>  Avg training loss: 0.010789, Avg val loss: 0.010728, Validation accuracy: 58.6% \n",
      "\n",
      "Epoch 64 ------------------------>  Avg training loss: 0.010784, Avg val loss: 0.010741, Validation accuracy: 58.6% \n",
      "\n",
      "Epoch 65 ------------------------>  Avg training loss: 0.010785, Avg val loss: 0.010710, Validation accuracy: 58.6% \n",
      "\n",
      "Epoch 66 ------------------------>  Avg training loss: 0.010788, Avg val loss: 0.010726, Validation accuracy: 58.6% \n",
      "\n",
      "Epoch 67 ------------------------>  Avg training loss: 0.010783, Avg val loss: 0.010737, Validation accuracy: 58.8% \n",
      "\n",
      "Epoch 68 ------------------------>  Avg training loss: 0.010786, Avg val loss: 0.010726, Validation accuracy: 58.6% \n",
      "\n",
      "Epoch 69 ------------------------>  Avg training loss: 0.010788, Avg val loss: 0.010722, Validation accuracy: 58.6% \n",
      "\n",
      "Epoch 70 ------------------------>  Avg training loss: 0.010785, Avg val loss: 0.010717, Validation accuracy: 58.6% \n",
      "\n",
      "Epoch 71 ------------------------>  Avg training loss: 0.010785, Avg val loss: 0.010708, Validation accuracy: 58.6% \n",
      "\n",
      "Epoch 72 ------------------------>  Avg training loss: 0.010786, Avg val loss: 0.010708, Validation accuracy: 58.7% \n",
      "\n",
      "Epoch 73 ------------------------>  Avg training loss: 0.010785, Avg val loss: 0.010707, Validation accuracy: 58.6% \n",
      "\n",
      "Epoch 74 ------------------------>  Avg training loss: 0.010790, Avg val loss: 0.010703, Validation accuracy: 58.6% \n",
      "\n",
      "Epoch 75 ------------------------>  Avg training loss: 0.010791, Avg val loss: 0.010726, Validation accuracy: 58.6% \n",
      "\n",
      "Epoch 76 ------------------------>  Avg training loss: 0.010783, Avg val loss: 0.010731, Validation accuracy: 58.7% \n",
      "\n",
      "Epoch 77 ------------------------>  Avg training loss: 0.010788, Avg val loss: 0.010720, Validation accuracy: 58.7% \n",
      "\n",
      "Epoch 78 ------------------------>  Avg training loss: 0.010781, Avg val loss: 0.010713, Validation accuracy: 58.6% \n",
      "\n",
      "Epoch 79 ------------------------>  Avg training loss: 0.010788, Avg val loss: 0.010710, Validation accuracy: 58.6% \n",
      "\n",
      "Epoch 80 ------------------------>  Avg training loss: 0.010781, Avg val loss: 0.010725, Validation accuracy: 58.5% \n",
      "\n",
      "Epoch 81 ------------------------>  Avg training loss: 0.010788, Avg val loss: 0.010726, Validation accuracy: 58.6% \n",
      "\n",
      "Epoch 82 ------------------------>  Avg training loss: 0.010785, Avg val loss: 0.010746, Validation accuracy: 58.8% \n",
      "\n",
      "Epoch 83 ------------------------>  Avg training loss: 0.010781, Avg val loss: 0.010716, Validation accuracy: 58.6% \n",
      "\n",
      "Epoch 84 ------------------------>  Avg training loss: 0.010783, Avg val loss: 0.010703, Validation accuracy: 58.7% \n",
      "\n",
      "Epoch 85 ------------------------>  Avg training loss: 0.010784, Avg val loss: 0.010737, Validation accuracy: 58.4% \n",
      "\n",
      "Epoch 86 ------------------------>  Avg training loss: 0.010784, Avg val loss: 0.010693, Validation accuracy: 58.5% \n",
      "\n",
      "Epoch 87 ------------------------>  Avg training loss: 0.010785, Avg val loss: 0.010750, Validation accuracy: 58.6% \n",
      "\n",
      "Epoch 88 ------------------------>  Avg training loss: 0.010785, Avg val loss: 0.010721, Validation accuracy: 58.7% \n",
      "\n",
      "Epoch 89 ------------------------>  Avg training loss: 0.010784, Avg val loss: 0.010693, Validation accuracy: 58.7% \n",
      "\n",
      "Epoch 90 ------------------------>  Avg training loss: 0.010786, Avg val loss: 0.010721, Validation accuracy: 58.7% \n",
      "\n",
      "Epoch 91 ------------------------>  Avg training loss: 0.010784, Avg val loss: 0.010720, Validation accuracy: 58.6% \n",
      "\n",
      "Epoch 92 ------------------------>  Avg training loss: 0.010789, Avg val loss: 0.010728, Validation accuracy: 58.6% \n",
      "\n",
      "Epoch 93 ------------------------>  Avg training loss: 0.010781, Avg val loss: 0.010718, Validation accuracy: 58.6% \n",
      "\n",
      "Epoch 94 ------------------------>  Avg training loss: 0.010783, Avg val loss: 0.010731, Validation accuracy: 58.4% \n",
      "\n",
      "Epoch 95 ------------------------>  Avg training loss: 0.010784, Avg val loss: 0.010697, Validation accuracy: 58.6% \n",
      "\n",
      "Epoch 96 ------------------------>  Avg training loss: 0.010784, Avg val loss: 0.010712, Validation accuracy: 58.6% \n",
      "\n",
      "Epoch 97 ------------------------>  Avg training loss: 0.010785, Avg val loss: 0.010703, Validation accuracy: 58.4% \n",
      "\n",
      "Epoch 98 ------------------------>  Avg training loss: 0.010787, Avg val loss: 0.010732, Validation accuracy: 58.6% \n",
      "\n",
      "Epoch 99 ------------------------>  Avg training loss: 0.010781, Avg val loss: 0.010711, Validation accuracy: 58.5% \n",
      "\n",
      "Epoch 100 ------------------------>  Avg training loss: 0.010781, Avg val loss: 0.010701, Validation accuracy: 58.6% \n",
      "\n",
      "Done!\n"
     ]
    }
   ],
   "source": [
    "#training\n",
    "epochs = 50\n",
    "\n",
    "for t in range(epochs):\n",
    "    print(f\"Epoch {t+1} ------------------------>  \", end='')\n",
    "    avg_loss = train_loop(train_dataloader, model, loss_fn, optimizer)\n",
    "    avg_vloss, correct = test_loop(val_dataloader, model, loss_fn, batch_size=64)\n",
    "    \n",
    "    writer.add_scalars('Training vs. Validation Loss',\n",
    "                    { 'Training' : avg_loss, 'Validation' : avg_vloss },\n",
    "                    t + 1)\n",
    "    writer.flush()\n",
    "print(\"Done!\")"
   ]
  },
  {
   "cell_type": "code",
   "execution_count": 54,
   "id": "b7657c33-84ed-4b72-b224-e99365b5c8f8",
   "metadata": {},
   "outputs": [],
   "source": [
    "logits = model.predict(x_val)\n",
    "metric = anlayse_binary(logits, y_val.cpu().detach().numpy().astype(\"int\"))"
   ]
  },
  {
   "cell_type": "code",
   "execution_count": 55,
   "id": "e19aeb28-7c6f-407b-a57c-ae032571fd85",
   "metadata": {},
   "outputs": [
    {
     "data": {
      "text/plain": [
       "(array([   5.,   32.,  104.,  762., 2094., 1760.,  891.,  534.,  229.,\n",
       "          30.]),\n",
       " array([0.46660107, 0.48035562, 0.49411017, 0.50786471, 0.52161926,\n",
       "        0.53537381, 0.54912835, 0.5628829 , 0.57663745, 0.59039199,\n",
       "        0.60414654]),\n",
       " <BarContainer object of 10 artists>)"
      ]
     },
     "execution_count": 55,
     "metadata": {},
     "output_type": "execute_result"
    },
    {
     "data": {
      "image/png": "[encoded data removed]",
      "text/plain": [
       "<Figure size 640x480 with 1 Axes>"
      ]
     },
     "metadata": {},
     "output_type": "display_data"
    }
   ],
   "source": [
    "plt.hist(logits)"
   ]
  },
  {
   "cell_type": "code",
   "execution_count": 56,
   "id": "e52765aa-2c56-477b-9b81-8f6ec8fbdb87",
   "metadata": {},
   "outputs": [
    {
     "data": {
      "image/png": "[encoded data removed]",
      "text/plain": [
       "<Figure size 640x480 with 2 Axes>"
      ]
     },
     "metadata": {},
     "output_type": "display_data"
    },
    {
     "name": "stdout",
     "output_type": "stream",
     "text": [
      "              precision    recall  f1-score   support\n",
      "\n",
      "           0       0.52      0.01      0.03      2668\n",
      "           1       0.59      0.99      0.74      3773\n",
      "\n",
      "    accuracy                           0.59      6441\n",
      "   macro avg       0.55      0.50      0.38      6441\n",
      "weighted avg       0.56      0.59      0.44      6441\n",
      "\n"
     ]
    }
   ],
   "source": [
    "metric.binarise(0.50)\n",
    "metric.show_cf()"
   ]
  },
  {
   "cell_type": "code",
   "execution_count": 57,
   "id": "75dfc7f0-2896-4577-87dc-fd22ce0c7d4b",
   "metadata": {
    "tags": []
   },
   "outputs": [],
   "source": [
    "metric.threshold_range(start=0.5,end=0.6)"
   ]
  },
  {
   "cell_type": "code",
   "execution_count": 58,
   "id": "bb8131b2-7ed2-4cc3-ad06-42c92192fd63",
   "metadata": {},
   "outputs": [
    {
     "data": {
      "image/png": "[encoded data removed]",
      "text/plain": [
       "<Figure size 640x480 with 1 Axes>"
      ]
     },
     "metadata": {},
     "output_type": "display_data"
    }
   ],
   "source": [
    "metric.graph_metric(\"f1-score\")"
   ]
  },
  {
   "cell_type": "code",
   "execution_count": 59,
   "id": "424b8609-4718-4966-9fb8-7d2fb87d30ee",
   "metadata": {},
   "outputs": [
    {
     "data": {
      "image/png": "[encoded data removed]",
      "text/plain": [
       "<Figure size 640x480 with 1 Axes>"
      ]
     },
     "metadata": {},
     "output_type": "display_data"
    }
   ],
   "source": [
    "metric.graph_metric(\"accuracy\")"
   ]
  },
  {
   "cell_type": "code",
   "execution_count": 60,
   "id": "077cc640-7aad-4a67-9f04-98903c647f8b",
   "metadata": {},
   "outputs": [
    {
     "data": {
      "image/png": "[encoded data removed]",
      "text/plain": [
       "<Figure size 640x480 with 1 Axes>"
      ]
     },
     "metadata": {},
     "output_type": "display_data"
    }
   ],
   "source": [
    "metric.graph_metric(\"precision\")"
   ]
  },
  {
   "cell_type": "code",
   "execution_count": 61,
   "id": "1351ecbd-d2e4-4c53-8bd0-8e986c25cfcb",
   "metadata": {},
   "outputs": [
    {
     "data": {
      "image/png": "[encoded data removed]",
      "text/plain": [
       "<Figure size 640x480 with 1 Axes>"
      ]
     },
     "metadata": {},
     "output_type": "display_data"
    }
   ],
   "source": [
    "metric.graph_metric(\"recall\")"
   ]
  },
  {
   "cell_type": "code",
   "execution_count": null,
   "id": "3979c6eb-c4d3-43c8-ab7e-ed68dd1afdf3",
   "metadata": {},
   "outputs": [],
   "source": []
  }
 ],
 "metadata": {
  "kernelspec": {
   "display_name": "trading_environment",
   "language": "python",
   "name": "trading_environment"
  },
  "language_info": {
   "codemirror_mode": {
    "name": "ipython",
    "version": 3
   },
   "file_extension": ".py",
   "mimetype": "text/x-python",
   "name": "python",
   "nbconvert_exporter": "python",
   "pygments_lexer": "ipython3",
   "version": "3.10.9"
  }
 },
 "nbformat": 4,
 "nbformat_minor": 5
}
