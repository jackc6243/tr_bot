{
 "cells": [
  {
   "cell_type": "code",
   "execution_count": 54,
   "id": "ddd5bcad-8f2e-447f-8884-a50478180de4",
   "metadata": {},
   "outputs": [],
   "source": [
    "import pandas as pd\n",
    "import numpy as np\n",
    "import tensorflow as tf\n",
    "from y_engineering import *\n",
    "from Indicators import *\n",
    "import matplotlib.pyplot as plt"
   ]
  },
  {
   "cell_type": "code",
   "execution_count": 7,
   "id": "168d0510-fb18-4471-a8e4-c91c03c10690",
   "metadata": {},
   "outputs": [],
   "source": [
    "df = pd.read_csv(\"appl_clean_train.csv\")"
   ]
  },
  {
   "cell_type": "code",
   "execution_count": 107,
   "id": "b5770e8e-584e-4157-8bd5-31783c8c04bf",
   "metadata": {},
   "outputs": [],
   "source": [
    "df['y_binary'] = df[\"pct\"].apply(lambda x: 1 if x > 0 else 0)"
   ]
  },
  {
   "cell_type": "code",
   "execution_count": 155,
   "id": "e7318811-ba88-442b-a361-7a1a505cad45",
   "metadata": {},
   "outputs": [
    {
     "data": {
      "text/plain": [
       "0        0.789849\n",
       "1        0.800179\n",
       "2        0.822460\n",
       "3        0.828960\n",
       "4        0.824016\n",
       "          ...    \n",
       "4996    62.127544\n",
       "4997    62.300201\n",
       "4998    62.520821\n",
       "4999    62.716276\n",
       "5000    62.846138\n",
       "Name: Adj Close, Length: 5001, dtype: float64"
      ]
     },
     "execution_count": 155,
     "metadata": {},
     "output_type": "execute_result"
    }
   ],
   "source": [
    "ema(df, period=28, column='Adj Close', inplace=True)"
   ]
  },
  {
   "cell_type": "code",
   "execution_count": 158,
   "id": "405eb907-3b52-4b5f-b2b3-0bfb6f196911",
   "metadata": {},
   "outputs": [],
   "source": [
    "df[\"ema_pct\"] = pct_log(df, y_col='ema_28', time_to_pred = 1, pct=True, log=False)"
   ]
  },
  {
   "cell_type": "code",
   "execution_count": 159,
   "id": "7bb51c06-7038-476a-ae76-59ff7adc9b87",
   "metadata": {},
   "outputs": [
    {
     "data": {
      "text/html": [
       "<div>\n",
       "<style scoped>\n",
       "    .dataframe tbody tr th:only-of-type {\n",
       "        vertical-align: middle;\n",
       "    }\n",
       "\n",
       "    .dataframe tbody tr th {\n",
       "        vertical-align: top;\n",
       "    }\n",
       "\n",
       "    .dataframe thead th {\n",
       "        text-align: right;\n",
       "    }\n",
       "</style>\n",
       "<table border=\"1\" class=\"dataframe\">\n",
       "  <thead>\n",
       "    <tr style=\"text-align: right;\">\n",
       "      <th></th>\n",
       "      <th>Adj Close</th>\n",
       "      <th>Volume</th>\n",
       "      <th>pct_log</th>\n",
       "      <th>pct</th>\n",
       "      <th>y_binary</th>\n",
       "      <th>ema_21</th>\n",
       "      <th>ema_pct</th>\n",
       "      <th>ema_28</th>\n",
       "    </tr>\n",
       "  </thead>\n",
       "  <tbody>\n",
       "    <tr>\n",
       "      <th>0</th>\n",
       "      <td>0.789849</td>\n",
       "      <td>459177600</td>\n",
       "      <td>NaN</td>\n",
       "      <td>NaN</td>\n",
       "      <td>0</td>\n",
       "      <td>0.789849</td>\n",
       "      <td>NaN</td>\n",
       "      <td>0.789849</td>\n",
       "    </tr>\n",
       "    <tr>\n",
       "      <th>1</th>\n",
       "      <td>0.809797</td>\n",
       "      <td>597643200</td>\n",
       "      <td>-0.105724</td>\n",
       "      <td>0.025255</td>\n",
       "      <td>1</td>\n",
       "      <td>0.800298</td>\n",
       "      <td>0.013079</td>\n",
       "      <td>0.800179</td>\n",
       "    </tr>\n",
       "    <tr>\n",
       "      <th>2</th>\n",
       "      <td>0.862517</td>\n",
       "      <td>1831132800</td>\n",
       "      <td>-0.298956</td>\n",
       "      <td>0.065103</td>\n",
       "      <td>1</td>\n",
       "      <td>0.823043</td>\n",
       "      <td>0.027844</td>\n",
       "      <td>0.822460</td>\n",
       "    </tr>\n",
       "    <tr>\n",
       "      <th>3</th>\n",
       "      <td>0.845894</td>\n",
       "      <td>495924800</td>\n",
       "      <td>0.131580</td>\n",
       "      <td>-0.019273</td>\n",
       "      <td>0</td>\n",
       "      <td>0.829596</td>\n",
       "      <td>0.007904</td>\n",
       "      <td>0.828960</td>\n",
       "    </tr>\n",
       "    <tr>\n",
       "      <th>4</th>\n",
       "      <td>0.807423</td>\n",
       "      <td>440876800</td>\n",
       "      <td>0.278119</td>\n",
       "      <td>-0.045480</td>\n",
       "      <td>0</td>\n",
       "      <td>0.824279</td>\n",
       "      <td>-0.005964</td>\n",
       "      <td>0.824016</td>\n",
       "    </tr>\n",
       "    <tr>\n",
       "      <th>...</th>\n",
       "      <td>...</td>\n",
       "      <td>...</td>\n",
       "      <td>...</td>\n",
       "      <td>...</td>\n",
       "      <td>...</td>\n",
       "      <td>...</td>\n",
       "      <td>...</td>\n",
       "      <td>...</td>\n",
       "    </tr>\n",
       "    <tr>\n",
       "      <th>4996</th>\n",
       "      <td>65.139717</td>\n",
       "      <td>84020400</td>\n",
       "      <td>0.004179</td>\n",
       "      <td>0.017534</td>\n",
       "      <td>1</td>\n",
       "      <td>63.019752</td>\n",
       "      <td>0.003604</td>\n",
       "      <td>62.127544</td>\n",
       "    </tr>\n",
       "    <tr>\n",
       "      <th>4997</th>\n",
       "      <td>64.631065</td>\n",
       "      <td>105207600</td>\n",
       "      <td>-0.001877</td>\n",
       "      <td>-0.007809</td>\n",
       "      <td>0</td>\n",
       "      <td>63.166235</td>\n",
       "      <td>0.002779</td>\n",
       "      <td>62.300201</td>\n",
       "    </tr>\n",
       "    <tr>\n",
       "      <th>4998</th>\n",
       "      <td>65.499199</td>\n",
       "      <td>65235600</td>\n",
       "      <td>0.003201</td>\n",
       "      <td>0.013432</td>\n",
       "      <td>1</td>\n",
       "      <td>63.378322</td>\n",
       "      <td>0.003541</td>\n",
       "      <td>62.520821</td>\n",
       "    </tr>\n",
       "    <tr>\n",
       "      <th>4999</th>\n",
       "      <td>65.354912</td>\n",
       "      <td>46617600</td>\n",
       "      <td>-0.000527</td>\n",
       "      <td>-0.002203</td>\n",
       "      <td>0</td>\n",
       "      <td>63.558012</td>\n",
       "      <td>0.003126</td>\n",
       "      <td>62.716276</td>\n",
       "    </tr>\n",
       "    <tr>\n",
       "      <th>5000</th>\n",
       "      <td>64.599274</td>\n",
       "      <td>94487200</td>\n",
       "      <td>-0.002782</td>\n",
       "      <td>-0.011562</td>\n",
       "      <td>0</td>\n",
       "      <td>63.652672</td>\n",
       "      <td>0.002071</td>\n",
       "      <td>62.846138</td>\n",
       "    </tr>\n",
       "  </tbody>\n",
       "</table>\n",
       "<p>5001 rows × 8 columns</p>\n",
       "</div>"
      ],
      "text/plain": [
       "      Adj Close      Volume   pct_log       pct  y_binary     ema_21  \\\n",
       "0      0.789849   459177600       NaN       NaN         0   0.789849   \n",
       "1      0.809797   597643200 -0.105724  0.025255         1   0.800298   \n",
       "2      0.862517  1831132800 -0.298956  0.065103         1   0.823043   \n",
       "3      0.845894   495924800  0.131580 -0.019273         0   0.829596   \n",
       "4      0.807423   440876800  0.278119 -0.045480         0   0.824279   \n",
       "...         ...         ...       ...       ...       ...        ...   \n",
       "4996  65.139717    84020400  0.004179  0.017534         1  63.019752   \n",
       "4997  64.631065   105207600 -0.001877 -0.007809         0  63.166235   \n",
       "4998  65.499199    65235600  0.003201  0.013432         1  63.378322   \n",
       "4999  65.354912    46617600 -0.000527 -0.002203         0  63.558012   \n",
       "5000  64.599274    94487200 -0.002782 -0.011562         0  63.652672   \n",
       "\n",
       "       ema_pct     ema_28  \n",
       "0          NaN   0.789849  \n",
       "1     0.013079   0.800179  \n",
       "2     0.027844   0.822460  \n",
       "3     0.007904   0.828960  \n",
       "4    -0.005964   0.824016  \n",
       "...        ...        ...  \n",
       "4996  0.003604  62.127544  \n",
       "4997  0.002779  62.300201  \n",
       "4998  0.003541  62.520821  \n",
       "4999  0.003126  62.716276  \n",
       "5000  0.002071  62.846138  \n",
       "\n",
       "[5001 rows x 8 columns]"
      ]
     },
     "execution_count": 159,
     "metadata": {},
     "output_type": "execute_result"
    }
   ],
   "source": [
    "df"
   ]
  },
  {
   "cell_type": "code",
   "execution_count": 9,
   "id": "645a37d3-8a7f-44b7-851a-13987d491cd3",
   "metadata": {},
   "outputs": [],
   "source": [
    "def get_ordered_index(df, period_to_skip=31, val_split_ratio=0.2, period_from_end_skip=0):\n",
    "    # get ordered dates split into train, val and test based on index\n",
    "    all_dates = list(df.index)\n",
    "    train = int(len(all_dates)*(1-val_split_ratio))\n",
    "\n",
    "    train_dates = all_dates[period_to_skip:train]\n",
    "    val_dates = all_dates[train:]\n",
    "    return train_dates, val_dates"
   ]
  },
  {
   "cell_type": "code",
   "execution_count": 10,
   "id": "3ef98f86-2ae2-4154-a539-8ac554f4585a",
   "metadata": {},
   "outputs": [],
   "source": [
    "def get_x(df, y_index, x_col = 'pct', period=3):\n",
    "    return df.loc[y_index-period:y_index-1, x_col]"
   ]
  },
  {
   "cell_type": "code",
   "execution_count": 14,
   "id": "1b2431d0-ecce-4005-ac41-0aaf9d8a6c44",
   "metadata": {},
   "outputs": [],
   "source": [
    "def get_xy(df, period, x_col = 'pct', y_col='pct', val_split_ratio=0.2):\n",
    "    train_i, val_i = get_ordered_index(df, period_to_skip=period+1, val_split_ratio=0.2)\n",
    "    x_train = np.zeros((len(train_i),period))\n",
    "    x_val = np.zeros((len(val_i),period))\n",
    "\n",
    "    y_train = np.array(df.loc[train_i, y_col])\n",
    "    y_val = np.array(df.loc[val_i, y_col])\n",
    "\n",
    "    for i in range(len(train_i)):\n",
    "        temp = np.array(get_x(df, train_i[i], x_col = x_col, period=period))\n",
    "        x_train[i, :] = temp\n",
    "\n",
    "    for i in range(len(val_i)):\n",
    "        temp = np.array(get_x(df, val_i[i], x_col = x_col, period=period))\n",
    "        x_val[i, :] = temp\n",
    "\n",
    "    return x_train, y_train, x_val, y_val"
   ]
  },
  {
   "cell_type": "code",
   "execution_count": 20,
   "id": "e3eb1a48-540a-49af-b0f4-8c4dc028ac91",
   "metadata": {},
   "outputs": [
    {
     "data": {
      "text/plain": [
       "((3978, 21), (3978,), (1001, 21), (1001,))"
      ]
     },
     "execution_count": 20,
     "metadata": {},
     "output_type": "execute_result"
    }
   ],
   "source": [
    "x_train.shape, y_train.shape, x_val.shape, y_val.shape"
   ]
  },
  {
   "cell_type": "code",
   "execution_count": 23,
   "id": "2ca9df27-969c-40a1-848a-7e16b35525ee",
   "metadata": {},
   "outputs": [
    {
     "data": {
      "text/plain": [
       "(array([ 0.02525546,  0.06510274, -0.01927266, -0.04547969,  0.05646978,\n",
       "        -0.01837359, -0.00170181, -0.07613647,  0.02090962, -0.03373439,\n",
       "        -0.01433921,  0.04554117,  0.04537129,  0.05613479,  0.00712397,\n",
       "        -0.01958722,  0.00776872, -0.04184961,  0.06494148,  0.02752332,\n",
       "        -0.0409659 ]),\n",
       " 0.0065723704464715)"
      ]
     },
     "execution_count": 23,
     "metadata": {},
     "output_type": "execute_result"
    }
   ],
   "source": [
    "x_train[0], y_train[0]"
   ]
  },
  {
   "cell_type": "code",
   "execution_count": 27,
   "id": "f0309a70-5e5d-4763-9838-63a6bc159629",
   "metadata": {},
   "outputs": [],
   "source": [
    "from tensorflow.keras import layers\n",
    "from tensorflow import keras"
   ]
  },
  {
   "cell_type": "code",
   "execution_count": 137,
   "id": "31b7aa96-e708-4620-9ca2-2e36aec643e8",
   "metadata": {},
   "outputs": [],
   "source": [
    "period =14\n",
    "x_train, y_train, x_val, y_val = get_xy(df, period, y_col=\"y_binary\")"
   ]
  },
  {
   "cell_type": "code",
   "execution_count": 138,
   "id": "0906dca5-12eb-453b-9a31-4f5477754f16",
   "metadata": {},
   "outputs": [],
   "source": [
    "def basic_cnn_binary(period):\n",
    "        \n",
    "    inputs = tf.keras.Input(shape=(period,1,))\n",
    "    \n",
    "    # x = layers.Conv1D(16, kernel_size=5, strides=3, activation='relu')(inputs)\n",
    "    x = layers.Conv1D(8, kernel_size=3, strides=1, activation='relu')(inputs)\n",
    "    x = layers.Conv1D(1, kernel_size=1, strides=1, activation='relu')(x)\n",
    "    \n",
    "    # x = layers.LSTM(16, return_sequences=True, return_state=True)(x)\n",
    "    x = layers.LSTM(16, return_sequences=False, return_state=False)(x)\n",
    "    \n",
    "    ema_input = tf.keras.Input(\n",
    "    \n",
    "    x = tf.keras.layers.Dense(32)(x)\n",
    "    x = tf.keras.layers.Dense(8)(x)\n",
    "    outputs = tf.keras.layers.Dense(1)(x)\n",
    "    \n",
    "    model = keras.Model(inputs, outputs) \n",
    "    \n",
    "    model.compile(optimizer=tf.keras.optimizers.Adam(learning_rate=1e-3),\n",
    "            loss=tf.keras.losses.BinaryCrossentropy(from_logits=True),\n",
    "            metrics=[tf.keras.metrics.binary_accuracy])\n",
    "    \n",
    "    return model"
   ]
  },
  {
   "cell_type": "code",
   "execution_count": 160,
   "id": "094e54eb-807f-47fb-beb8-a583b9d4646b",
   "metadata": {},
   "outputs": [],
   "source": [
    "def indicator_cnn_binary(period):\n",
    "        \n",
    "    inputs = tf.keras.Input(shape=(period,1,))\n",
    "    \n",
    "    # x = layers.Conv1D(16, kernel_size=5, strides=3, activation='relu')(inputs)\n",
    "    x = layers.Conv1D(8, kernel_size=3, strides=1, activation='relu')(inputs)\n",
    "    x = layers.Conv1D(1, kernel_size=1, strides=1, activation='relu')(x)\n",
    "    \n",
    "    # x = layers.LSTM(16, return_sequences=True, return_state=True)(x)\n",
    "    x = layers.LSTM(16, return_sequences=False, return_state=False)(x)\n",
    "    \n",
    "    inputs_ind = keras.Input(shape=(7,1,))\n",
    "    indicators = layers.Conv1D(8, kernel_size=3, strides=1, activation='relu')(inputs_ind)\n",
    "    indicators = layers.Conv1D(1, kernel_size=1, strides=1, activation='relu')(indicators)\n",
    "    indicators = keras.Model(inputs=inputs_ind, outputs=indicators)\n",
    "    \n",
    "    combined = layers.concatenate([x.output, indicators.output])\n",
    "#     output = layers.Dropout(0.3)(combined)\n",
    "    output = layers.Dense(32, activation=\"relu\",\n",
    "                          activity_regularizer=None)(combined)\n",
    "#     output = layers.Dropout(0.3)(output)\n",
    "    output = layers.Dense(16, activation=\"relu\",\n",
    "                          activity_regularizer=None)(output)\n",
    "    # output = layers.Dropout(0.2)(output)\n",
    "    output = layers.Dense(1, activation=\"linear\")(output)\n",
    "    model_combined = keras.models.Model(\n",
    "        inputs=[x.input, indicators.input],\n",
    "        outputs=output)    \n",
    "    \n",
    "    model_combined.compile(optimizer=tf.keras.optimizers.Adam(learning_rate=1e-3),\n",
    "            loss=tf.keras.losses.BinaryCrossentropy(from_logits=True),\n",
    "            metrics=[tf.keras.metrics.binary_accuracy])\n",
    "    \n",
    "    return model"
   ]
  },
  {
   "cell_type": "code",
   "execution_count": 161,
   "id": "dbde7619-28f7-4e19-8543-fd074b62b2a5",
   "metadata": {},
   "outputs": [
    {
     "name": "stdout",
     "output_type": "stream",
     "text": [
      "Model: \"model_8\"\n",
      "_________________________________________________________________\n",
      " Layer (type)                Output Shape              Param #   \n",
      "=================================================================\n",
      " input_17 (InputLayer)       [(None, 14, 1)]           0         \n",
      "                                                                 \n",
      " conv1d_35 (Conv1D)          (None, 12, 8)             32        \n",
      "                                                                 \n",
      " conv1d_36 (Conv1D)          (None, 12, 1)             9         \n",
      "                                                                 \n",
      " lstm_18 (LSTM)              (None, 16)                1152      \n",
      "                                                                 \n",
      " dense_27 (Dense)            (None, 32)                544       \n",
      "                                                                 \n",
      " dense_28 (Dense)            (None, 8)                 264       \n",
      "                                                                 \n",
      " dense_29 (Dense)            (None, 1)                 9         \n",
      "                                                                 \n",
      "=================================================================\n",
      "Total params: 2,010\n",
      "Trainable params: 2,010\n",
      "Non-trainable params: 0\n",
      "_________________________________________________________________\n"
     ]
    }
   ],
   "source": [
    "model = indicator_cnn_binary(period)\n",
    "model.summary()"
   ]
  },
  {
   "cell_type": "code",
   "execution_count": 139,
   "id": "d5d3fabf-d2e8-468b-b683-af4b5ec7f90b",
   "metadata": {},
   "outputs": [
    {
     "name": "stdout",
     "output_type": "stream",
     "text": [
      "Model: \"model_7\"\n",
      "_________________________________________________________________\n",
      " Layer (type)                Output Shape              Param #   \n",
      "=================================================================\n",
      " input_16 (InputLayer)       [(None, 14, 1)]           0         \n",
      "                                                                 \n",
      " conv1d_33 (Conv1D)          (None, 12, 8)             32        \n",
      "                                                                 \n",
      " conv1d_34 (Conv1D)          (None, 12, 1)             9         \n",
      "                                                                 \n",
      " lstm_17 (LSTM)              (None, 16)                1152      \n",
      "                                                                 \n",
      " dense_24 (Dense)            (None, 32)                544       \n",
      "                                                                 \n",
      " dense_25 (Dense)            (None, 8)                 264       \n",
      "                                                                 \n",
      " dense_26 (Dense)            (None, 1)                 9         \n",
      "                                                                 \n",
      "=================================================================\n",
      "Total params: 2,010\n",
      "Trainable params: 2,010\n",
      "Non-trainable params: 0\n",
      "_________________________________________________________________\n"
     ]
    }
   ],
   "source": [
    "model = basic_cnn_binary(per`iod)\n",
    "model.summary()"
   ]
  },
  {
   "cell_type": "code",
   "execution_count": 140,
   "id": "6678be5c-2ac1-4fc6-a0c4-9774b246d09b",
   "metadata": {
    "collapsed": true,
    "jupyter": {
     "outputs_hidden": true
    },
    "tags": []
   },
   "outputs": [
    {
     "name": "stdout",
     "output_type": "stream",
     "text": [
      "Epoch 1/100\n",
      "13/13 [==============================] - 1s 29ms/step - loss: 0.6927 - accuracy: 0.4815 - val_loss: 0.6939 - val_accuracy: 0.4969\n",
      "Epoch 2/100\n",
      "13/13 [==============================] - 0s 8ms/step - loss: 0.6925 - accuracy: 0.4815 - val_loss: 0.6937 - val_accuracy: 0.4969\n",
      "Epoch 3/100\n",
      "13/13 [==============================] - 0s 8ms/step - loss: 0.6926 - accuracy: 0.4815 - val_loss: 0.6935 - val_accuracy: 0.4969\n",
      "Epoch 4/100\n",
      "13/13 [==============================] - 0s 9ms/step - loss: 0.6925 - accuracy: 0.4815 - val_loss: 0.6937 - val_accuracy: 0.4969\n",
      "Epoch 5/100\n",
      "13/13 [==============================] - 0s 8ms/step - loss: 0.6925 - accuracy: 0.4815 - val_loss: 0.6936 - val_accuracy: 0.4969\n",
      "Epoch 6/100\n",
      "13/13 [==============================] - 0s 8ms/step - loss: 0.6925 - accuracy: 0.4815 - val_loss: 0.6935 - val_accuracy: 0.4969\n",
      "Epoch 7/100\n",
      "13/13 [==============================] - 0s 8ms/step - loss: 0.6927 - accuracy: 0.4815 - val_loss: 0.6935 - val_accuracy: 0.4969\n",
      "Epoch 8/100\n",
      "13/13 [==============================] - 0s 8ms/step - loss: 0.6925 - accuracy: 0.4815 - val_loss: 0.6935 - val_accuracy: 0.4969\n",
      "Epoch 9/100\n",
      "13/13 [==============================] - 0s 8ms/step - loss: 0.6925 - accuracy: 0.4815 - val_loss: 0.6936 - val_accuracy: 0.4969\n",
      "Epoch 10/100\n",
      "13/13 [==============================] - 0s 8ms/step - loss: 0.6925 - accuracy: 0.4815 - val_loss: 0.6935 - val_accuracy: 0.4969\n",
      "Epoch 11/100\n",
      "13/13 [==============================] - 0s 8ms/step - loss: 0.6925 - accuracy: 0.4815 - val_loss: 0.6938 - val_accuracy: 0.4969\n",
      "Epoch 12/100\n",
      "13/13 [==============================] - 0s 8ms/step - loss: 0.6925 - accuracy: 0.4815 - val_loss: 0.6935 - val_accuracy: 0.4969\n",
      "Epoch 13/100\n",
      "13/13 [==============================] - 0s 8ms/step - loss: 0.6926 - accuracy: 0.4815 - val_loss: 0.6935 - val_accuracy: 0.4969\n",
      "Epoch 14/100\n",
      "13/13 [==============================] - 0s 8ms/step - loss: 0.6928 - accuracy: 0.4815 - val_loss: 0.6940 - val_accuracy: 0.4969\n",
      "Epoch 15/100\n",
      "13/13 [==============================] - 0s 8ms/step - loss: 0.6926 - accuracy: 0.4815 - val_loss: 0.6935 - val_accuracy: 0.4969\n",
      "Epoch 16/100\n",
      "13/13 [==============================] - 0s 8ms/step - loss: 0.6924 - accuracy: 0.4815 - val_loss: 0.6935 - val_accuracy: 0.4969\n",
      "Epoch 17/100\n",
      "13/13 [==============================] - 0s 8ms/step - loss: 0.6925 - accuracy: 0.4815 - val_loss: 0.6936 - val_accuracy: 0.4969\n",
      "Epoch 18/100\n",
      "13/13 [==============================] - 0s 8ms/step - loss: 0.6924 - accuracy: 0.4815 - val_loss: 0.6935 - val_accuracy: 0.4969\n",
      "Epoch 19/100\n",
      "13/13 [==============================] - 0s 8ms/step - loss: 0.6924 - accuracy: 0.4815 - val_loss: 0.6939 - val_accuracy: 0.4969\n",
      "Epoch 20/100\n",
      "13/13 [==============================] - 0s 8ms/step - loss: 0.6924 - accuracy: 0.4815 - val_loss: 0.6934 - val_accuracy: 0.4969\n",
      "Epoch 21/100\n",
      "13/13 [==============================] - 0s 8ms/step - loss: 0.6924 - accuracy: 0.4815 - val_loss: 0.6937 - val_accuracy: 0.4969\n",
      "Epoch 22/100\n",
      "13/13 [==============================] - 0s 8ms/step - loss: 0.6922 - accuracy: 0.4815 - val_loss: 0.6937 - val_accuracy: 0.4969\n",
      "Epoch 23/100\n",
      "13/13 [==============================] - 0s 8ms/step - loss: 0.6922 - accuracy: 0.4815 - val_loss: 0.6934 - val_accuracy: 0.4969\n",
      "Epoch 24/100\n",
      "13/13 [==============================] - 0s 8ms/step - loss: 0.6919 - accuracy: 0.4815 - val_loss: 0.6937 - val_accuracy: 0.4969\n",
      "Epoch 25/100\n",
      "13/13 [==============================] - 0s 8ms/step - loss: 0.6918 - accuracy: 0.4815 - val_loss: 0.6958 - val_accuracy: 0.4969\n",
      "Epoch 26/100\n",
      "13/13 [==============================] - 0s 8ms/step - loss: 0.6921 - accuracy: 0.4815 - val_loss: 0.6937 - val_accuracy: 0.4969\n",
      "Epoch 27/100\n",
      "13/13 [==============================] - 0s 8ms/step - loss: 0.6913 - accuracy: 0.4815 - val_loss: 0.6946 - val_accuracy: 0.4969\n",
      "Epoch 28/100\n",
      "13/13 [==============================] - 0s 8ms/step - loss: 0.6907 - accuracy: 0.4815 - val_loss: 0.6935 - val_accuracy: 0.4969\n",
      "Epoch 29/100\n",
      "13/13 [==============================] - 0s 8ms/step - loss: 0.6932 - accuracy: 0.4815 - val_loss: 0.6952 - val_accuracy: 0.4969\n",
      "Epoch 30/100\n",
      "13/13 [==============================] - 0s 8ms/step - loss: 0.6910 - accuracy: 0.4815 - val_loss: 0.6934 - val_accuracy: 0.4969\n",
      "Epoch 31/100\n",
      "13/13 [==============================] - 0s 8ms/step - loss: 0.6912 - accuracy: 0.4815 - val_loss: 0.6963 - val_accuracy: 0.4969\n",
      "Epoch 32/100\n",
      "13/13 [==============================] - 0s 9ms/step - loss: 0.6905 - accuracy: 0.4815 - val_loss: 0.6941 - val_accuracy: 0.4969\n",
      "Epoch 33/100\n",
      "13/13 [==============================] - 0s 8ms/step - loss: 0.6906 - accuracy: 0.4815 - val_loss: 0.6972 - val_accuracy: 0.4969\n",
      "Epoch 34/100\n",
      "13/13 [==============================] - 0s 8ms/step - loss: 0.6904 - accuracy: 0.4815 - val_loss: 0.6977 - val_accuracy: 0.4969\n",
      "Epoch 35/100\n",
      "13/13 [==============================] - 0s 8ms/step - loss: 0.6905 - accuracy: 0.4815 - val_loss: 0.6965 - val_accuracy: 0.4969\n",
      "Epoch 36/100\n",
      "13/13 [==============================] - 0s 8ms/step - loss: 0.6905 - accuracy: 0.4815 - val_loss: 0.6945 - val_accuracy: 0.4969\n",
      "Epoch 37/100\n",
      "13/13 [==============================] - 0s 8ms/step - loss: 0.6915 - accuracy: 0.4815 - val_loss: 0.6937 - val_accuracy: 0.4969\n",
      "Epoch 38/100\n",
      "13/13 [==============================] - 0s 8ms/step - loss: 0.6915 - accuracy: 0.4815 - val_loss: 0.6975 - val_accuracy: 0.4969\n",
      "Epoch 39/100\n",
      "13/13 [==============================] - 0s 8ms/step - loss: 0.6910 - accuracy: 0.4815 - val_loss: 0.6945 - val_accuracy: 0.4969\n",
      "Epoch 40/100\n",
      "13/13 [==============================] - 0s 8ms/step - loss: 0.6915 - accuracy: 0.4815 - val_loss: 0.6953 - val_accuracy: 0.4969\n",
      "Epoch 41/100\n",
      "13/13 [==============================] - 0s 8ms/step - loss: 0.6916 - accuracy: 0.4815 - val_loss: 0.6961 - val_accuracy: 0.4969\n",
      "Epoch 42/100\n",
      "13/13 [==============================] - 0s 8ms/step - loss: 0.6913 - accuracy: 0.4815 - val_loss: 0.6955 - val_accuracy: 0.4969\n",
      "Epoch 43/100\n",
      "13/13 [==============================] - 0s 8ms/step - loss: 0.6913 - accuracy: 0.4815 - val_loss: 0.6945 - val_accuracy: 0.4969\n",
      "Epoch 44/100\n",
      "13/13 [==============================] - 0s 8ms/step - loss: 0.6905 - accuracy: 0.4815 - val_loss: 0.6969 - val_accuracy: 0.4969\n",
      "Epoch 45/100\n",
      "13/13 [==============================] - 0s 8ms/step - loss: 0.6908 - accuracy: 0.4815 - val_loss: 0.6945 - val_accuracy: 0.4969\n",
      "Epoch 46/100\n",
      "13/13 [==============================] - 0s 8ms/step - loss: 0.6904 - accuracy: 0.4815 - val_loss: 0.6963 - val_accuracy: 0.4969\n",
      "Epoch 47/100\n",
      "13/13 [==============================] - 0s 8ms/step - loss: 0.6913 - accuracy: 0.4815 - val_loss: 0.6944 - val_accuracy: 0.4969\n",
      "Epoch 48/100\n",
      "13/13 [==============================] - 0s 8ms/step - loss: 0.6917 - accuracy: 0.4815 - val_loss: 0.6948 - val_accuracy: 0.4969\n",
      "Epoch 49/100\n",
      "13/13 [==============================] - 0s 8ms/step - loss: 0.6916 - accuracy: 0.4815 - val_loss: 0.6964 - val_accuracy: 0.4969\n",
      "Epoch 50/100\n",
      "13/13 [==============================] - 0s 8ms/step - loss: 0.6909 - accuracy: 0.4815 - val_loss: 0.6944 - val_accuracy: 0.4969\n",
      "Epoch 51/100\n",
      "13/13 [==============================] - 0s 8ms/step - loss: 0.6903 - accuracy: 0.4815 - val_loss: 0.6954 - val_accuracy: 0.4969\n",
      "Epoch 52/100\n",
      "13/13 [==============================] - 0s 12ms/step - loss: 0.6901 - accuracy: 0.4815 - val_loss: 0.6959 - val_accuracy: 0.4969\n",
      "Epoch 53/100\n",
      "13/13 [==============================] - 0s 8ms/step - loss: 0.6905 - accuracy: 0.4815 - val_loss: 0.6951 - val_accuracy: 0.4969\n",
      "Epoch 54/100\n",
      "13/13 [==============================] - 0s 8ms/step - loss: 0.6914 - accuracy: 0.4815 - val_loss: 0.6993 - val_accuracy: 0.4969\n",
      "Epoch 55/100\n",
      "13/13 [==============================] - 0s 8ms/step - loss: 0.6909 - accuracy: 0.4815 - val_loss: 0.6946 - val_accuracy: 0.4969\n",
      "Epoch 56/100\n",
      "13/13 [==============================] - 0s 8ms/step - loss: 0.6904 - accuracy: 0.4815 - val_loss: 0.6964 - val_accuracy: 0.4969\n",
      "Epoch 57/100\n",
      "13/13 [==============================] - 0s 8ms/step - loss: 0.6905 - accuracy: 0.4815 - val_loss: 0.6958 - val_accuracy: 0.4969\n",
      "Epoch 58/100\n",
      "13/13 [==============================] - 0s 8ms/step - loss: 0.6902 - accuracy: 0.4815 - val_loss: 0.6966 - val_accuracy: 0.4969\n",
      "Epoch 59/100\n",
      "13/13 [==============================] - 0s 8ms/step - loss: 0.6906 - accuracy: 0.4815 - val_loss: 0.6960 - val_accuracy: 0.4969\n",
      "Epoch 60/100\n",
      "13/13 [==============================] - 0s 8ms/step - loss: 0.6905 - accuracy: 0.4815 - val_loss: 0.6963 - val_accuracy: 0.4969\n",
      "Epoch 61/100\n",
      "13/13 [==============================] - 0s 8ms/step - loss: 0.6906 - accuracy: 0.4815 - val_loss: 0.6961 - val_accuracy: 0.4969\n",
      "Epoch 62/100\n",
      "13/13 [==============================] - 0s 8ms/step - loss: 0.6908 - accuracy: 0.4815 - val_loss: 0.6963 - val_accuracy: 0.4969\n",
      "Epoch 63/100\n",
      "13/13 [==============================] - 0s 8ms/step - loss: 0.6900 - accuracy: 0.4815 - val_loss: 0.6949 - val_accuracy: 0.4969\n",
      "Epoch 64/100\n",
      "13/13 [==============================] - 0s 8ms/step - loss: 0.6902 - accuracy: 0.4815 - val_loss: 0.6969 - val_accuracy: 0.4969\n",
      "Epoch 65/100\n",
      "13/13 [==============================] - 0s 7ms/step - loss: 0.6900 - accuracy: 0.4815 - val_loss: 0.6964 - val_accuracy: 0.4969\n",
      "Epoch 66/100\n",
      "13/13 [==============================] - 0s 8ms/step - loss: 0.6900 - accuracy: 0.4815 - val_loss: 0.6966 - val_accuracy: 0.4969\n",
      "Epoch 67/100\n",
      "13/13 [==============================] - 0s 8ms/step - loss: 0.6899 - accuracy: 0.4815 - val_loss: 0.6964 - val_accuracy: 0.4969\n",
      "Epoch 68/100\n",
      "13/13 [==============================] - 0s 8ms/step - loss: 0.6902 - accuracy: 0.4815 - val_loss: 0.6989 - val_accuracy: 0.4969\n",
      "Epoch 69/100\n",
      "13/13 [==============================] - 0s 8ms/step - loss: 0.6900 - accuracy: 0.4815 - val_loss: 0.6961 - val_accuracy: 0.4969\n",
      "Epoch 70/100\n",
      "13/13 [==============================] - 0s 8ms/step - loss: 0.6901 - accuracy: 0.4815 - val_loss: 0.6977 - val_accuracy: 0.4969\n",
      "Epoch 71/100\n",
      "13/13 [==============================] - 0s 8ms/step - loss: 0.6907 - accuracy: 0.4815 - val_loss: 0.6951 - val_accuracy: 0.4969\n",
      "Epoch 72/100\n",
      "13/13 [==============================] - 0s 8ms/step - loss: 0.6919 - accuracy: 0.4815 - val_loss: 0.6989 - val_accuracy: 0.4969\n",
      "Epoch 73/100\n",
      "13/13 [==============================] - 0s 8ms/step - loss: 0.6923 - accuracy: 0.4815 - val_loss: 0.6961 - val_accuracy: 0.4969\n",
      "Epoch 74/100\n",
      "13/13 [==============================] - 0s 8ms/step - loss: 0.6911 - accuracy: 0.4815 - val_loss: 0.6943 - val_accuracy: 0.4969\n",
      "Epoch 75/100\n",
      "13/13 [==============================] - 0s 8ms/step - loss: 0.6908 - accuracy: 0.4815 - val_loss: 0.6949 - val_accuracy: 0.4969\n",
      "Epoch 76/100\n",
      "13/13 [==============================] - 0s 8ms/step - loss: 0.6904 - accuracy: 0.4815 - val_loss: 0.6944 - val_accuracy: 0.4969\n",
      "Epoch 77/100\n",
      "13/13 [==============================] - 0s 8ms/step - loss: 0.6906 - accuracy: 0.4815 - val_loss: 0.6977 - val_accuracy: 0.4969\n",
      "Epoch 78/100\n",
      "13/13 [==============================] - 0s 8ms/step - loss: 0.6902 - accuracy: 0.4815 - val_loss: 0.6952 - val_accuracy: 0.4969\n",
      "Epoch 79/100\n",
      "13/13 [==============================] - 0s 8ms/step - loss: 0.6901 - accuracy: 0.4815 - val_loss: 0.6972 - val_accuracy: 0.4969\n",
      "Epoch 80/100\n",
      "13/13 [==============================] - 0s 8ms/step - loss: 0.6899 - accuracy: 0.4815 - val_loss: 0.6970 - val_accuracy: 0.4969\n",
      "Epoch 81/100\n",
      "13/13 [==============================] - 0s 8ms/step - loss: 0.6899 - accuracy: 0.4815 - val_loss: 0.6975 - val_accuracy: 0.4969\n",
      "Epoch 82/100\n",
      "13/13 [==============================] - 0s 8ms/step - loss: 0.6900 - accuracy: 0.4815 - val_loss: 0.6970 - val_accuracy: 0.4969\n",
      "Epoch 83/100\n",
      "13/13 [==============================] - 0s 8ms/step - loss: 0.6898 - accuracy: 0.4815 - val_loss: 0.6969 - val_accuracy: 0.4969\n",
      "Epoch 84/100\n",
      "13/13 [==============================] - 0s 8ms/step - loss: 0.6901 - accuracy: 0.4815 - val_loss: 0.6979 - val_accuracy: 0.4969\n",
      "Epoch 85/100\n",
      "13/13 [==============================] - 0s 8ms/step - loss: 0.6900 - accuracy: 0.4815 - val_loss: 0.6975 - val_accuracy: 0.4969\n",
      "Epoch 86/100\n",
      "13/13 [==============================] - 0s 8ms/step - loss: 0.6900 - accuracy: 0.4815 - val_loss: 0.6965 - val_accuracy: 0.4969\n",
      "Epoch 87/100\n",
      "13/13 [==============================] - 0s 8ms/step - loss: 0.6900 - accuracy: 0.4815 - val_loss: 0.6970 - val_accuracy: 0.4969\n",
      "Epoch 88/100\n",
      "13/13 [==============================] - 0s 8ms/step - loss: 0.6899 - accuracy: 0.4815 - val_loss: 0.6980 - val_accuracy: 0.4969\n",
      "Epoch 89/100\n",
      "13/13 [==============================] - 0s 8ms/step - loss: 0.6898 - accuracy: 0.4815 - val_loss: 0.6970 - val_accuracy: 0.4969\n",
      "Epoch 90/100\n",
      "13/13 [==============================] - 0s 8ms/step - loss: 0.6900 - accuracy: 0.4815 - val_loss: 0.6975 - val_accuracy: 0.4969\n",
      "Epoch 91/100\n",
      "13/13 [==============================] - 0s 8ms/step - loss: 0.6903 - accuracy: 0.4815 - val_loss: 0.6968 - val_accuracy: 0.4969\n",
      "Epoch 92/100\n",
      "13/13 [==============================] - 0s 8ms/step - loss: 0.6898 - accuracy: 0.4815 - val_loss: 0.6981 - val_accuracy: 0.4969\n",
      "Epoch 93/100\n",
      "13/13 [==============================] - 0s 8ms/step - loss: 0.6905 - accuracy: 0.4815 - val_loss: 0.6959 - val_accuracy: 0.4969\n",
      "Epoch 94/100\n",
      "13/13 [==============================] - 0s 8ms/step - loss: 0.6908 - accuracy: 0.4815 - val_loss: 0.6971 - val_accuracy: 0.4969\n",
      "Epoch 95/100\n",
      "13/13 [==============================] - 0s 8ms/step - loss: 0.6901 - accuracy: 0.4815 - val_loss: 0.6955 - val_accuracy: 0.4969\n",
      "Epoch 96/100\n",
      "13/13 [==============================] - 0s 8ms/step - loss: 0.6904 - accuracy: 0.4815 - val_loss: 0.6976 - val_accuracy: 0.4969\n",
      "Epoch 97/100\n",
      "13/13 [==============================] - 0s 8ms/step - loss: 0.6898 - accuracy: 0.4815 - val_loss: 0.6956 - val_accuracy: 0.4969\n",
      "Epoch 98/100\n",
      "13/13 [==============================] - 0s 8ms/step - loss: 0.6897 - accuracy: 0.4815 - val_loss: 0.6989 - val_accuracy: 0.4969\n",
      "Epoch 99/100\n",
      "13/13 [==============================] - 0s 8ms/step - loss: 0.6898 - accuracy: 0.4815 - val_loss: 0.6967 - val_accuracy: 0.4969\n",
      "Epoch 100/100\n",
      "13/13 [==============================] - 0s 8ms/step - loss: 0.6899 - accuracy: 0.4815 - val_loss: 0.6988 - val_accuracy: 0.4969\n",
      "32/32 - 0s - loss: 0.6916 - accuracy: 0.4635 - 47ms/epoch - 1ms/step\n"
     ]
    }
   ],
   "source": [
    "history = model.fit(x_train, y_train, batch_size=254, epochs=100, validation_split=0.2)\n",
    "test_scores = model.evaluate(x_val, y_val, verbose=2)"
   ]
  },
  {
   "cell_type": "code",
   "execution_count": 141,
   "id": "9a64afcb-76f7-4c2c-b258-137573e2b6cb",
   "metadata": {},
   "outputs": [
    {
     "data": {
      "text/plain": [
       "[<matplotlib.lines.Line2D at 0x7f43d0e53c70>]"
      ]
     },
     "execution_count": 141,
     "metadata": {},
     "output_type": "execute_result"
    },
    {
     "data": {
      "image/png": "[encoded data removed]",
      "text/plain": [
       "<Figure size 432x288 with 1 Axes>"
      ]
     },
     "metadata": {
      "needs_background": "light"
     },
     "output_type": "display_data"
    }
   ],
   "source": [
    "plt.plot(history.history['loss'])"
   ]
  },
  {
   "cell_type": "code",
   "execution_count": 142,
   "id": "93b0e9ad-6c1f-4d34-b442-cadc3af52d31",
   "metadata": {},
   "outputs": [],
   "source": [
    "x_pred = model.predict(x_val)"
   ]
  },
  {
   "cell_type": "code",
   "execution_count": 143,
   "id": "92aba3a1-e01b-4040-9c6e-80887c872862",
   "metadata": {},
   "outputs": [
    {
     "data": {
      "text/plain": [
       "[<matplotlib.lines.Line2D at 0x7f43d0c51a60>]"
      ]
     },
     "execution_count": 146,
     "metadata": {},
     "output_type": "execute_result"
    },
    {
     "data": {
      "image/png": "[encoded data removed]",
      "text/plain": [
       "<Figure size 432x288 with 1 Axes>"
      ]
     },
     "metadata": {
      "needs_background": "light"
     },
     "output_type": "display_data"
    }
   ],
   "source": [
    "plt.plot(x_pred[20:60])\n",
    "plt.plot(y_val[20:60])"
   ]
  },
  {
   "cell_type": "code",
   "execution_count": 144,
   "id": "4b3da6a7-180d-4675-b1c3-36e62ca6702b",
   "metadata": {},
   "outputs": [
    {
     "data": {
      "text/plain": [
       "(array([  8.,  10.,   8.,  27.,  32.,  40.,  64., 118., 228., 466.]),\n",
       " array([-0.14700252, -0.10284975, -0.05869698, -0.01454421,  0.02960856,\n",
       "         0.07376133,  0.1179141 ,  0.16206686,  0.20621964,  0.2503724 ,\n",
       "         0.29452518], dtype=float32),\n",
       " <BarContainer object of 10 artists>)"
      ]
     },
     "execution_count": 147,
     "metadata": {},
     "output_type": "execute_result"
    },
    {
     "data": {
      "image/png": "[encoded data removed]",
      "text/plain": [
       "<Figure size 432x288 with 1 Axes>"
      ]
     },
     "metadata": {
      "needs_background": "light"
     },
     "output_type": "display_data"
    }
   ],
   "source": [
    "plt.hist(x_pred)"
   ]
  },
  {
   "cell_type": "code",
   "execution_count": 116,
   "id": "75592849-5fdb-4ae7-acdf-0d39b8109a2c",
   "metadata": {},
   "outputs": [],
   "source": [
    "period =5 \n",
    "x_train, y_train, x_val, y_val = get_xy(df, period)"
   ]
  },
  {
   "cell_type": "code",
   "execution_count": 93,
   "id": "14c78861-1c5f-4588-a256-67a735a8c7e6",
   "metadata": {},
   "outputs": [],
   "source": [
    "def basic_cnn_lstm(period):\n",
    "    \n",
    "    inputs = tf.keras.Input(shape=(period,1,))\n",
    "    \n",
    "    # x = layers.Conv1D(16, kernel_size=5, strides=3, activation='relu')(inputs)\n",
    "    x = layers.Conv1D(8, kernel_size=3, strides=1, activation='relu')(inputs)\n",
    "    x = layers.Conv1D(1, kernel_size=1, strides=1, activation='relu')(x)\n",
    "    \n",
    "    # x = layers.LSTM(16, return_sequences=True, return_state=True)(x)\n",
    "    x = layers.LSTM(16, return_sequences=False, return_state=False)(x)\n",
    "    \n",
    "    \n",
    "    x = tf.keras.layers.Dense(32)(x)\n",
    "    x = tf.keras.layers.Dense(8)(x)\n",
    "    outputs = tf.keras.layers.Dense(1)(x)\n",
    "    \n",
    "    model = keras.Model(inputs, outputs) \n",
    "    \n",
    "    model.compile(loss = 'mse', \n",
    "                    optimizer = \"adam\",               \n",
    "                    metrics = ['mae'])\n",
    "    \n",
    "    return model"
   ]
  },
  {
   "cell_type": "code",
   "execution_count": 94,
   "id": "a38c902b-171b-48ec-9a08-efe87d977640",
   "metadata": {},
   "outputs": [
    {
     "name": "stdout",
     "output_type": "stream",
     "text": [
      "Model: \"model_4\"\n",
      "_________________________________________________________________\n",
      " Layer (type)                Output Shape              Param #   \n",
      "=================================================================\n",
      " input_13 (InputLayer)       [(None, 5, 1)]            0         \n",
      "                                                                 \n",
      " conv1d_27 (Conv1D)          (None, 3, 8)              32        \n",
      "                                                                 \n",
      " conv1d_28 (Conv1D)          (None, 3, 1)              9         \n",
      "                                                                 \n",
      " lstm_14 (LSTM)              (None, 16)                1152      \n",
      "                                                                 \n",
      " dense_15 (Dense)            (None, 32)                544       \n",
      "                                                                 \n",
      " dense_16 (Dense)            (None, 8)                 264       \n",
      "                                                                 \n",
      " dense_17 (Dense)            (None, 1)                 9         \n",
      "                                                                 \n",
      "=================================================================\n",
      "Total params: 2,010\n",
      "Trainable params: 2,010\n",
      "Non-trainable params: 0\n",
      "_________________________________________________________________\n"
     ]
    }
   ],
   "source": [
    "model = basic_cnn_lstm(period)\n",
    "model.summary()"
   ]
  },
  {
   "cell_type": "code",
   "execution_count": 95,
   "id": "9812ac5d-828d-467c-acf6-49037848dd9c",
   "metadata": {
    "collapsed": true,
    "jupyter": {
     "outputs_hidden": true
    },
    "tags": []
   },
   "outputs": [
    {
     "name": "stdout",
     "output_type": "stream",
     "text": [
      "Epoch 1/20\n",
      "13/13 [==============================] - 1s 25ms/step - loss: 8.9533e-04 - mae: 0.0209 - val_loss: 2.8276e-04 - val_mae: 0.0121\n",
      "Epoch 2/20\n",
      "13/13 [==============================] - 0s 5ms/step - loss: 8.6059e-04 - mae: 0.0202 - val_loss: 2.8326e-04 - val_mae: 0.0120\n",
      "Epoch 3/20\n",
      "13/13 [==============================] - 0s 4ms/step - loss: 8.5716e-04 - mae: 0.0201 - val_loss: 2.8502e-04 - val_mae: 0.0121\n",
      "Epoch 4/20\n",
      "13/13 [==============================] - 0s 4ms/step - loss: 8.5904e-04 - mae: 0.0202 - val_loss: 2.8394e-04 - val_mae: 0.0121\n",
      "Epoch 5/20\n",
      "13/13 [==============================] - 0s 5ms/step - loss: 8.5688e-04 - mae: 0.0201 - val_loss: 2.8472e-04 - val_mae: 0.0121\n",
      "Epoch 6/20\n",
      "13/13 [==============================] - 0s 4ms/step - loss: 8.5466e-04 - mae: 0.0201 - val_loss: 2.8598e-04 - val_mae: 0.0121\n",
      "Epoch 7/20\n",
      "13/13 [==============================] - 0s 4ms/step - loss: 8.6213e-04 - mae: 0.0203 - val_loss: 2.8518e-04 - val_mae: 0.0121\n",
      "Epoch 8/20\n",
      "13/13 [==============================] - 0s 4ms/step - loss: 8.6924e-04 - mae: 0.0203 - val_loss: 3.0290e-04 - val_mae: 0.0126\n",
      "Epoch 9/20\n",
      "13/13 [==============================] - 0s 4ms/step - loss: 8.5831e-04 - mae: 0.0202 - val_loss: 2.8274e-04 - val_mae: 0.0120\n",
      "Epoch 10/20\n",
      "13/13 [==============================] - 0s 4ms/step - loss: 8.5522e-04 - mae: 0.0201 - val_loss: 2.8284e-04 - val_mae: 0.0120\n",
      "Epoch 11/20\n",
      "13/13 [==============================] - 0s 4ms/step - loss: 8.5643e-04 - mae: 0.0201 - val_loss: 2.8327e-04 - val_mae: 0.0120\n",
      "Epoch 12/20\n",
      "13/13 [==============================] - 0s 4ms/step - loss: 8.6214e-04 - mae: 0.0202 - val_loss: 2.8329e-04 - val_mae: 0.0121\n",
      "Epoch 13/20\n",
      "13/13 [==============================] - 0s 4ms/step - loss: 8.5779e-04 - mae: 0.0202 - val_loss: 2.8263e-04 - val_mae: 0.0120\n",
      "Epoch 14/20\n",
      "13/13 [==============================] - 0s 5ms/step - loss: 8.5887e-04 - mae: 0.0202 - val_loss: 2.8263e-04 - val_mae: 0.0120\n",
      "Epoch 15/20\n",
      "13/13 [==============================] - 0s 4ms/step - loss: 8.5365e-04 - mae: 0.0201 - val_loss: 2.8539e-04 - val_mae: 0.0121\n",
      "Epoch 16/20\n",
      "13/13 [==============================] - 0s 4ms/step - loss: 8.5471e-04 - mae: 0.0201 - val_loss: 2.9356e-04 - val_mae: 0.0124\n",
      "Epoch 17/20\n",
      "13/13 [==============================] - 0s 5ms/step - loss: 8.5694e-04 - mae: 0.0202 - val_loss: 3.0158e-04 - val_mae: 0.0126\n",
      "Epoch 18/20\n",
      "13/13 [==============================] - 0s 4ms/step - loss: 8.5558e-04 - mae: 0.0202 - val_loss: 2.8319e-04 - val_mae: 0.0121\n",
      "Epoch 19/20\n",
      "13/13 [==============================] - 0s 4ms/step - loss: 8.5461e-04 - mae: 0.0201 - val_loss: 2.8407e-04 - val_mae: 0.0121\n",
      "Epoch 20/20\n",
      "13/13 [==============================] - 0s 4ms/step - loss: 8.5313e-04 - mae: 0.0201 - val_loss: 2.9417e-04 - val_mae: 0.0124\n",
      "32/32 - 0s - loss: 2.4510e-04 - mae: 0.0110 - 35ms/epoch - 1ms/step\n"
     ]
    }
   ],
   "source": [
    "history = model.fit(x_train, y_train, batch_size=254, epochs=20, validation_split=0.2)\n",
    "test_scores = model.evaluate(x_val, y_val, verbose=2)"
   ]
  },
  {
   "cell_type": "code",
   "execution_count": 96,
   "id": "fffe6792-aec5-4550-a663-8c1d05686322",
   "metadata": {},
   "outputs": [
    {
     "data": {
      "text/plain": [
       "[<matplotlib.lines.Line2D at 0x7f436476dd00>]"
      ]
     },
     "execution_count": 96,
     "metadata": {},
     "output_type": "execute_result"
    },
    {
     "data": {
      "image/png": "[encoded data removed]",
      "text/plain": [
       "<Figure size 432x288 with 1 Axes>"
      ]
     },
     "metadata": {
      "needs_background": "light"
     },
     "output_type": "display_data"
    }
   ],
   "source": [
    "plt.plot(history.history['loss'])"
   ]
  },
  {
   "cell_type": "code",
   "execution_count": 103,
   "id": "78079a90-b04f-4ab0-bce4-c024f720da02",
   "metadata": {},
   "outputs": [
    {
     "data": {
      "text/plain": [
       "0.020092910155653954"
      ]
     },
     "execution_count": 103,
     "metadata": {},
     "output_type": "execute_result"
    }
   ],
   "source": [
    "history.history['mae'][-1]"
   ]
  },
  {
   "cell_type": "code",
   "execution_count": 97,
   "id": "aa7eb201-0d14-41b5-8c16-271b4bf491da",
   "metadata": {},
   "outputs": [],
   "source": [
    "x_pred = model.predict(x_val)"
   ]
  },
  {
   "cell_type": "code",
   "execution_count": 98,
   "id": "a6116bcc-e658-445d-99e9-e1400b9eece3",
   "metadata": {
    "tags": []
   },
   "outputs": [
    {
     "data": {
      "text/plain": [
       "array([[0.00441085],\n",
       "       [0.00422285],\n",
       "       [0.00434896],\n",
       "       ...,\n",
       "       [0.00362943],\n",
       "       [0.00359191],\n",
       "       [0.00370103]], dtype=float32)"
      ]
     },
     "execution_count": 98,
     "metadata": {},
     "output_type": "execute_result"
    }
   ],
   "source": [
    "x_pred"
   ]
  },
  {
   "cell_type": "code",
   "execution_count": 99,
   "id": "5e0ce7b4-4104-4faa-ae8f-9631592f0480",
   "metadata": {},
   "outputs": [
    {
     "data": {
      "text/plain": [
       "[<matplotlib.lines.Line2D at 0x7f43677880d0>]"
      ]
     },
     "execution_count": 99,
     "metadata": {},
     "output_type": "execute_result"
    },
    {
     "data": {
      "image/png": "[encoded data removed]",
      "text/plain": [
       "<Figure size 432x288 with 1 Axes>"
      ]
     },
     "metadata": {
      "needs_background": "light"
     },
     "output_type": "display_data"
    }
   ],
   "source": [
    "plt.plot(x_pred[40:60])\n",
    "plt.plot(y_val[40:60])"
   ]
  },
  {
   "cell_type": "code",
   "execution_count": 102,
   "id": "9b6da89b-f222-4367-942b-f2b84efa776f",
   "metadata": {},
   "outputs": [
    {
     "data": {
      "text/plain": [
       "(array([  5.,  14.,  52.,  82., 251., 360., 171.,  43.,  14.,   9.]),\n",
       " array([0.0019242 , 0.00228462, 0.00264504, 0.00300546, 0.00336588,\n",
       "        0.0037263 , 0.00408672, 0.00444714, 0.00480755, 0.00516797,\n",
       "        0.00552839], dtype=float32),\n",
       " <BarContainer object of 10 artists>)"
      ]
     },
     "execution_count": 102,
     "metadata": {},
     "output_type": "execute_result"
    },
    {
     "data": {
      "image/png": "[encoded data removed]",
      "text/plain": [
       "<Figure size 432x288 with 1 Axes>"
      ]
     },
     "metadata": {
      "needs_background": "light"
     },
     "output_type": "display_data"
    }
   ],
   "source": [
    "plt.hist(x_pred)"
   ]
  },
  {
   "cell_type": "code",
   "execution_count": null,
   "id": "66d5c54e-c22a-4ca3-a528-083cea14190f",
   "metadata": {},
   "outputs": [],
   "source": []
  }
 ],
 "metadata": {
  "kernelspec": {
   "display_name": "trading_env",
   "language": "python",
   "name": "trading_env"
  },
  "language_info": {
   "codemirror_mode": {
    "name": "ipython",
    "version": 3
   },
   "file_extension": ".py",
   "mimetype": "text/x-python",
   "name": "python",
   "nbconvert_exporter": "python",
   "pygments_lexer": "ipython3",
   "version": "3.8.10"
  }
 },
 "nbformat": 4,
 "nbformat_minor": 5
}
