{
 "cells": [
  {
   "cell_type": "code",
   "execution_count": 2,
   "id": "de8bd9fd-02eb-43e2-89e3-a21d98b841c9",
   "metadata": {},
   "outputs": [],
   "source": [
    "import pandas as pd\n",
    "import numpy as np\n",
    "from y_engineering import pct_log\n",
    "from Indicators import *"
   ]
  },
  {
   "cell_type": "code",
   "execution_count": 26,
   "id": "0c2bcd85-1f51-4418-9961-dbe11220714c",
   "metadata": {},
   "outputs": [],
   "source": [
    "import pathlib\n",
    "import datetime"
   ]
  },
  {
   "cell_type": "code",
   "execution_count": 7,
   "id": "b0c980d3-9429-4f90-83b1-44db8d6cb5ab",
   "metadata": {},
   "outputs": [
    {
     "data": {
      "text/plain": [
       "PosixPath('/home/jack/Desktop/Programming/tr_bot')"
      ]
     },
     "execution_count": 7,
     "metadata": {},
     "output_type": "execute_result"
    }
   ],
   "source": [
    "pathlib.Path().resolve()"
   ]
  },
  {
   "cell_type": "code",
   "execution_count": 1,
   "id": "f940f1e0-c505-445c-85c3-81a7ca6a0799",
   "metadata": {},
   "outputs": [],
   "source": [
    "tickers = [\"AAPL\", \"AMZN\", \"GOOG\", \"META\", \"MSFT\", \"NVDA\"]"
   ]
  },
  {
   "cell_type": "code",
   "execution_count": 13,
   "id": "64db0dd9-8266-4eb3-aedc-3c21dea9febb",
   "metadata": {},
   "outputs": [],
   "source": [
    "# getting raw data\n",
    "data = {}\n",
    "for ticker in tickers:\n",
    "    raw_path = \"/home/jack/Desktop/Programming/tr_bot/data/raw/\" + ticker + \".csv\"\n",
    "    data[ticker] = pd.read_csv(raw_path)"
   ]
  },
  {
   "cell_type": "code",
   "execution_count": 36,
   "id": "c0428757-2c23-4f57-bb4d-c53599672dbe",
   "metadata": {},
   "outputs": [
    {
     "name": "stdout",
     "output_type": "stream",
     "text": [
      "AAPL\n",
      "AMZN\n",
      "GOOG\n",
      "META\n",
      "MSFT\n",
      "NVDA\n"
     ]
    }
   ],
   "source": [
    "#saving data split into train and test files with extra features\n",
    "\n",
    "for key, df in data.items():\n",
    "    print(key)\n",
    "    \n",
    "    #adding basic features\n",
    "    df[\"pct\"] = pct_log(df, \"Adj Close\", log=False)\n",
    "    df[\"pct_log\"] = pct_log(df, \"Adj Close\")\n",
    "    df[\"ema_20\"] = ema(df, period=20, column='Adj Close')\n",
    "    df[\"ema_50\"] = ema(df, period=50, column='Adj Close')\n",
    "    df[\"ema_200\"] = ema(df, period=200, column='Adj Close')\n",
    "    df[\"rsi_20\"] = rsi(df, period=20, column='Adj Close')\n",
    "    \n",
    "    #saving data\n",
    "    path = \"/home/jack/Desktop/Programming/tr_bot/data\"\n",
    "    df[:-500].to_csv(path + \"/train/\" + key + \"_train.csv\", index=False)\n",
    "    df[-500:].to_csv(path + \"/test/\" + key + \"_test.csv\", index=False)"
   ]
  },
  {
   "cell_type": "code",
   "execution_count": null,
   "id": "e188f7f9-27ed-4593-8a59-5f1c9992cb87",
   "metadata": {},
   "outputs": [],
   "source": []
  }
 ],
 "metadata": {
  "kernelspec": {
   "display_name": "trading_environment",
   "language": "python",
   "name": "trading_environment"
  },
  "language_info": {
   "codemirror_mode": {
    "name": "ipython",
    "version": 3
   },
   "file_extension": ".py",
   "mimetype": "text/x-python",
   "name": "python",
   "nbconvert_exporter": "python",
   "pygments_lexer": "ipython3",
   "version": "3.10.9"
  }
 },
 "nbformat": 4,
 "nbformat_minor": 5
}
