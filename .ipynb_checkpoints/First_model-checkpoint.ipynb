{
 "cells": [
  {
   "cell_type": "code",
   "execution_count": 1,
   "id": "ddd5bcad-8f2e-447f-8884-a50478180de4",
   "metadata": {},
   "outputs": [
    {
     "name": "stderr",
     "output_type": "stream",
     "text": [
      "2023-03-11 21:47:37.596085: W tensorflow/stream_executor/platform/default/dso_loader.cc:64] Could not load dynamic library 'libcudart.so.11.0'; dlerror: libcudart.so.11.0: cannot open shared object file: No such file or directory\n",
      "2023-03-11 21:47:37.596103: I tensorflow/stream_executor/cuda/cudart_stub.cc:29] Ignore above cudart dlerror if you do not have a GPU set up on your machine.\n"
     ]
    }
   ],
   "source": [
    "import pandas as pd\n",
    "import numpy as np\n",
    "import tensorflow as tf\n",
    "from y_engineering import *\n",
    "from Indicators import *\n",
    "import matplotlib.pyplot as plt\n",
    "from sklearn.metrics import *\n",
    "from tensorflow.keras import layers, Model\n",
    "from tensorflow import keras"
   ]
  },
  {
   "cell_type": "code",
   "execution_count": 2,
   "id": "168d0510-fb18-4471-a8e4-c91c03c10690",
   "metadata": {},
   "outputs": [],
   "source": [
    "df = pd.read_csv(\"appl_clean_train.csv\")"
   ]
  },
  {
   "cell_type": "code",
   "execution_count": 3,
   "id": "b5770e8e-584e-4157-8bd5-31783c8c04bf",
   "metadata": {},
   "outputs": [],
   "source": [
    "df['y_binary_sma5'] = (sma(df, period=5, column='Adj Close').shift(periods=-5) > df['Adj Close']).astype(int)"
   ]
  },
  {
   "cell_type": "code",
   "execution_count": 4,
   "id": "e7318811-ba88-442b-a361-7a1a505cad45",
   "metadata": {},
   "outputs": [
    {
     "data": {
      "text/plain": [
       "0        0.789849\n",
       "1        0.799873\n",
       "2        0.820963\n",
       "3        0.827290\n",
       "4        0.823237\n",
       "          ...    \n",
       "4996    52.204988\n",
       "4997    52.328630\n",
       "4998    52.459681\n",
       "4999    52.587992\n",
       "5000    52.707507\n",
       "Name: Adj Close, Length: 5001, dtype: float64"
      ]
     },
     "execution_count": 4,
     "metadata": {},
     "output_type": "execute_result"
    }
   ],
   "source": [
    "ema(df, period=21, column='Adj Close', inplace=True)\n",
    "ema(df, period=200, column='Adj Close', inplace=True)"
   ]
  },
  {
   "cell_type": "code",
   "execution_count": 5,
   "id": "405eb907-3b52-4b5f-b2b3-0bfb6f196911",
   "metadata": {},
   "outputs": [],
   "source": [
    "df[\"ema_pct_21\"] = pct_log(df, y_col='ema_21', time_to_pred = 1, pct=True, log=False)\n",
    "df[\"ema_pct_200\"] = pct_log(df, y_col='ema_200', time_to_pred = 1, pct=True, log=False)"
   ]
  },
  {
   "cell_type": "code",
   "execution_count": 6,
   "id": "7bb51c06-7038-476a-ae76-59ff7adc9b87",
   "metadata": {},
   "outputs": [
    {
     "data": {
      "text/html": [
       "<div>\n",
       "<style scoped>\n",
       "    .dataframe tbody tr th:only-of-type {\n",
       "        vertical-align: middle;\n",
       "    }\n",
       "\n",
       "    .dataframe tbody tr th {\n",
       "        vertical-align: top;\n",
       "    }\n",
       "\n",
       "    .dataframe thead th {\n",
       "        text-align: right;\n",
       "    }\n",
       "</style>\n",
       "<table border=\"1\" class=\"dataframe\">\n",
       "  <thead>\n",
       "    <tr style=\"text-align: right;\">\n",
       "      <th></th>\n",
       "      <th>Adj Close</th>\n",
       "      <th>Volume</th>\n",
       "      <th>pct_log</th>\n",
       "      <th>pct</th>\n",
       "      <th>y_binary_sma5</th>\n",
       "      <th>ema_21</th>\n",
       "      <th>ema_200</th>\n",
       "      <th>ema_pct_21</th>\n",
       "      <th>ema_pct_200</th>\n",
       "    </tr>\n",
       "  </thead>\n",
       "  <tbody>\n",
       "    <tr>\n",
       "      <th>0</th>\n",
       "      <td>0.789849</td>\n",
       "      <td>459177600</td>\n",
       "      <td>NaN</td>\n",
       "      <td>NaN</td>\n",
       "      <td>1</td>\n",
       "      <td>0.789849</td>\n",
       "      <td>0.789849</td>\n",
       "      <td>NaN</td>\n",
       "      <td>NaN</td>\n",
       "    </tr>\n",
       "    <tr>\n",
       "      <th>1</th>\n",
       "      <td>0.809797</td>\n",
       "      <td>597643200</td>\n",
       "      <td>-0.105724</td>\n",
       "      <td>0.025255</td>\n",
       "      <td>1</td>\n",
       "      <td>0.800298</td>\n",
       "      <td>0.799873</td>\n",
       "      <td>0.013229</td>\n",
       "      <td>0.012691</td>\n",
       "    </tr>\n",
       "    <tr>\n",
       "      <th>2</th>\n",
       "      <td>0.862517</td>\n",
       "      <td>1831132800</td>\n",
       "      <td>-0.298956</td>\n",
       "      <td>0.065103</td>\n",
       "      <td>0</td>\n",
       "      <td>0.823043</td>\n",
       "      <td>0.820963</td>\n",
       "      <td>0.028420</td>\n",
       "      <td>0.026367</td>\n",
       "    </tr>\n",
       "    <tr>\n",
       "      <th>3</th>\n",
       "      <td>0.845894</td>\n",
       "      <td>495924800</td>\n",
       "      <td>0.131580</td>\n",
       "      <td>-0.019273</td>\n",
       "      <td>0</td>\n",
       "      <td>0.829596</td>\n",
       "      <td>0.827290</td>\n",
       "      <td>0.007963</td>\n",
       "      <td>0.007706</td>\n",
       "    </tr>\n",
       "    <tr>\n",
       "      <th>4</th>\n",
       "      <td>0.807423</td>\n",
       "      <td>440876800</td>\n",
       "      <td>0.278119</td>\n",
       "      <td>-0.045480</td>\n",
       "      <td>1</td>\n",
       "      <td>0.824279</td>\n",
       "      <td>0.823237</td>\n",
       "      <td>-0.006410</td>\n",
       "      <td>-0.004899</td>\n",
       "    </tr>\n",
       "    <tr>\n",
       "      <th>...</th>\n",
       "      <td>...</td>\n",
       "      <td>...</td>\n",
       "      <td>...</td>\n",
       "      <td>...</td>\n",
       "      <td>...</td>\n",
       "      <td>...</td>\n",
       "      <td>...</td>\n",
       "      <td>...</td>\n",
       "      <td>...</td>\n",
       "    </tr>\n",
       "    <tr>\n",
       "      <th>4996</th>\n",
       "      <td>65.139717</td>\n",
       "      <td>84020400</td>\n",
       "      <td>0.004179</td>\n",
       "      <td>0.017534</td>\n",
       "      <td>0</td>\n",
       "      <td>63.019752</td>\n",
       "      <td>52.204988</td>\n",
       "      <td>0.003375</td>\n",
       "      <td>0.002496</td>\n",
       "    </tr>\n",
       "    <tr>\n",
       "      <th>4997</th>\n",
       "      <td>64.631065</td>\n",
       "      <td>105207600</td>\n",
       "      <td>-0.001877</td>\n",
       "      <td>-0.007809</td>\n",
       "      <td>0</td>\n",
       "      <td>63.166235</td>\n",
       "      <td>52.328630</td>\n",
       "      <td>0.002324</td>\n",
       "      <td>0.002368</td>\n",
       "    </tr>\n",
       "    <tr>\n",
       "      <th>4998</th>\n",
       "      <td>65.499199</td>\n",
       "      <td>65235600</td>\n",
       "      <td>0.003201</td>\n",
       "      <td>0.013432</td>\n",
       "      <td>0</td>\n",
       "      <td>63.378322</td>\n",
       "      <td>52.459681</td>\n",
       "      <td>0.003358</td>\n",
       "      <td>0.002504</td>\n",
       "    </tr>\n",
       "    <tr>\n",
       "      <th>4999</th>\n",
       "      <td>65.354912</td>\n",
       "      <td>46617600</td>\n",
       "      <td>-0.000527</td>\n",
       "      <td>-0.002203</td>\n",
       "      <td>0</td>\n",
       "      <td>63.558012</td>\n",
       "      <td>52.587992</td>\n",
       "      <td>0.002835</td>\n",
       "      <td>0.002446</td>\n",
       "    </tr>\n",
       "    <tr>\n",
       "      <th>5000</th>\n",
       "      <td>64.599274</td>\n",
       "      <td>94487200</td>\n",
       "      <td>-0.002782</td>\n",
       "      <td>-0.011562</td>\n",
       "      <td>0</td>\n",
       "      <td>63.652672</td>\n",
       "      <td>52.707507</td>\n",
       "      <td>0.001489</td>\n",
       "      <td>0.002273</td>\n",
       "    </tr>\n",
       "  </tbody>\n",
       "</table>\n",
       "<p>5001 rows × 9 columns</p>\n",
       "</div>"
      ],
      "text/plain": [
       "      Adj Close      Volume   pct_log       pct  y_binary_sma5     ema_21  \\\n",
       "0      0.789849   459177600       NaN       NaN              1   0.789849   \n",
       "1      0.809797   597643200 -0.105724  0.025255              1   0.800298   \n",
       "2      0.862517  1831132800 -0.298956  0.065103              0   0.823043   \n",
       "3      0.845894   495924800  0.131580 -0.019273              0   0.829596   \n",
       "4      0.807423   440876800  0.278119 -0.045480              1   0.824279   \n",
       "...         ...         ...       ...       ...            ...        ...   \n",
       "4996  65.139717    84020400  0.004179  0.017534              0  63.019752   \n",
       "4997  64.631065   105207600 -0.001877 -0.007809              0  63.166235   \n",
       "4998  65.499199    65235600  0.003201  0.013432              0  63.378322   \n",
       "4999  65.354912    46617600 -0.000527 -0.002203              0  63.558012   \n",
       "5000  64.599274    94487200 -0.002782 -0.011562              0  63.652672   \n",
       "\n",
       "        ema_200  ema_pct_21  ema_pct_200  \n",
       "0      0.789849         NaN          NaN  \n",
       "1      0.799873    0.013229     0.012691  \n",
       "2      0.820963    0.028420     0.026367  \n",
       "3      0.827290    0.007963     0.007706  \n",
       "4      0.823237   -0.006410    -0.004899  \n",
       "...         ...         ...          ...  \n",
       "4996  52.204988    0.003375     0.002496  \n",
       "4997  52.328630    0.002324     0.002368  \n",
       "4998  52.459681    0.003358     0.002504  \n",
       "4999  52.587992    0.002835     0.002446  \n",
       "5000  52.707507    0.001489     0.002273  \n",
       "\n",
       "[5001 rows x 9 columns]"
      ]
     },
     "execution_count": 6,
     "metadata": {},
     "output_type": "execute_result"
    }
   ],
   "source": [
    "df"
   ]
  },
  {
   "cell_type": "code",
   "execution_count": 131,
   "id": "d91e078b-133b-4d1d-8c11-76ab174d1e9e",
   "metadata": {},
   "outputs": [
    {
     "data": {
      "text/plain": [
       "(array([ 12.,  18.,  10.,  18.,   9.,  22.,  17.,  22.,  23.,  31.,  23.,\n",
       "         35.,  27.,  53.,  41.,  36.,  47.,  62.,  78.,  90., 142., 166.,\n",
       "        231., 373., 574., 572., 444., 295., 201., 148., 109.,  95.,  60.,\n",
       "         49.,  62.,  49.,  45.,  45.,  30.,  26.,  34.,  18.,  15.,  19.,\n",
       "         13.,  17.,   9.,   9.,   9.,   9.]),\n",
       " array([-0.05 , -0.048, -0.046, -0.044, -0.042, -0.04 , -0.038, -0.036,\n",
       "        -0.034, -0.032, -0.03 , -0.028, -0.026, -0.024, -0.022, -0.02 ,\n",
       "        -0.018, -0.016, -0.014, -0.012, -0.01 , -0.008, -0.006, -0.004,\n",
       "        -0.002,  0.   ,  0.002,  0.004,  0.006,  0.008,  0.01 ,  0.012,\n",
       "         0.014,  0.016,  0.018,  0.02 ,  0.022,  0.024,  0.026,  0.028,\n",
       "         0.03 ,  0.032,  0.034,  0.036,  0.038,  0.04 ,  0.042,  0.044,\n",
       "         0.046,  0.048,  0.05 ]),\n",
       " <BarContainer object of 50 artists>)"
      ]
     },
     "execution_count": 131,
     "metadata": {},
     "output_type": "execute_result"
    },
    {
     "data": {
      "image/png": "[encoded data removed]",
      "text/plain": [
       "<Figure size 432x288 with 1 Axes>"
      ]
     },
     "metadata": {
      "needs_background": "light"
     },
     "output_type": "display_data"
    }
   ],
   "source": [
    "plt.hist(df['pct_log'], bins=50, range=(-0.05,0.05))"
   ]
  },
  {
   "cell_type": "code",
   "execution_count": 8,
   "id": "b885f4b6-f3a8-45df-ae49-b4b5b8c2e3df",
   "metadata": {},
   "outputs": [
    {
     "data": {
      "text/plain": [
       "(array([  7.,  15.,  20.,  25.,  32.,  29.,  28.,  29.,  22.,  40.,  43.,\n",
       "         62.,  73.,  84.,  78., 100.,  95., 109., 110., 160., 154., 213.,\n",
       "        236., 251., 247., 269., 233., 223., 224., 174., 181., 162., 151.,\n",
       "        124., 125.,  74.,  66.,  57.,  69.,  54.,  46.,  32.,  35.,  33.,\n",
       "         41.,  28.,  19.,  23.,  24.,  18.]),\n",
       " array([-0.05 , -0.048, -0.046, -0.044, -0.042, -0.04 , -0.038, -0.036,\n",
       "        -0.034, -0.032, -0.03 , -0.028, -0.026, -0.024, -0.022, -0.02 ,\n",
       "        -0.018, -0.016, -0.014, -0.012, -0.01 , -0.008, -0.006, -0.004,\n",
       "        -0.002,  0.   ,  0.002,  0.004,  0.006,  0.008,  0.01 ,  0.012,\n",
       "         0.014,  0.016,  0.018,  0.02 ,  0.022,  0.024,  0.026,  0.028,\n",
       "         0.03 ,  0.032,  0.034,  0.036,  0.038,  0.04 ,  0.042,  0.044,\n",
       "         0.046,  0.048,  0.05 ]),\n",
       " <BarContainer object of 50 artists>)"
      ]
     },
     "execution_count": 8,
     "metadata": {},
     "output_type": "execute_result"
    },
    {
     "data": {
      "image/png": "[encoded data removed]",
      "text/plain": [
       "<Figure size 432x288 with 1 Axes>"
      ]
     },
     "metadata": {
      "needs_background": "light"
     },
     "output_type": "display_data"
    }
   ],
   "source": [
    "plt.hist(df['pct'], bins=50, range=(-0.05,0.05))"
   ]
  },
  {
   "cell_type": "code",
   "execution_count": 14,
   "id": "645a37d3-8a7f-44b7-851a-13987d491cd3",
   "metadata": {},
   "outputs": [],
   "source": [
    "def get_ordered_index(df, period_to_skip=31, val_split_ratio=0.2, period_from_end_skip=0):\n",
    "    # get ordered dates split into train, val based on index\n",
    "    all_dates = list(df.index)\n",
    "    train = int(len(all_dates)*(1-val_split_ratio))\n",
    "\n",
    "    train_dates = all_dates[period_to_skip:train]\n",
    "    val_dates = all_dates[train:]\n",
    "    return train_dates, val_dates"
   ]
  },
  {
   "cell_type": "code",
   "execution_count": 15,
   "id": "3ef98f86-2ae2-4154-a539-8ac554f4585a",
   "metadata": {},
   "outputs": [],
   "source": [
    "def get_x(df, y_index, x_col = 'pct', period=3):\n",
    "    return df.loc[y_index-period:y_index-1, x_col]"
   ]
  },
  {
   "cell_type": "code",
   "execution_count": 23,
   "id": "1b2431d0-ecce-4005-ac41-0aaf9d8a6c44",
   "metadata": {},
   "outputs": [],
   "source": [
    "def get_xy(df, period, x_col = ['pct'], y_col='pct', val_split_ratio=0.2):\n",
    "    # get training and val data\n",
    "    \n",
    "    train_i, val_i = get_ordered_index(df, period_to_skip=period+1, val_split_ratio=0.2)\n",
    "\n",
    "    y_train = np.array(df.loc[train_i, y_col])\n",
    "    y_val = np.array(df.loc[val_i, y_col])\n",
    "    \n",
    "    x_train = np.zeros((len(train_i),period, len(x_col)))\n",
    "    x_val = np.zeros((len(val_i),period, len(x_col)))\n",
    "    \n",
    "    for j in range(len(x_col)):\n",
    "        x_column = x_col[j]\n",
    "\n",
    "        for i in range(len(train_i)):\n",
    "            temp = np.array(get_x(df, train_i[i], x_col = x_column, period=period))\n",
    "            x_train[i, :, j] = temp\n",
    "\n",
    "        for i in range(len(val_i)):\n",
    "            temp = np.array(get_x(df, val_i[i], x_col = x_column, period=period))\n",
    "            x_val[i, :, j] = temp\n",
    "\n",
    "    # return np.squeeze(x_train), y_train, np.squeeze(x_val), y_val\n",
    "    return x_train, y_train, x_val, y_val"
   ]
  },
  {
   "cell_type": "code",
   "execution_count": 28,
   "id": "31b7aa96-e708-4620-9ca2-2e36aec643e8",
   "metadata": {},
   "outputs": [],
   "source": [
    "period =14\n",
    "pred_column = \"y_binary_sma5\"\n",
    "ema_columns = [\"ema_21\", \"ema_200\"]\n",
    "\n",
    "x_train_daily, y_train, x_val_daily, y_val = get_xy(df, period, y_col=pred_column)\n",
    "x_train_ema, y_train_ema, x_val_ema, y_val_ema = get_xy(df, period, x_col = ema_columns, y_col=pred_column)\n",
    "input_shape = [(x_train_daily.shape), (x_train_ema.shape)]"
   ]
  },
  {
   "cell_type": "code",
   "execution_count": 29,
   "id": "e3eb1a48-540a-49af-b0f4-8c4dc028ac91",
   "metadata": {},
   "outputs": [
    {
     "data": {
      "text/plain": [
       "((3985, 14, 1), (3985,), (1001, 14, 1), (1001,), (3985, 14, 2), (1001, 14, 2))"
      ]
     },
     "execution_count": 29,
     "metadata": {},
     "output_type": "execute_result"
    }
   ],
   "source": [
    "x_train_daily.shape, y_train.shape, x_val_daily.shape, y_val.shape, x_train_ema.shape, x_val_ema.shape,"
   ]
  },
  {
   "cell_type": "code",
   "execution_count": 47,
   "id": "094e54eb-807f-47fb-beb8-a583b9d4646b",
   "metadata": {
    "tags": []
   },
   "outputs": [],
   "source": [
    "def indicator_cnn_binary(input_shape):\n",
    "        \n",
    "    daily_inputs = keras.Input(input_shape[0][1:], name=\"daily_input\")\n",
    "    ind_inputs = keras.Input(input_shape[1][1:], name=\"ind_input\")\n",
    "    \n",
    "    # daily = layers.Conv1D(16, kernel_size=5, strides=3, activation='relu')(inputs)\n",
    "    daily = layers.Conv1D(8, kernel_size=3, strides=1, activation='relu')(daily_inputs)\n",
    "    daily = layers.Conv1D(1, kernel_size=1, strides=1, activation='relu')(daily)\n",
    "    # daily = layers.LSTM(16, return_sequences=True, return_state=True)(daily)\n",
    "    daily = layers.LSTM(16, return_sequences=False, return_state=False)(daily)\n",
    "    daily = keras.Model(inputs=daily_inputs, outputs= daily)\n",
    "    \n",
    "    indicators = layers.Conv1D(8, kernel_size=3, strides=1, activation='relu')(ind_inputs)\n",
    "    indicators = layers.Conv1D(1, kernel_size=1, strides=1, activation='relu')(indicators)\n",
    "    indicators = layers.Flatten()(indicators)\n",
    "    indicators = keras.Model(inputs=ind_inputs, outputs= indicators)\n",
    "    \n",
    "    combined = layers.concatenate([daily.output, indicators.output])\n",
    "#     output = layers.Dropout(0.3)(combined)\n",
    "    output = layers.Dense(32, activation=\"relu\", activity_regularizer=None)(combined)\n",
    "#     output = layers.Dropout(0.3)(output)\n",
    "    output = layers.Dense(16, activation=\"relu\", activity_regularizer=None)(output)\n",
    "    # output = layers.Dropout(0.2)(output)\n",
    "    output = layers.Dense(1, activation=\"linear\")(output)\n",
    "    model = keras.Model(\n",
    "        inputs=[daily.input, indicators.input],\n",
    "        outputs=output)    \n",
    "    \n",
    "    model.compile(optimizer=tf.keras.optimizers.Adam(learning_rate=1e-3),\n",
    "            loss=tf.keras.losses.BinaryCrossentropy(from_logits=True),\n",
    "            metrics=[tf.keras.metrics.binary_accuracy])\n",
    "    \n",
    "    return model"
   ]
  },
  {
   "cell_type": "code",
   "execution_count": 48,
   "id": "ed83dcc2-36e2-45ba-b1e1-6fefa46a6efe",
   "metadata": {},
   "outputs": [
    {
     "data": {
      "text/plain": [
       "[(3985, 14, 1), (3985, 14, 2)]"
      ]
     },
     "execution_count": 48,
     "metadata": {},
     "output_type": "execute_result"
    }
   ],
   "source": [
    "input_shape"
   ]
  },
  {
   "cell_type": "code",
   "execution_count": 49,
   "id": "dbde7619-28f7-4e19-8543-fd074b62b2a5",
   "metadata": {},
   "outputs": [
    {
     "name": "stdout",
     "output_type": "stream",
     "text": [
      "You must install pydot (`pip install pydot`) and install graphviz (see instructions at https://graphviz.gitlab.io/download/) for plot_model/model_to_dot to work.\n",
      "Model: \"model_11\"\n",
      "__________________________________________________________________________________________________\n",
      " Layer (type)                   Output Shape         Param #     Connected to                     \n",
      "==================================================================================================\n",
      " daily_input (InputLayer)       [(None, 14, 1)]      0           []                               \n",
      "                                                                                                  \n",
      " ind_input (InputLayer)         [(None, 14, 2)]      0           []                               \n",
      "                                                                                                  \n",
      " conv1d_22 (Conv1D)             (None, 12, 8)        32          ['daily_input[0][0]']            \n",
      "                                                                                                  \n",
      " conv1d_24 (Conv1D)             (None, 12, 8)        56          ['ind_input[0][0]']              \n",
      "                                                                                                  \n",
      " conv1d_23 (Conv1D)             (None, 12, 1)        9           ['conv1d_22[0][0]']              \n",
      "                                                                                                  \n",
      " conv1d_25 (Conv1D)             (None, 12, 1)        9           ['conv1d_24[0][0]']              \n",
      "                                                                                                  \n",
      " lstm_6 (LSTM)                  (None, 16)           1152        ['conv1d_23[0][0]']              \n",
      "                                                                                                  \n",
      " flatten_5 (Flatten)            (None, 12)           0           ['conv1d_25[0][0]']              \n",
      "                                                                                                  \n",
      " concatenate_5 (Concatenate)    (None, 28)           0           ['lstm_6[0][0]',                 \n",
      "                                                                  'flatten_5[0][0]']              \n",
      "                                                                                                  \n",
      " dense_15 (Dense)               (None, 32)           928         ['concatenate_5[0][0]']          \n",
      "                                                                                                  \n",
      " dense_16 (Dense)               (None, 16)           528         ['dense_15[0][0]']               \n",
      "                                                                                                  \n",
      " dense_17 (Dense)               (None, 1)            17          ['dense_16[0][0]']               \n",
      "                                                                                                  \n",
      "==================================================================================================\n",
      "Total params: 2,731\n",
      "Trainable params: 2,731\n",
      "Non-trainable params: 0\n",
      "__________________________________________________________________________________________________\n"
     ]
    }
   ],
   "source": [
    "model = indicator_cnn_binary(input_shape)\n",
    "keras.utils.plot_model(model, \"multi_input_and_output_model.png\", show_shapes=True)\n",
    "model.summary()"
   ]
  },
  {
   "cell_type": "code",
   "execution_count": 87,
   "id": "6678be5c-2ac1-4fc6-a0c4-9774b246d09b",
   "metadata": {
    "collapsed": true,
    "jupyter": {
     "outputs_hidden": true
    },
    "tags": []
   },
   "outputs": [
    {
     "name": "stdout",
     "output_type": "stream",
     "text": [
      "Epoch 1/150\n",
      "13/13 [==============================] - 0s 10ms/step - loss: 0.6268 - binary_accuracy: 0.5903 - val_loss: 0.7641 - val_binary_accuracy: 0.5257\n",
      "Epoch 2/150\n",
      "13/13 [==============================] - 0s 9ms/step - loss: 0.6297 - binary_accuracy: 0.5960 - val_loss: 0.7535 - val_binary_accuracy: 0.5207\n",
      "Epoch 3/150\n",
      "13/13 [==============================] - 0s 8ms/step - loss: 0.6284 - binary_accuracy: 0.6019 - val_loss: 0.7524 - val_binary_accuracy: 0.5232\n",
      "Epoch 4/150\n",
      "13/13 [==============================] - 0s 8ms/step - loss: 0.6353 - binary_accuracy: 0.5947 - val_loss: 0.7351 - val_binary_accuracy: 0.5182\n",
      "Epoch 5/150\n",
      "13/13 [==============================] - 0s 9ms/step - loss: 0.6307 - binary_accuracy: 0.5982 - val_loss: 0.7469 - val_binary_accuracy: 0.5107\n",
      "Epoch 6/150\n",
      "13/13 [==============================] - 0s 9ms/step - loss: 0.6269 - binary_accuracy: 0.6060 - val_loss: 0.7327 - val_binary_accuracy: 0.5332\n",
      "Epoch 7/150\n",
      "13/13 [==============================] - 0s 8ms/step - loss: 0.6285 - binary_accuracy: 0.5888 - val_loss: 0.7561 - val_binary_accuracy: 0.5245\n",
      "Epoch 8/150\n",
      "13/13 [==============================] - 0s 9ms/step - loss: 0.6315 - binary_accuracy: 0.6010 - val_loss: 0.7352 - val_binary_accuracy: 0.5307\n",
      "Epoch 9/150\n",
      "13/13 [==============================] - 0s 9ms/step - loss: 0.6328 - binary_accuracy: 0.5841 - val_loss: 0.7726 - val_binary_accuracy: 0.5320\n",
      "Epoch 10/150\n",
      "13/13 [==============================] - 0s 9ms/step - loss: 0.6332 - binary_accuracy: 0.5894 - val_loss: 0.7435 - val_binary_accuracy: 0.5220\n",
      "Epoch 11/150\n",
      "13/13 [==============================] - 0s 8ms/step - loss: 0.6363 - binary_accuracy: 0.6026 - val_loss: 0.7404 - val_binary_accuracy: 0.4918\n",
      "Epoch 12/150\n",
      "13/13 [==============================] - 0s 9ms/step - loss: 0.6315 - binary_accuracy: 0.5803 - val_loss: 0.7418 - val_binary_accuracy: 0.5257\n",
      "Epoch 13/150\n",
      "13/13 [==============================] - 0s 8ms/step - loss: 0.6294 - binary_accuracy: 0.6007 - val_loss: 0.7437 - val_binary_accuracy: 0.5232\n",
      "Epoch 14/150\n",
      "13/13 [==============================] - 0s 9ms/step - loss: 0.6290 - binary_accuracy: 0.6038 - val_loss: 0.7466 - val_binary_accuracy: 0.5132\n",
      "Epoch 15/150\n",
      "13/13 [==============================] - 0s 9ms/step - loss: 0.6297 - binary_accuracy: 0.5960 - val_loss: 0.7590 - val_binary_accuracy: 0.5332\n",
      "Epoch 16/150\n",
      "13/13 [==============================] - 0s 9ms/step - loss: 0.6251 - binary_accuracy: 0.6026 - val_loss: 0.7386 - val_binary_accuracy: 0.5119\n",
      "Epoch 17/150\n",
      "13/13 [==============================] - 0s 9ms/step - loss: 0.6277 - binary_accuracy: 0.6026 - val_loss: 0.7357 - val_binary_accuracy: 0.5207\n",
      "Epoch 18/150\n",
      "13/13 [==============================] - 0s 8ms/step - loss: 0.6312 - binary_accuracy: 0.5900 - val_loss: 0.7722 - val_binary_accuracy: 0.5358\n",
      "Epoch 19/150\n",
      "13/13 [==============================] - 0s 8ms/step - loss: 0.6328 - binary_accuracy: 0.5972 - val_loss: 0.7596 - val_binary_accuracy: 0.5383\n",
      "Epoch 20/150\n",
      "13/13 [==============================] - 0s 9ms/step - loss: 0.6266 - binary_accuracy: 0.6048 - val_loss: 0.7339 - val_binary_accuracy: 0.5220\n",
      "Epoch 21/150\n",
      "13/13 [==============================] - 0s 8ms/step - loss: 0.6250 - binary_accuracy: 0.6010 - val_loss: 0.7682 - val_binary_accuracy: 0.5307\n",
      "Epoch 22/150\n",
      "13/13 [==============================] - 0s 8ms/step - loss: 0.6325 - binary_accuracy: 0.5925 - val_loss: 0.7511 - val_binary_accuracy: 0.5182\n",
      "Epoch 23/150\n",
      "13/13 [==============================] - 0s 9ms/step - loss: 0.6338 - binary_accuracy: 0.5916 - val_loss: 0.7345 - val_binary_accuracy: 0.5182\n",
      "Epoch 24/150\n",
      "13/13 [==============================] - 0s 9ms/step - loss: 0.6263 - binary_accuracy: 0.6016 - val_loss: 0.7594 - val_binary_accuracy: 0.5194\n",
      "Epoch 25/150\n",
      "13/13 [==============================] - 0s 8ms/step - loss: 0.6255 - binary_accuracy: 0.6041 - val_loss: 0.7339 - val_binary_accuracy: 0.5144\n",
      "Epoch 26/150\n",
      "13/13 [==============================] - 0s 9ms/step - loss: 0.6289 - binary_accuracy: 0.5891 - val_loss: 0.7478 - val_binary_accuracy: 0.5282\n",
      "Epoch 27/150\n",
      "13/13 [==============================] - 0s 9ms/step - loss: 0.6254 - binary_accuracy: 0.6189 - val_loss: 0.7529 - val_binary_accuracy: 0.5157\n",
      "Epoch 28/150\n",
      "13/13 [==============================] - 0s 8ms/step - loss: 0.6256 - binary_accuracy: 0.5988 - val_loss: 0.7547 - val_binary_accuracy: 0.5320\n",
      "Epoch 29/150\n",
      "13/13 [==============================] - 0s 8ms/step - loss: 0.6260 - binary_accuracy: 0.6013 - val_loss: 0.7495 - val_binary_accuracy: 0.5220\n",
      "Epoch 30/150\n",
      "13/13 [==============================] - 0s 9ms/step - loss: 0.6244 - binary_accuracy: 0.6035 - val_loss: 0.7472 - val_binary_accuracy: 0.5194\n",
      "Epoch 31/150\n",
      "13/13 [==============================] - 0s 8ms/step - loss: 0.6260 - binary_accuracy: 0.6032 - val_loss: 0.7516 - val_binary_accuracy: 0.5207\n",
      "Epoch 32/150\n",
      "13/13 [==============================] - 0s 9ms/step - loss: 0.6315 - binary_accuracy: 0.5950 - val_loss: 0.7692 - val_binary_accuracy: 0.5220\n",
      "Epoch 33/150\n",
      "13/13 [==============================] - 0s 9ms/step - loss: 0.6324 - binary_accuracy: 0.5878 - val_loss: 0.7357 - val_binary_accuracy: 0.5157\n",
      "Epoch 34/150\n",
      "13/13 [==============================] - 0s 9ms/step - loss: 0.6421 - binary_accuracy: 0.5907 - val_loss: 0.7328 - val_binary_accuracy: 0.4969\n",
      "Epoch 35/150\n",
      "13/13 [==============================] - 0s 9ms/step - loss: 0.6449 - binary_accuracy: 0.5765 - val_loss: 0.7294 - val_binary_accuracy: 0.5094\n",
      "Epoch 36/150\n",
      "13/13 [==============================] - 0s 9ms/step - loss: 0.6336 - binary_accuracy: 0.6001 - val_loss: 0.7313 - val_binary_accuracy: 0.5119\n",
      "Epoch 37/150\n",
      "13/13 [==============================] - 0s 9ms/step - loss: 0.6260 - binary_accuracy: 0.6038 - val_loss: 0.7582 - val_binary_accuracy: 0.5232\n",
      "Epoch 38/150\n",
      "13/13 [==============================] - 0s 9ms/step - loss: 0.6262 - binary_accuracy: 0.5972 - val_loss: 0.7457 - val_binary_accuracy: 0.5194\n",
      "Epoch 39/150\n",
      "13/13 [==============================] - 0s 8ms/step - loss: 0.6301 - binary_accuracy: 0.6085 - val_loss: 0.7449 - val_binary_accuracy: 0.5182\n",
      "Epoch 40/150\n",
      "13/13 [==============================] - 0s 9ms/step - loss: 0.6241 - binary_accuracy: 0.5994 - val_loss: 0.7522 - val_binary_accuracy: 0.5182\n",
      "Epoch 41/150\n",
      "13/13 [==============================] - 0s 8ms/step - loss: 0.6273 - binary_accuracy: 0.6001 - val_loss: 0.7488 - val_binary_accuracy: 0.5157\n",
      "Epoch 42/150\n",
      "13/13 [==============================] - 0s 8ms/step - loss: 0.6356 - binary_accuracy: 0.5925 - val_loss: 0.7353 - val_binary_accuracy: 0.5257\n",
      "Epoch 43/150\n",
      "13/13 [==============================] - 0s 8ms/step - loss: 0.6330 - binary_accuracy: 0.5950 - val_loss: 0.7820 - val_binary_accuracy: 0.5157\n",
      "Epoch 44/150\n",
      "13/13 [==============================] - 0s 8ms/step - loss: 0.6323 - binary_accuracy: 0.5916 - val_loss: 0.7837 - val_binary_accuracy: 0.5445\n",
      "Epoch 45/150\n",
      "13/13 [==============================] - 0s 8ms/step - loss: 0.6423 - binary_accuracy: 0.5819 - val_loss: 0.7336 - val_binary_accuracy: 0.5119\n",
      "Epoch 46/150\n",
      "13/13 [==============================] - 0s 8ms/step - loss: 0.6326 - binary_accuracy: 0.5838 - val_loss: 0.7413 - val_binary_accuracy: 0.5282\n",
      "Epoch 47/150\n",
      "13/13 [==============================] - 0s 9ms/step - loss: 0.6247 - binary_accuracy: 0.5969 - val_loss: 0.7624 - val_binary_accuracy: 0.5320\n",
      "Epoch 48/150\n",
      "13/13 [==============================] - 0s 9ms/step - loss: 0.6237 - binary_accuracy: 0.6095 - val_loss: 0.7597 - val_binary_accuracy: 0.5194\n",
      "Epoch 49/150\n",
      "13/13 [==============================] - 0s 8ms/step - loss: 0.6241 - binary_accuracy: 0.6088 - val_loss: 0.7645 - val_binary_accuracy: 0.5157\n",
      "Epoch 50/150\n",
      "13/13 [==============================] - 0s 9ms/step - loss: 0.6246 - binary_accuracy: 0.5976 - val_loss: 0.7695 - val_binary_accuracy: 0.5433\n",
      "Epoch 51/150\n",
      "13/13 [==============================] - 0s 9ms/step - loss: 0.6279 - binary_accuracy: 0.6082 - val_loss: 0.7531 - val_binary_accuracy: 0.5107\n",
      "Epoch 52/150\n",
      "13/13 [==============================] - 0s 9ms/step - loss: 0.6313 - binary_accuracy: 0.5841 - val_loss: 0.7451 - val_binary_accuracy: 0.5157\n",
      "Epoch 53/150\n",
      "13/13 [==============================] - 0s 9ms/step - loss: 0.6263 - binary_accuracy: 0.6010 - val_loss: 0.7342 - val_binary_accuracy: 0.5056\n",
      "Epoch 54/150\n",
      "13/13 [==============================] - 0s 9ms/step - loss: 0.6366 - binary_accuracy: 0.5794 - val_loss: 0.7405 - val_binary_accuracy: 0.5056\n",
      "Epoch 55/150\n",
      "13/13 [==============================] - 0s 9ms/step - loss: 0.6319 - binary_accuracy: 0.5960 - val_loss: 0.7563 - val_binary_accuracy: 0.5257\n",
      "Epoch 56/150\n",
      "13/13 [==============================] - 0s 9ms/step - loss: 0.6293 - binary_accuracy: 0.5881 - val_loss: 0.7522 - val_binary_accuracy: 0.5220\n",
      "Epoch 57/150\n",
      "13/13 [==============================] - 0s 9ms/step - loss: 0.6300 - binary_accuracy: 0.5991 - val_loss: 0.7622 - val_binary_accuracy: 0.5257\n",
      "Epoch 58/150\n",
      "13/13 [==============================] - 0s 9ms/step - loss: 0.6290 - binary_accuracy: 0.5950 - val_loss: 0.7454 - val_binary_accuracy: 0.5031\n",
      "Epoch 59/150\n",
      "13/13 [==============================] - 0s 8ms/step - loss: 0.6320 - binary_accuracy: 0.5928 - val_loss: 0.7636 - val_binary_accuracy: 0.5320\n",
      "Epoch 60/150\n",
      "13/13 [==============================] - 0s 9ms/step - loss: 0.6286 - binary_accuracy: 0.5900 - val_loss: 0.7369 - val_binary_accuracy: 0.5194\n",
      "Epoch 61/150\n",
      "13/13 [==============================] - 0s 9ms/step - loss: 0.6259 - binary_accuracy: 0.6082 - val_loss: 0.7363 - val_binary_accuracy: 0.5119\n",
      "Epoch 62/150\n",
      "13/13 [==============================] - 0s 9ms/step - loss: 0.6240 - binary_accuracy: 0.5941 - val_loss: 0.7887 - val_binary_accuracy: 0.5307\n",
      "Epoch 63/150\n",
      "13/13 [==============================] - 0s 9ms/step - loss: 0.6241 - binary_accuracy: 0.5994 - val_loss: 0.7615 - val_binary_accuracy: 0.5182\n",
      "Epoch 64/150\n",
      "13/13 [==============================] - 0s 9ms/step - loss: 0.6274 - binary_accuracy: 0.6183 - val_loss: 0.7501 - val_binary_accuracy: 0.5194\n",
      "Epoch 65/150\n",
      "13/13 [==============================] - 0s 9ms/step - loss: 0.6309 - binary_accuracy: 0.5853 - val_loss: 0.7590 - val_binary_accuracy: 0.5257\n",
      "Epoch 66/150\n",
      "13/13 [==============================] - 0s 8ms/step - loss: 0.6259 - binary_accuracy: 0.5972 - val_loss: 0.7637 - val_binary_accuracy: 0.5245\n",
      "Epoch 67/150\n",
      "13/13 [==============================] - 0s 8ms/step - loss: 0.6253 - binary_accuracy: 0.6073 - val_loss: 0.7510 - val_binary_accuracy: 0.5232\n",
      "Epoch 68/150\n",
      "13/13 [==============================] - 0s 9ms/step - loss: 0.6220 - binary_accuracy: 0.6063 - val_loss: 0.7440 - val_binary_accuracy: 0.5119\n",
      "Epoch 69/150\n",
      "13/13 [==============================] - 0s 9ms/step - loss: 0.6230 - binary_accuracy: 0.6032 - val_loss: 0.7655 - val_binary_accuracy: 0.5257\n",
      "Epoch 70/150\n",
      "13/13 [==============================] - 0s 8ms/step - loss: 0.6264 - binary_accuracy: 0.6004 - val_loss: 0.7635 - val_binary_accuracy: 0.5220\n",
      "Epoch 71/150\n",
      "13/13 [==============================] - 0s 8ms/step - loss: 0.6278 - binary_accuracy: 0.5863 - val_loss: 0.7494 - val_binary_accuracy: 0.5119\n",
      "Epoch 72/150\n",
      "13/13 [==============================] - 0s 9ms/step - loss: 0.6264 - binary_accuracy: 0.6101 - val_loss: 0.7483 - val_binary_accuracy: 0.5169\n",
      "Epoch 73/150\n",
      "13/13 [==============================] - 0s 9ms/step - loss: 0.6263 - binary_accuracy: 0.5928 - val_loss: 0.7677 - val_binary_accuracy: 0.5182\n",
      "Epoch 74/150\n",
      "13/13 [==============================] - 0s 9ms/step - loss: 0.6253 - binary_accuracy: 0.6057 - val_loss: 0.7323 - val_binary_accuracy: 0.5157\n",
      "Epoch 75/150\n",
      "13/13 [==============================] - 0s 9ms/step - loss: 0.6317 - binary_accuracy: 0.5900 - val_loss: 0.7719 - val_binary_accuracy: 0.5320\n",
      "Epoch 76/150\n",
      "13/13 [==============================] - 0s 8ms/step - loss: 0.6287 - binary_accuracy: 0.6007 - val_loss: 0.7751 - val_binary_accuracy: 0.5194\n",
      "Epoch 77/150\n",
      "13/13 [==============================] - 0s 8ms/step - loss: 0.6246 - binary_accuracy: 0.6013 - val_loss: 0.7397 - val_binary_accuracy: 0.5119\n",
      "Epoch 78/150\n",
      "13/13 [==============================] - 0s 8ms/step - loss: 0.6292 - binary_accuracy: 0.5994 - val_loss: 0.7542 - val_binary_accuracy: 0.5207\n",
      "Epoch 79/150\n",
      "13/13 [==============================] - 0s 9ms/step - loss: 0.6304 - binary_accuracy: 0.5878 - val_loss: 0.8057 - val_binary_accuracy: 0.5270\n",
      "Epoch 80/150\n",
      "13/13 [==============================] - 0s 9ms/step - loss: 0.6275 - binary_accuracy: 0.6032 - val_loss: 0.7301 - val_binary_accuracy: 0.5270\n",
      "Epoch 81/150\n",
      "13/13 [==============================] - 0s 9ms/step - loss: 0.6270 - binary_accuracy: 0.5991 - val_loss: 0.7517 - val_binary_accuracy: 0.5395\n",
      "Epoch 82/150\n",
      "13/13 [==============================] - 0s 9ms/step - loss: 0.6264 - binary_accuracy: 0.6136 - val_loss: 0.7574 - val_binary_accuracy: 0.5119\n",
      "Epoch 83/150\n",
      "13/13 [==============================] - 0s 8ms/step - loss: 0.6275 - binary_accuracy: 0.5806 - val_loss: 0.7806 - val_binary_accuracy: 0.5245\n",
      "Epoch 84/150\n",
      "13/13 [==============================] - 0s 8ms/step - loss: 0.6302 - binary_accuracy: 0.6010 - val_loss: 0.7608 - val_binary_accuracy: 0.5282\n",
      "Epoch 85/150\n",
      "13/13 [==============================] - 0s 8ms/step - loss: 0.6286 - binary_accuracy: 0.6045 - val_loss: 0.7406 - val_binary_accuracy: 0.5132\n",
      "Epoch 86/150\n",
      "13/13 [==============================] - 0s 8ms/step - loss: 0.6230 - binary_accuracy: 0.5954 - val_loss: 0.7610 - val_binary_accuracy: 0.5182\n",
      "Epoch 87/150\n",
      "13/13 [==============================] - 0s 8ms/step - loss: 0.6225 - binary_accuracy: 0.6070 - val_loss: 0.7413 - val_binary_accuracy: 0.5119\n",
      "Epoch 88/150\n",
      "13/13 [==============================] - 0s 8ms/step - loss: 0.6243 - binary_accuracy: 0.6032 - val_loss: 0.7668 - val_binary_accuracy: 0.5245\n",
      "Epoch 89/150\n",
      "13/13 [==============================] - 0s 8ms/step - loss: 0.6229 - binary_accuracy: 0.6045 - val_loss: 0.7550 - val_binary_accuracy: 0.5182\n",
      "Epoch 90/150\n",
      "13/13 [==============================] - 0s 8ms/step - loss: 0.6263 - binary_accuracy: 0.5957 - val_loss: 0.7400 - val_binary_accuracy: 0.5207\n",
      "Epoch 91/150\n",
      "13/13 [==============================] - 0s 8ms/step - loss: 0.6254 - binary_accuracy: 0.6095 - val_loss: 0.7373 - val_binary_accuracy: 0.5107\n",
      "Epoch 92/150\n",
      "13/13 [==============================] - 0s 9ms/step - loss: 0.6263 - binary_accuracy: 0.5938 - val_loss: 0.7864 - val_binary_accuracy: 0.5408\n",
      "Epoch 93/150\n",
      "13/13 [==============================] - 0s 9ms/step - loss: 0.6242 - binary_accuracy: 0.5979 - val_loss: 0.7580 - val_binary_accuracy: 0.5182\n",
      "Epoch 94/150\n",
      "13/13 [==============================] - 0s 8ms/step - loss: 0.6223 - binary_accuracy: 0.6186 - val_loss: 0.7536 - val_binary_accuracy: 0.5270\n",
      "Epoch 95/150\n",
      "13/13 [==============================] - 0s 9ms/step - loss: 0.6216 - binary_accuracy: 0.6010 - val_loss: 0.7578 - val_binary_accuracy: 0.5245\n",
      "Epoch 96/150\n",
      "13/13 [==============================] - 0s 9ms/step - loss: 0.6271 - binary_accuracy: 0.6167 - val_loss: 0.7532 - val_binary_accuracy: 0.5069\n",
      "Epoch 97/150\n",
      "13/13 [==============================] - 0s 8ms/step - loss: 0.6247 - binary_accuracy: 0.5985 - val_loss: 0.7395 - val_binary_accuracy: 0.5282\n",
      "Epoch 98/150\n",
      "13/13 [==============================] - 0s 8ms/step - loss: 0.6250 - binary_accuracy: 0.6107 - val_loss: 0.7501 - val_binary_accuracy: 0.5207\n",
      "Epoch 99/150\n",
      "13/13 [==============================] - 0s 8ms/step - loss: 0.6242 - binary_accuracy: 0.6007 - val_loss: 0.7511 - val_binary_accuracy: 0.5245\n",
      "Epoch 100/150\n",
      "13/13 [==============================] - 0s 8ms/step - loss: 0.6232 - binary_accuracy: 0.6048 - val_loss: 0.7705 - val_binary_accuracy: 0.5107\n",
      "Epoch 101/150\n",
      "13/13 [==============================] - 0s 9ms/step - loss: 0.6249 - binary_accuracy: 0.6142 - val_loss: 0.7306 - val_binary_accuracy: 0.5144\n",
      "Epoch 102/150\n",
      "13/13 [==============================] - 0s 8ms/step - loss: 0.6238 - binary_accuracy: 0.5941 - val_loss: 0.7601 - val_binary_accuracy: 0.5207\n",
      "Epoch 103/150\n",
      "13/13 [==============================] - 0s 8ms/step - loss: 0.6246 - binary_accuracy: 0.6120 - val_loss: 0.7427 - val_binary_accuracy: 0.5220\n",
      "Epoch 104/150\n",
      "13/13 [==============================] - 0s 8ms/step - loss: 0.6218 - binary_accuracy: 0.6082 - val_loss: 0.7314 - val_binary_accuracy: 0.5207\n",
      "Epoch 105/150\n",
      "13/13 [==============================] - 0s 8ms/step - loss: 0.6253 - binary_accuracy: 0.5985 - val_loss: 0.7654 - val_binary_accuracy: 0.5245\n",
      "Epoch 106/150\n",
      "13/13 [==============================] - 0s 9ms/step - loss: 0.6253 - binary_accuracy: 0.6023 - val_loss: 0.7628 - val_binary_accuracy: 0.5307\n",
      "Epoch 107/150\n",
      "13/13 [==============================] - 0s 9ms/step - loss: 0.6226 - binary_accuracy: 0.6082 - val_loss: 0.7411 - val_binary_accuracy: 0.5220\n",
      "Epoch 108/150\n",
      "13/13 [==============================] - 0s 9ms/step - loss: 0.6237 - binary_accuracy: 0.5897 - val_loss: 0.7478 - val_binary_accuracy: 0.5182\n",
      "Epoch 109/150\n",
      "13/13 [==============================] - 0s 8ms/step - loss: 0.6259 - binary_accuracy: 0.6129 - val_loss: 0.7403 - val_binary_accuracy: 0.5157\n",
      "Epoch 110/150\n",
      "13/13 [==============================] - 0s 8ms/step - loss: 0.6225 - binary_accuracy: 0.5969 - val_loss: 0.7730 - val_binary_accuracy: 0.5370\n",
      "Epoch 111/150\n",
      "13/13 [==============================] - 0s 9ms/step - loss: 0.6206 - binary_accuracy: 0.6076 - val_loss: 0.7324 - val_binary_accuracy: 0.5295\n",
      "Epoch 112/150\n",
      "13/13 [==============================] - 0s 8ms/step - loss: 0.6263 - binary_accuracy: 0.6085 - val_loss: 0.7632 - val_binary_accuracy: 0.5257\n",
      "Epoch 113/150\n",
      "13/13 [==============================] - 0s 8ms/step - loss: 0.6246 - binary_accuracy: 0.5900 - val_loss: 0.7797 - val_binary_accuracy: 0.5270\n",
      "Epoch 114/150\n",
      "13/13 [==============================] - 0s 8ms/step - loss: 0.6292 - binary_accuracy: 0.5997 - val_loss: 0.7361 - val_binary_accuracy: 0.5207\n",
      "Epoch 115/150\n",
      "13/13 [==============================] - 0s 8ms/step - loss: 0.6282 - binary_accuracy: 0.5900 - val_loss: 0.7391 - val_binary_accuracy: 0.5270\n",
      "Epoch 116/150\n",
      "13/13 [==============================] - 0s 8ms/step - loss: 0.6231 - binary_accuracy: 0.6192 - val_loss: 0.7351 - val_binary_accuracy: 0.5257\n",
      "Epoch 117/150\n",
      "13/13 [==============================] - 0s 8ms/step - loss: 0.6213 - binary_accuracy: 0.5903 - val_loss: 0.7795 - val_binary_accuracy: 0.5144\n",
      "Epoch 118/150\n",
      "13/13 [==============================] - 0s 9ms/step - loss: 0.6247 - binary_accuracy: 0.6060 - val_loss: 0.7417 - val_binary_accuracy: 0.5207\n",
      "Epoch 119/150\n",
      "13/13 [==============================] - 0s 9ms/step - loss: 0.6192 - binary_accuracy: 0.6107 - val_loss: 0.7550 - val_binary_accuracy: 0.5270\n",
      "Epoch 120/150\n",
      "13/13 [==============================] - 0s 8ms/step - loss: 0.6214 - binary_accuracy: 0.6051 - val_loss: 0.7563 - val_binary_accuracy: 0.5182\n",
      "Epoch 121/150\n",
      "13/13 [==============================] - 0s 10ms/step - loss: 0.6209 - binary_accuracy: 0.6114 - val_loss: 0.7529 - val_binary_accuracy: 0.5245\n",
      "Epoch 122/150\n",
      "13/13 [==============================] - 0s 11ms/step - loss: 0.6211 - binary_accuracy: 0.6076 - val_loss: 0.7585 - val_binary_accuracy: 0.5157\n",
      "Epoch 123/150\n",
      "13/13 [==============================] - 0s 8ms/step - loss: 0.6212 - binary_accuracy: 0.6161 - val_loss: 0.7253 - val_binary_accuracy: 0.5220\n",
      "Epoch 124/150\n",
      "13/13 [==============================] - 0s 8ms/step - loss: 0.6285 - binary_accuracy: 0.5913 - val_loss: 0.7893 - val_binary_accuracy: 0.5245\n",
      "Epoch 125/150\n",
      "13/13 [==============================] - 0s 8ms/step - loss: 0.6258 - binary_accuracy: 0.6045 - val_loss: 0.7419 - val_binary_accuracy: 0.5320\n",
      "Epoch 126/150\n",
      "13/13 [==============================] - 0s 9ms/step - loss: 0.6260 - binary_accuracy: 0.6066 - val_loss: 0.7403 - val_binary_accuracy: 0.5031\n",
      "Epoch 127/150\n",
      "13/13 [==============================] - 0s 9ms/step - loss: 0.6369 - binary_accuracy: 0.5812 - val_loss: 0.7724 - val_binary_accuracy: 0.5194\n",
      "Epoch 128/150\n",
      "13/13 [==============================] - 0s 9ms/step - loss: 0.6272 - binary_accuracy: 0.6183 - val_loss: 0.7357 - val_binary_accuracy: 0.5157\n",
      "Epoch 129/150\n",
      "13/13 [==============================] - 0s 9ms/step - loss: 0.6250 - binary_accuracy: 0.6029 - val_loss: 0.7425 - val_binary_accuracy: 0.5157\n",
      "Epoch 130/150\n",
      "13/13 [==============================] - 0s 8ms/step - loss: 0.6278 - binary_accuracy: 0.6076 - val_loss: 0.7302 - val_binary_accuracy: 0.5082\n",
      "Epoch 131/150\n",
      "13/13 [==============================] - 0s 9ms/step - loss: 0.6260 - binary_accuracy: 0.5903 - val_loss: 0.7600 - val_binary_accuracy: 0.5245\n",
      "Epoch 132/150\n",
      "13/13 [==============================] - 0s 9ms/step - loss: 0.6210 - binary_accuracy: 0.6123 - val_loss: 0.7590 - val_binary_accuracy: 0.5345\n",
      "Epoch 133/150\n",
      "13/13 [==============================] - 0s 8ms/step - loss: 0.6225 - binary_accuracy: 0.6107 - val_loss: 0.7278 - val_binary_accuracy: 0.5194\n",
      "Epoch 134/150\n",
      "13/13 [==============================] - 0s 8ms/step - loss: 0.6240 - binary_accuracy: 0.5997 - val_loss: 0.7688 - val_binary_accuracy: 0.5257\n",
      "Epoch 135/150\n",
      "13/13 [==============================] - 0s 9ms/step - loss: 0.6273 - binary_accuracy: 0.6019 - val_loss: 0.7572 - val_binary_accuracy: 0.5270\n",
      "Epoch 136/150\n",
      "13/13 [==============================] - 0s 9ms/step - loss: 0.6243 - binary_accuracy: 0.5954 - val_loss: 0.7594 - val_binary_accuracy: 0.5220\n",
      "Epoch 137/150\n",
      "13/13 [==============================] - 0s 8ms/step - loss: 0.6276 - binary_accuracy: 0.6013 - val_loss: 0.7525 - val_binary_accuracy: 0.5132\n",
      "Epoch 138/150\n",
      "13/13 [==============================] - 0s 9ms/step - loss: 0.6175 - binary_accuracy: 0.6129 - val_loss: 0.7473 - val_binary_accuracy: 0.5257\n",
      "Epoch 139/150\n",
      "13/13 [==============================] - 0s 8ms/step - loss: 0.6197 - binary_accuracy: 0.6032 - val_loss: 0.7489 - val_binary_accuracy: 0.5320\n",
      "Epoch 140/150\n",
      "13/13 [==============================] - 0s 8ms/step - loss: 0.6249 - binary_accuracy: 0.5963 - val_loss: 0.7509 - val_binary_accuracy: 0.5182\n",
      "Epoch 141/150\n",
      "13/13 [==============================] - 0s 8ms/step - loss: 0.6200 - binary_accuracy: 0.6154 - val_loss: 0.7567 - val_binary_accuracy: 0.5232\n",
      "Epoch 142/150\n",
      "13/13 [==============================] - 0s 8ms/step - loss: 0.6208 - binary_accuracy: 0.6038 - val_loss: 0.7764 - val_binary_accuracy: 0.5445\n",
      "Epoch 143/150\n",
      "13/13 [==============================] - 0s 8ms/step - loss: 0.6237 - binary_accuracy: 0.6139 - val_loss: 0.7373 - val_binary_accuracy: 0.5245\n",
      "Epoch 144/150\n",
      "13/13 [==============================] - 0s 8ms/step - loss: 0.6220 - binary_accuracy: 0.5960 - val_loss: 0.7503 - val_binary_accuracy: 0.5169\n",
      "Epoch 145/150\n",
      "13/13 [==============================] - 0s 9ms/step - loss: 0.6263 - binary_accuracy: 0.6010 - val_loss: 0.7417 - val_binary_accuracy: 0.5358\n",
      "Epoch 146/150\n",
      "13/13 [==============================] - 0s 9ms/step - loss: 0.6239 - binary_accuracy: 0.6054 - val_loss: 0.7662 - val_binary_accuracy: 0.5307\n",
      "Epoch 147/150\n",
      "13/13 [==============================] - 0s 9ms/step - loss: 0.6210 - binary_accuracy: 0.6070 - val_loss: 0.7452 - val_binary_accuracy: 0.5144\n",
      "Epoch 148/150\n",
      "13/13 [==============================] - 0s 9ms/step - loss: 0.6247 - binary_accuracy: 0.6007 - val_loss: 0.7595 - val_binary_accuracy: 0.5157\n",
      "Epoch 149/150\n",
      "13/13 [==============================] - 0s 8ms/step - loss: 0.6206 - binary_accuracy: 0.6013 - val_loss: 0.7806 - val_binary_accuracy: 0.5220\n",
      "Epoch 150/150\n",
      "13/13 [==============================] - 0s 9ms/step - loss: 0.6190 - binary_accuracy: 0.6179 - val_loss: 0.7533 - val_binary_accuracy: 0.5220\n",
      "32/32 - 0s - loss: 0.7960 - binary_accuracy: 0.5225 - 50ms/epoch - 2ms/step\n"
     ]
    }
   ],
   "source": [
    "history = model.fit(x=[x_train_daily, x_train_ema], y=y_train, batch_size=254, epochs=150, validation_split=0.2)\n",
    "test_scores = model.evaluate(x=[x_val_daily, x_val_ema], y=y_val, verbose=2)"
   ]
  },
  {
   "cell_type": "code",
   "execution_count": 88,
   "id": "9a64afcb-76f7-4c2c-b258-137573e2b6cb",
   "metadata": {},
   "outputs": [
    {
     "data": {
      "text/plain": [
       "[<matplotlib.lines.Line2D at 0x7f766c4cf7c0>]"
      ]
     },
     "execution_count": 88,
     "metadata": {},
     "output_type": "execute_result"
    },
    {
     "data": {
      "image/png": "[encoded data removed]",
      "text/plain": [
       "<Figure size 432x288 with 1 Axes>"
      ]
     },
     "metadata": {
      "needs_background": "light"
     },
     "output_type": "display_data"
    }
   ],
   "source": [
    "plt.plot(history.history['loss'])\n",
    "plt.plot(history.history['val_loss'])"
   ]
  },
  {
   "cell_type": "code",
   "execution_count": 89,
   "id": "f2779e86-d879-4612-b22a-08f8ca1c8af7",
   "metadata": {},
   "outputs": [
    {
     "data": {
      "text/plain": [
       "[0.7960314154624939, 0.5224775075912476]"
      ]
     },
     "execution_count": 89,
     "metadata": {},
     "output_type": "execute_result"
    }
   ],
   "source": [
    "test_scores"
   ]
  },
  {
   "cell_type": "code",
   "execution_count": 90,
   "id": "93b0e9ad-6c1f-4d34-b442-cadc3af52d31",
   "metadata": {},
   "outputs": [],
   "source": [
    "y_pred = model.predict(x=[x_val_daily, x_val_ema])"
   ]
  },
  {
   "cell_type": "code",
   "execution_count": 91,
   "id": "073dbe86-dab8-4db8-a792-6210fd85abad",
   "metadata": {},
   "outputs": [],
   "source": [
    "from sklearn.metrics import confusion_matrix\n",
    "def sigmoid(x):\n",
    "    return 1/(1 + np.exp(-x))"
   ]
  },
  {
   "cell_type": "code",
   "execution_count": 92,
   "id": "0a120ac5-1145-40f1-bc1e-36b51c0e0c11",
   "metadata": {},
   "outputs": [],
   "source": [
    "def threshhold(x, thresh):\n",
    "    return (x > thresh).astype(int)"
   ]
  },
  {
   "cell_type": "code",
   "execution_count": 93,
   "id": "7cde50c4-1ee4-4ba4-b2be-88addfb5c158",
   "metadata": {},
   "outputs": [],
   "source": [
    "y_pred_sigmoid = sigmoid(y_pred)\n",
    "y_pred_binary = threshhold(y_pred_sigmoid, 0.5)"
   ]
  },
  {
   "cell_type": "code",
   "execution_count": 94,
   "id": "92aba3a1-e01b-4040-9c6e-80887c872862",
   "metadata": {},
   "outputs": [
    {
     "data": {
      "text/plain": [
       "[<matplotlib.lines.Line2D at 0x7f766c3efb80>]"
      ]
     },
     "execution_count": 94,
     "metadata": {},
     "output_type": "execute_result"
    },
    {
     "data": {
      "image/png": "[encoded data removed]",
      "text/plain": [
       "<Figure size 432x288 with 1 Axes>"
      ]
     },
     "metadata": {
      "needs_background": "light"
     },
     "output_type": "display_data"
    }
   ],
   "source": [
    "plt.plot(y_pred_binary[20:60])\n",
    "plt.plot(y_val[20:60])"
   ]
  },
  {
   "cell_type": "code",
   "execution_count": 95,
   "id": "4b3da6a7-180d-4675-b1c3-36e62ca6702b",
   "metadata": {},
   "outputs": [
    {
     "data": {
      "text/plain": [
       "(array([  6.,   7.,  22.,  90., 165., 144., 156., 136., 123., 152.]),\n",
       " array([0.02599617, 0.12302889, 0.22006162, 0.31709433, 0.41412705,\n",
       "        0.5111598 , 0.6081925 , 0.70522517, 0.8022579 , 0.8992906 ,\n",
       "        0.99632335], dtype=float32),\n",
       " <BarContainer object of 10 artists>)"
      ]
     },
     "execution_count": 95,
     "metadata": {},
     "output_type": "execute_result"
    },
    {
     "data": {
      "image/png": "[encoded data removed]",
      "text/plain": [
       "<Figure size 432x288 with 1 Axes>"
      ]
     },
     "metadata": {
      "needs_background": "light"
     },
     "output_type": "display_data"
    }
   ],
   "source": [
    "plt.hist(y_pred_sigmoid)"
   ]
  },
  {
   "cell_type": "code",
   "execution_count": 99,
   "id": "bca8f07a-0166-4bd7-a86b-56434bdaa30a",
   "metadata": {},
   "outputs": [],
   "source": [
    "y_pred_binary = threshhold(y_pred_sigmoid, 0.51).reshape(1001,)"
   ]
  },
  {
   "cell_type": "code",
   "execution_count": 100,
   "id": "8c9de1e4-86ec-47e4-8c31-13ad8f1bc89a",
   "metadata": {},
   "outputs": [],
   "source": [
    "def show_cf(y_val, y_pred_binary):\n",
    "    cf = confusion_matrix(y_val, y_pred_binary, labels = [0,1], normalize='true')\n",
    "    ConfusionMatrixDisplay(cf).plot()\n",
    "    plt.show()\n",
    "    print(classification_report(y_val, y_pred_binary))"
   ]
  },
  {
   "cell_type": "code",
   "execution_count": 101,
   "id": "1e016cbe-141c-404e-9c12-738f275fdd96",
   "metadata": {},
   "outputs": [
    {
     "data": {
      "image/png": "[encoded data removed]",
      "text/plain": [
       "<Figure size 432x288 with 2 Axes>"
      ]
     },
     "metadata": {
      "needs_background": "light"
     },
     "output_type": "display_data"
    },
    {
     "name": "stdout",
     "output_type": "stream",
     "text": [
      "              precision    recall  f1-score   support\n",
      "\n",
      "           0       0.44      0.31      0.37       405\n",
      "           1       0.61      0.73      0.67       596\n",
      "\n",
      "    accuracy                           0.56      1001\n",
      "   macro avg       0.53      0.52      0.52      1001\n",
      "weighted avg       0.54      0.56      0.54      1001\n",
      "\n"
     ]
    }
   ],
   "source": [
    "show_cf(y_val, y_pred_binary)"
   ]
  },
  {
   "cell_type": "code",
   "execution_count": 126,
   "id": "3af68ca2-3f99-4b3b-9d9b-76ddeac885e7",
   "metadata": {},
   "outputs": [],
   "source": [
    "thresholds = [0.45 + 0.01*i for i in range(20)]\n",
    "precision = []\n",
    "recall = []\n",
    "f1_score = []\n",
    "accuracy = []\n",
    "for i in thresholds:\n",
    "    y_pred_binary = threshhold(y_pred_sigmoid, i).reshape(1001,)\n",
    "    cr = classification_report(y_val, y_pred_binary, output_dict=True)\n",
    "    precision.append(cr['1']['precision'])\n",
    "    recall.append(cr['1']['recall'])\n",
    "    f1_score.append(cr['1']['f1-score'])\n",
    "    accuracy.append(cr['accuracy'])"
   ]
  },
  {
   "cell_type": "code",
   "execution_count": 129,
   "id": "ce0674f1-b465-4ad0-85ce-6050d9f8d733",
   "metadata": {},
   "outputs": [
    {
     "data": {
      "text/plain": [
       "[<matplotlib.lines.Line2D at 0x7f761cc7dd30>]"
      ]
     },
     "execution_count": 129,
     "metadata": {},
     "output_type": "execute_result"
    },
    {
     "data": {
      "image/png": "[encoded data removed]",
      "text/plain": [
       "<Figure size 432x288 with 1 Axes>"
      ]
     },
     "metadata": {
      "needs_background": "light"
     },
     "output_type": "display_data"
    }
   ],
   "source": [
    "plt.plot(thresholds, accuracy)"
   ]
  },
  {
   "cell_type": "code",
   "execution_count": 130,
   "id": "a40f04f3-9d40-46b4-ac66-1f47cd5c733f",
   "metadata": {},
   "outputs": [
    {
     "data": {
      "text/plain": [
       "[<matplotlib.lines.Line2D at 0x7f761cc658e0>]"
      ]
     },
     "execution_count": 130,
     "metadata": {},
     "output_type": "execute_result"
    },
    {
     "data": {
      "image/png": "[encoded data removed]",
      "text/plain": [
       "<Figure size 432x288 with 1 Axes>"
      ]
     },
     "metadata": {
      "needs_background": "light"
     },
     "output_type": "display_data"
    }
   ],
   "source": [
    "plt.plot(thresholds, f1_score)"
   ]
  },
  {
   "cell_type": "code",
   "execution_count": 113,
   "id": "ad10ffb3-7400-4d2b-b8a0-3742fd810e4c",
   "metadata": {},
   "outputs": [
    {
     "name": "stdout",
     "output_type": "stream",
     "text": [
      "dict_keys(['0', '1', 'accuracy', 'macro avg', 'weighted avg'])\n"
     ]
    }
   ],
   "source": [
    "cr = classification_report(y_val, y_pred_binary, output_dict=True)\n",
    "print(cr.keys())"
   ]
  },
  {
   "cell_type": "code",
   "execution_count": 102,
   "id": "756f4c81-2791-43d8-afb5-e5969528d81f",
   "metadata": {},
   "outputs": [
    {
     "data": {
      "text/plain": [
       "<sklearn.metrics._plot.roc_curve.RocCurveDisplay at 0x7f76343e9400>"
      ]
     },
     "execution_count": 102,
     "metadata": {},
     "output_type": "execute_result"
    },
    {
     "data": {
      "image/png": "[encoded data removed]",
      "text/plain": [
       "<Figure size 432x288 with 1 Axes>"
      ]
     },
     "metadata": {
      "needs_background": "light"
     },
     "output_type": "display_data"
    }
   ],
   "source": [
    "RocCurveDisplay.from_predictions(y_val, y_pred_sigmoid)"
   ]
  },
  {
   "cell_type": "code",
   "execution_count": 116,
   "id": "75592849-5fdb-4ae7-acdf-0d39b8109a2c",
   "metadata": {},
   "outputs": [],
   "source": [
    "period =5 \n",
    "x_train, y_train, x_val, y_val = get_xy(df, period)"
   ]
  },
  {
   "cell_type": "code",
   "execution_count": 93,
   "id": "14c78861-1c5f-4588-a256-67a735a8c7e6",
   "metadata": {},
   "outputs": [],
   "source": [
    "def basic_cnn_lstm(period):\n",
    "    \n",
    "    inputs = tf.keras.Input(shape=(period,1,))\n",
    "    \n",
    "    # x = layers.Conv1D(16, kernel_size=5, strides=3, activation='relu')(inputs)\n",
    "    x = layers.Conv1D(8, kernel_size=3, strides=1, activation='relu')(inputs)\n",
    "    x = layers.Conv1D(1, kernel_size=1, strides=1, activation='relu')(x)\n",
    "    \n",
    "    # x = layers.LSTM(16, return_sequences=True, return_state=True)(x)\n",
    "    x = layers.LSTM(16, return_sequences=False, return_state=False)(x)\n",
    "    \n",
    "    \n",
    "    x = tf.keras.layers.Dense(32)(x)\n",
    "    x = tf.keras.layers.Dense(8)(x)\n",
    "    outputs = tf.keras.layers.Dense(1)(x)\n",
    "    \n",
    "    model = keras.Model(inputs, outputs) \n",
    "    \n",
    "    model.compile(loss = 'mse', \n",
    "                    optimizer = \"adam\",               \n",
    "                    metrics = ['mae'])\n",
    "    \n",
    "    return model"
   ]
  },
  {
   "cell_type": "code",
   "execution_count": 94,
   "id": "a38c902b-171b-48ec-9a08-efe87d977640",
   "metadata": {},
   "outputs": [
    {
     "name": "stdout",
     "output_type": "stream",
     "text": [
      "Model: \"model_4\"\n",
      "_________________________________________________________________\n",
      " Layer (type)                Output Shape              Param #   \n",
      "=================================================================\n",
      " input_13 (InputLayer)       [(None, 5, 1)]            0         \n",
      "                                                                 \n",
      " conv1d_27 (Conv1D)          (None, 3, 8)              32        \n",
      "                                                                 \n",
      " conv1d_28 (Conv1D)          (None, 3, 1)              9         \n",
      "                                                                 \n",
      " lstm_14 (LSTM)              (None, 16)                1152      \n",
      "                                                                 \n",
      " dense_15 (Dense)            (None, 32)                544       \n",
      "                                                                 \n",
      " dense_16 (Dense)            (None, 8)                 264       \n",
      "                                                                 \n",
      " dense_17 (Dense)            (None, 1)                 9         \n",
      "                                                                 \n",
      "=================================================================\n",
      "Total params: 2,010\n",
      "Trainable params: 2,010\n",
      "Non-trainable params: 0\n",
      "_________________________________________________________________\n"
     ]
    }
   ],
   "source": [
    "model = basic_cnn_lstm(period)\n",
    "model.summary()"
   ]
  },
  {
   "cell_type": "code",
   "execution_count": 95,
   "id": "9812ac5d-828d-467c-acf6-49037848dd9c",
   "metadata": {
    "collapsed": true,
    "jupyter": {
     "outputs_hidden": true
    },
    "tags": []
   },
   "outputs": [
    {
     "name": "stdout",
     "output_type": "stream",
     "text": [
      "Epoch 1/20\n",
      "13/13 [==============================] - 1s 25ms/step - loss: 8.9533e-04 - mae: 0.0209 - val_loss: 2.8276e-04 - val_mae: 0.0121\n",
      "Epoch 2/20\n",
      "13/13 [==============================] - 0s 5ms/step - loss: 8.6059e-04 - mae: 0.0202 - val_loss: 2.8326e-04 - val_mae: 0.0120\n",
      "Epoch 3/20\n",
      "13/13 [==============================] - 0s 4ms/step - loss: 8.5716e-04 - mae: 0.0201 - val_loss: 2.8502e-04 - val_mae: 0.0121\n",
      "Epoch 4/20\n",
      "13/13 [==============================] - 0s 4ms/step - loss: 8.5904e-04 - mae: 0.0202 - val_loss: 2.8394e-04 - val_mae: 0.0121\n",
      "Epoch 5/20\n",
      "13/13 [==============================] - 0s 5ms/step - loss: 8.5688e-04 - mae: 0.0201 - val_loss: 2.8472e-04 - val_mae: 0.0121\n",
      "Epoch 6/20\n",
      "13/13 [==============================] - 0s 4ms/step - loss: 8.5466e-04 - mae: 0.0201 - val_loss: 2.8598e-04 - val_mae: 0.0121\n",
      "Epoch 7/20\n",
      "13/13 [==============================] - 0s 4ms/step - loss: 8.6213e-04 - mae: 0.0203 - val_loss: 2.8518e-04 - val_mae: 0.0121\n",
      "Epoch 8/20\n",
      "13/13 [==============================] - 0s 4ms/step - loss: 8.6924e-04 - mae: 0.0203 - val_loss: 3.0290e-04 - val_mae: 0.0126\n",
      "Epoch 9/20\n",
      "13/13 [==============================] - 0s 4ms/step - loss: 8.5831e-04 - mae: 0.0202 - val_loss: 2.8274e-04 - val_mae: 0.0120\n",
      "Epoch 10/20\n",
      "13/13 [==============================] - 0s 4ms/step - loss: 8.5522e-04 - mae: 0.0201 - val_loss: 2.8284e-04 - val_mae: 0.0120\n",
      "Epoch 11/20\n",
      "13/13 [==============================] - 0s 4ms/step - loss: 8.5643e-04 - mae: 0.0201 - val_loss: 2.8327e-04 - val_mae: 0.0120\n",
      "Epoch 12/20\n",
      "13/13 [==============================] - 0s 4ms/step - loss: 8.6214e-04 - mae: 0.0202 - val_loss: 2.8329e-04 - val_mae: 0.0121\n",
      "Epoch 13/20\n",
      "13/13 [==============================] - 0s 4ms/step - loss: 8.5779e-04 - mae: 0.0202 - val_loss: 2.8263e-04 - val_mae: 0.0120\n",
      "Epoch 14/20\n",
      "13/13 [==============================] - 0s 5ms/step - loss: 8.5887e-04 - mae: 0.0202 - val_loss: 2.8263e-04 - val_mae: 0.0120\n",
      "Epoch 15/20\n",
      "13/13 [==============================] - 0s 4ms/step - loss: 8.5365e-04 - mae: 0.0201 - val_loss: 2.8539e-04 - val_mae: 0.0121\n",
      "Epoch 16/20\n",
      "13/13 [==============================] - 0s 4ms/step - loss: 8.5471e-04 - mae: 0.0201 - val_loss: 2.9356e-04 - val_mae: 0.0124\n",
      "Epoch 17/20\n",
      "13/13 [==============================] - 0s 5ms/step - loss: 8.5694e-04 - mae: 0.0202 - val_loss: 3.0158e-04 - val_mae: 0.0126\n",
      "Epoch 18/20\n",
      "13/13 [==============================] - 0s 4ms/step - loss: 8.5558e-04 - mae: 0.0202 - val_loss: 2.8319e-04 - val_mae: 0.0121\n",
      "Epoch 19/20\n",
      "13/13 [==============================] - 0s 4ms/step - loss: 8.5461e-04 - mae: 0.0201 - val_loss: 2.8407e-04 - val_mae: 0.0121\n",
      "Epoch 20/20\n",
      "13/13 [==============================] - 0s 4ms/step - loss: 8.5313e-04 - mae: 0.0201 - val_loss: 2.9417e-04 - val_mae: 0.0124\n",
      "32/32 - 0s - loss: 2.4510e-04 - mae: 0.0110 - 35ms/epoch - 1ms/step\n"
     ]
    }
   ],
   "source": [
    "history = model.fit(x_train, y_train, batch_size=254, epochs=20, validation_split=0.2)\n",
    "test_scores = model.evaluate(x_val, y_val, verbose=2)"
   ]
  },
  {
   "cell_type": "code",
   "execution_count": 96,
   "id": "fffe6792-aec5-4550-a663-8c1d05686322",
   "metadata": {},
   "outputs": [
    {
     "data": {
      "text/plain": [
       "[<matplotlib.lines.Line2D at 0x7f436476dd00>]"
      ]
     },
     "execution_count": 96,
     "metadata": {},
     "output_type": "execute_result"
    },
    {
     "data": {
      "image/png": "[encoded data removed]",
      "text/plain": [
       "<Figure size 432x288 with 1 Axes>"
      ]
     },
     "metadata": {
      "needs_background": "light"
     },
     "output_type": "display_data"
    }
   ],
   "source": [
    "plt.plot(history.history['loss'])"
   ]
  },
  {
   "cell_type": "code",
   "execution_count": 103,
   "id": "78079a90-b04f-4ab0-bce4-c024f720da02",
   "metadata": {},
   "outputs": [
    {
     "data": {
      "text/plain": [
       "0.020092910155653954"
      ]
     },
     "execution_count": 103,
     "metadata": {},
     "output_type": "execute_result"
    }
   ],
   "source": [
    "history.history['mae'][-1]"
   ]
  },
  {
   "cell_type": "code",
   "execution_count": 97,
   "id": "aa7eb201-0d14-41b5-8c16-271b4bf491da",
   "metadata": {},
   "outputs": [],
   "source": [
    "x_pred = model.predict(x_val)"
   ]
  },
  {
   "cell_type": "code",
   "execution_count": 98,
   "id": "a6116bcc-e658-445d-99e9-e1400b9eece3",
   "metadata": {
    "tags": []
   },
   "outputs": [
    {
     "data": {
      "text/plain": [
       "array([[0.00441085],\n",
       "       [0.00422285],\n",
       "       [0.00434896],\n",
       "       ...,\n",
       "       [0.00362943],\n",
       "       [0.00359191],\n",
       "       [0.00370103]], dtype=float32)"
      ]
     },
     "execution_count": 98,
     "metadata": {},
     "output_type": "execute_result"
    }
   ],
   "source": [
    "x_pred"
   ]
  },
  {
   "cell_type": "code",
   "execution_count": 99,
   "id": "5e0ce7b4-4104-4faa-ae8f-9631592f0480",
   "metadata": {},
   "outputs": [
    {
     "data": {
      "text/plain": [
       "[<matplotlib.lines.Line2D at 0x7f43677880d0>]"
      ]
     },
     "execution_count": 99,
     "metadata": {},
     "output_type": "execute_result"
    },
    {
     "data": {
      "image/png": "[encoded data removed]",
      "text/plain": [
       "<Figure size 432x288 with 1 Axes>"
      ]
     },
     "metadata": {
      "needs_background": "light"
     },
     "output_type": "display_data"
    }
   ],
   "source": [
    "plt.plot(x_pred[40:60])\n",
    "plt.plot(y_val[40:60])"
   ]
  },
  {
   "cell_type": "code",
   "execution_count": 102,
   "id": "9b6da89b-f222-4367-942b-f2b84efa776f",
   "metadata": {},
   "outputs": [
    {
     "data": {
      "text/plain": [
       "(array([  5.,  14.,  52.,  82., 251., 360., 171.,  43.,  14.,   9.]),\n",
       " array([0.0019242 , 0.00228462, 0.00264504, 0.00300546, 0.00336588,\n",
       "        0.0037263 , 0.00408672, 0.00444714, 0.00480755, 0.00516797,\n",
       "        0.00552839], dtype=float32),\n",
       " <BarContainer object of 10 artists>)"
      ]
     },
     "execution_count": 102,
     "metadata": {},
     "output_type": "execute_result"
    },
    {
     "data": {
      "image/png": "[encoded data removed]",
      "text/plain": [
       "<Figure size 432x288 with 1 Axes>"
      ]
     },
     "metadata": {
      "needs_background": "light"
     },
     "output_type": "display_data"
    }
   ],
   "source": [
    "plt.hist(x_pred)"
   ]
  },
  {
   "cell_type": "code",
   "execution_count": null,
   "id": "66d5c54e-c22a-4ca3-a528-083cea14190f",
   "metadata": {},
   "outputs": [],
   "source": []
  }
 ],
 "metadata": {
  "kernelspec": {
   "display_name": "trading_env",
   "language": "python",
   "name": "trading_env"
  },
  "language_info": {
   "codemirror_mode": {
    "name": "ipython",
    "version": 3
   },
   "file_extension": ".py",
   "mimetype": "text/x-python",
   "name": "python",
   "nbconvert_exporter": "python",
   "pygments_lexer": "ipython3",
   "version": "3.8.10"
  }
 },
 "nbformat": 4,
 "nbformat_minor": 5
}
