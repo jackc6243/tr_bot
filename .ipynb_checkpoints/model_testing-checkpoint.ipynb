{
 "cells": [
  {
   "cell_type": "code",
   "execution_count": 6,
   "id": "dce2918f",
   "metadata": {
    "tags": []
   },
   "outputs": [],
   "source": [
    "#data essentials\n",
    "import matplotlib.pyplot as plt\n",
    "import numpy as np\n",
    "import pandas as pd\n",
    "import math\n",
    "\n",
    "#self created tools\n",
    "from getting_data import *\n",
    "from Indicators import *\n",
    "from y_engineering import *\n",
    "from metric import *\n",
    "from models import *\n",
    "\n",
    "# PyTorch model and training necessities\n",
    "import torch\n",
    "import torch.nn as nn\n",
    "import torch.nn.functional as F\n",
    "import torch.optim as optim\n",
    "from torch.utils.data import Dataset, DataLoader\n",
    "from torchvision import transforms\n",
    "\n",
    "#sklearn\n",
    "from sklearn.metrics import *\n",
    "\n",
    "#visualisation with tensorboard\n",
    "from torch.utils.tensorboard import SummaryWriter"
   ]
  },
  {
   "cell_type": "code",
   "execution_count": 2,
   "id": "6a2a439c-88b1-4394-ae7a-334088ee39b1",
   "metadata": {},
   "outputs": [
    {
     "name": "stdout",
     "output_type": "stream",
     "text": [
      "The autoreload extension is already loaded. To reload it, use:\n",
      "  %reload_ext autoreload\n"
     ]
    }
   ],
   "source": [
    "%load_ext autoreload\n",
    "%autoreload 2"
   ]
  },
  {
   "cell_type": "code",
   "execution_count": 7,
   "id": "4e80e42b",
   "metadata": {},
   "outputs": [],
   "source": [
    "#use gpu if available\n",
    "if torch.cuda.is_available():\n",
    "    torch.set_default_tensor_type('torch.cuda.FloatTensor')\n",
    "    device = \"cuda\""
   ]
  },
  {
   "cell_type": "code",
   "execution_count": 8,
   "id": "eb8eebe8-9d48-4959-bdd0-ee4d1fa564c8",
   "metadata": {},
   "outputs": [],
   "source": [
    "# obtaining data\n",
    "df = pd.read_csv(\"appl_clean_train.csv\")"
   ]
  },
  {
   "cell_type": "code",
   "execution_count": 9,
   "id": "2f142c34-9931-4f58-8c6a-4fefb11af187",
   "metadata": {},
   "outputs": [],
   "source": [
    "# addig some features\n",
    "df['y_binary_sma5'] = (sma(df, period=5, column='Adj Close').shift(periods=-5) > df['Adj Close']).astype(int)\n",
    "ema(df, period=21, column='Adj Close', inplace=True)\n",
    "ema(df, period=200, column='Adj Close', inplace=True)\n",
    "df[\"ema_pct_21\"] = pct_log(df, y_col='ema_21', time_to_pred = 1, pct=True, log=False)\n",
    "df[\"ema_pct_200\"] = pct_log(df, y_col='ema_200', time_to_pred = 1, pct=True, log=False)"
   ]
  },
  {
   "cell_type": "code",
   "execution_count": 10,
   "id": "fb857c3f-44fd-4a87-a485-359c1b834ae4",
   "metadata": {
    "tags": []
   },
   "outputs": [
    {
     "data": {
      "text/plain": [
       "1             NaN\n",
       "2             NaN\n",
       "3             NaN\n",
       "4             NaN\n",
       "5             NaN\n",
       "          ...    \n",
       "4996    71.013581\n",
       "4997    67.657606\n",
       "4998    70.188659\n",
       "4999    69.240661\n",
       "5000    64.442493\n",
       "Name: Adj Close, Length: 5000, dtype: float64"
      ]
     },
     "execution_count": 10,
     "metadata": {},
     "output_type": "execute_result"
    }
   ],
   "source": [
    "rsi(df, period=20, column='Adj Close', ema=True, inplace=True)"
   ]
  },
  {
   "cell_type": "code",
   "execution_count": 11,
   "id": "e5886aa2-cfde-4212-87c2-30c5a1b9b3de",
   "metadata": {},
   "outputs": [
    {
     "data": {
      "text/html": [
       "<div>\n",
       "<style scoped>\n",
       "    .dataframe tbody tr th:only-of-type {\n",
       "        vertical-align: middle;\n",
       "    }\n",
       "\n",
       "    .dataframe tbody tr th {\n",
       "        vertical-align: top;\n",
       "    }\n",
       "\n",
       "    .dataframe thead th {\n",
       "        text-align: right;\n",
       "    }\n",
       "</style>\n",
       "<table border=\"1\" class=\"dataframe\">\n",
       "  <thead>\n",
       "    <tr style=\"text-align: right;\">\n",
       "      <th></th>\n",
       "      <th>Adj Close</th>\n",
       "      <th>Volume</th>\n",
       "      <th>pct_log</th>\n",
       "      <th>pct</th>\n",
       "      <th>y_binary_sma5</th>\n",
       "      <th>ema_21</th>\n",
       "      <th>ema_200</th>\n",
       "      <th>ema_pct_21</th>\n",
       "      <th>ema_pct_200</th>\n",
       "      <th>rsi_20</th>\n",
       "    </tr>\n",
       "  </thead>\n",
       "  <tbody>\n",
       "    <tr>\n",
       "      <th>0</th>\n",
       "      <td>0.789849</td>\n",
       "      <td>459177600</td>\n",
       "      <td>NaN</td>\n",
       "      <td>NaN</td>\n",
       "      <td>1</td>\n",
       "      <td>0.789849</td>\n",
       "      <td>0.789849</td>\n",
       "      <td>NaN</td>\n",
       "      <td>NaN</td>\n",
       "      <td>NaN</td>\n",
       "    </tr>\n",
       "    <tr>\n",
       "      <th>1</th>\n",
       "      <td>0.809797</td>\n",
       "      <td>597643200</td>\n",
       "      <td>-0.105724</td>\n",
       "      <td>0.025255</td>\n",
       "      <td>1</td>\n",
       "      <td>0.800298</td>\n",
       "      <td>0.799873</td>\n",
       "      <td>0.013229</td>\n",
       "      <td>0.012691</td>\n",
       "      <td>NaN</td>\n",
       "    </tr>\n",
       "    <tr>\n",
       "      <th>2</th>\n",
       "      <td>0.862517</td>\n",
       "      <td>1831132800</td>\n",
       "      <td>-0.298956</td>\n",
       "      <td>0.065103</td>\n",
       "      <td>0</td>\n",
       "      <td>0.823043</td>\n",
       "      <td>0.820963</td>\n",
       "      <td>0.028420</td>\n",
       "      <td>0.026367</td>\n",
       "      <td>NaN</td>\n",
       "    </tr>\n",
       "    <tr>\n",
       "      <th>3</th>\n",
       "      <td>0.845894</td>\n",
       "      <td>495924800</td>\n",
       "      <td>0.131580</td>\n",
       "      <td>-0.019273</td>\n",
       "      <td>0</td>\n",
       "      <td>0.829596</td>\n",
       "      <td>0.827290</td>\n",
       "      <td>0.007963</td>\n",
       "      <td>0.007706</td>\n",
       "      <td>NaN</td>\n",
       "    </tr>\n",
       "    <tr>\n",
       "      <th>4</th>\n",
       "      <td>0.807423</td>\n",
       "      <td>440876800</td>\n",
       "      <td>0.278119</td>\n",
       "      <td>-0.045480</td>\n",
       "      <td>1</td>\n",
       "      <td>0.824279</td>\n",
       "      <td>0.823237</td>\n",
       "      <td>-0.006410</td>\n",
       "      <td>-0.004899</td>\n",
       "      <td>NaN</td>\n",
       "    </tr>\n",
       "    <tr>\n",
       "      <th>...</th>\n",
       "      <td>...</td>\n",
       "      <td>...</td>\n",
       "      <td>...</td>\n",
       "      <td>...</td>\n",
       "      <td>...</td>\n",
       "      <td>...</td>\n",
       "      <td>...</td>\n",
       "      <td>...</td>\n",
       "      <td>...</td>\n",
       "      <td>...</td>\n",
       "    </tr>\n",
       "    <tr>\n",
       "      <th>4996</th>\n",
       "      <td>65.139717</td>\n",
       "      <td>84020400</td>\n",
       "      <td>0.004179</td>\n",
       "      <td>0.017534</td>\n",
       "      <td>0</td>\n",
       "      <td>63.019752</td>\n",
       "      <td>52.204988</td>\n",
       "      <td>0.003375</td>\n",
       "      <td>0.002496</td>\n",
       "      <td>71.013581</td>\n",
       "    </tr>\n",
       "    <tr>\n",
       "      <th>4997</th>\n",
       "      <td>64.631065</td>\n",
       "      <td>105207600</td>\n",
       "      <td>-0.001877</td>\n",
       "      <td>-0.007809</td>\n",
       "      <td>0</td>\n",
       "      <td>63.166235</td>\n",
       "      <td>52.328630</td>\n",
       "      <td>0.002324</td>\n",
       "      <td>0.002368</td>\n",
       "      <td>67.657606</td>\n",
       "    </tr>\n",
       "    <tr>\n",
       "      <th>4998</th>\n",
       "      <td>65.499199</td>\n",
       "      <td>65235600</td>\n",
       "      <td>0.003201</td>\n",
       "      <td>0.013432</td>\n",
       "      <td>0</td>\n",
       "      <td>63.378322</td>\n",
       "      <td>52.459681</td>\n",
       "      <td>0.003358</td>\n",
       "      <td>0.002504</td>\n",
       "      <td>70.188659</td>\n",
       "    </tr>\n",
       "    <tr>\n",
       "      <th>4999</th>\n",
       "      <td>65.354912</td>\n",
       "      <td>46617600</td>\n",
       "      <td>-0.000527</td>\n",
       "      <td>-0.002203</td>\n",
       "      <td>0</td>\n",
       "      <td>63.558012</td>\n",
       "      <td>52.587992</td>\n",
       "      <td>0.002835</td>\n",
       "      <td>0.002446</td>\n",
       "      <td>69.240661</td>\n",
       "    </tr>\n",
       "    <tr>\n",
       "      <th>5000</th>\n",
       "      <td>64.599274</td>\n",
       "      <td>94487200</td>\n",
       "      <td>-0.002782</td>\n",
       "      <td>-0.011562</td>\n",
       "      <td>0</td>\n",
       "      <td>63.652672</td>\n",
       "      <td>52.707507</td>\n",
       "      <td>0.001489</td>\n",
       "      <td>0.002273</td>\n",
       "      <td>64.442493</td>\n",
       "    </tr>\n",
       "  </tbody>\n",
       "</table>\n",
       "<p>5001 rows × 10 columns</p>\n",
       "</div>"
      ],
      "text/plain": [
       "      Adj Close      Volume   pct_log       pct  y_binary_sma5     ema_21  \\\n",
       "0      0.789849   459177600       NaN       NaN              1   0.789849   \n",
       "1      0.809797   597643200 -0.105724  0.025255              1   0.800298   \n",
       "2      0.862517  1831132800 -0.298956  0.065103              0   0.823043   \n",
       "3      0.845894   495924800  0.131580 -0.019273              0   0.829596   \n",
       "4      0.807423   440876800  0.278119 -0.045480              1   0.824279   \n",
       "...         ...         ...       ...       ...            ...        ...   \n",
       "4996  65.139717    84020400  0.004179  0.017534              0  63.019752   \n",
       "4997  64.631065   105207600 -0.001877 -0.007809              0  63.166235   \n",
       "4998  65.499199    65235600  0.003201  0.013432              0  63.378322   \n",
       "4999  65.354912    46617600 -0.000527 -0.002203              0  63.558012   \n",
       "5000  64.599274    94487200 -0.002782 -0.011562              0  63.652672   \n",
       "\n",
       "        ema_200  ema_pct_21  ema_pct_200     rsi_20  \n",
       "0      0.789849         NaN          NaN        NaN  \n",
       "1      0.799873    0.013229     0.012691        NaN  \n",
       "2      0.820963    0.028420     0.026367        NaN  \n",
       "3      0.827290    0.007963     0.007706        NaN  \n",
       "4      0.823237   -0.006410    -0.004899        NaN  \n",
       "...         ...         ...          ...        ...  \n",
       "4996  52.204988    0.003375     0.002496  71.013581  \n",
       "4997  52.328630    0.002324     0.002368  67.657606  \n",
       "4998  52.459681    0.003358     0.002504  70.188659  \n",
       "4999  52.587992    0.002835     0.002446  69.240661  \n",
       "5000  52.707507    0.001489     0.002273  64.442493  \n",
       "\n",
       "[5001 rows x 10 columns]"
      ]
     },
     "execution_count": 11,
     "metadata": {},
     "output_type": "execute_result"
    }
   ],
   "source": [
    "df"
   ]
  },
  {
   "cell_type": "code",
   "execution_count": 53,
   "id": "536754c2-7b86-43a5-a640-87561d068151",
   "metadata": {},
   "outputs": [],
   "source": [
    "df[\"rsi_20\"] = (df[\"rsi_20\"]-50)/100"
   ]
  },
  {
   "cell_type": "code",
   "execution_count": 54,
   "id": "0dfed150-c912-42a7-8200-cd995915ba40",
   "metadata": {},
   "outputs": [
    {
     "data": {
      "text/plain": [
       "(array([  70.,  232.,  557.,  892., 1084.,  962.,  707.,  327.,  115.,\n",
       "          35.]),\n",
       " array([-0.25805781, -0.19319231, -0.12832681, -0.0634613 ,  0.0014042 ,\n",
       "         0.0662697 ,  0.1311352 ,  0.1960007 ,  0.2608662 ,  0.32573171,\n",
       "         0.39059721]),\n",
       " <BarContainer object of 10 artists>)"
      ]
     },
     "execution_count": 54,
     "metadata": {},
     "output_type": "execute_result"
    },
    {
     "data": {
      "image/png": "[encoded data removed]",
      "text/plain": [
       "<Figure size 640x480 with 1 Axes>"
      ]
     },
     "metadata": {},
     "output_type": "display_data"
    }
   ],
   "source": [
    "plt.hist(df[\"rsi_20\"])"
   ]
  },
  {
   "cell_type": "code",
   "execution_count": 55,
   "id": "f44a63ff-c89f-4c56-a9f8-fc847ea71ebe",
   "metadata": {},
   "outputs": [],
   "source": [
    "# get all training and validation data and convert them to gpu\n",
    "\n",
    "def convert_to_tensor(x):\n",
    "    device = \"cuda\" if torch.cuda.is_available() else \"cpu\"\n",
    "    return [torch.tensor(i).to(device).type(torch.cuda.FloatTensor) for i in x]\n",
    "\n",
    "temp = get_xy(df, 14, x_col = [\"pct\"], y_col='y_binary_sma5', val_pct=0.2, period_to_skip=40)\n",
    "x_train, y_train, x_val, y_val = convert_to_tensor(temp)\n",
    "\n",
    "ind = get_xy(df, 14, x_col = ['ema_pct_21',\"ema_pct_200\", \"rsi_20\"], y_col='y_binary_sma5', val_pct=0.2, period_to_skip=40)\n",
    "ind_train, _, ind_val, _ = convert_to_tensor(ind)"
   ]
  },
  {
   "cell_type": "code",
   "execution_count": 56,
   "id": "4948ad0a-0797-494f-b49e-77a535356231",
   "metadata": {},
   "outputs": [
    {
     "data": {
      "text/plain": [
       "(torch.Size([3960, 1, 14]), torch.Size([3960, 3, 14]), torch.Size([3960, 1]))"
      ]
     },
     "execution_count": 56,
     "metadata": {},
     "output_type": "execute_result"
    }
   ],
   "source": [
    "x_train.shape, ind_train.shape, y_train.shape"
   ]
  },
  {
   "cell_type": "code",
   "execution_count": 57,
   "id": "9e855af5-a9bc-417f-8fdf-56bb5702697d",
   "metadata": {},
   "outputs": [],
   "source": [
    "#turning data into a dataloader\n",
    "\n",
    "batch_size = 64\n",
    "x_train_ds = CustomDataset([x_train, ind_train], y_train)\n",
    "x_val_ds = CustomDataset([x_val, ind_val], y_val)\n",
    "train_dataloader = DataLoader(x_train_ds, batch_size=batch_size, shuffle=True, generator=torch.Generator(device=device))\n",
    "val_dataloader = DataLoader(x_val_ds, batch_size=batch_size, shuffle=True, generator=torch.Generator(device=device))"
   ]
  },
  {
   "cell_type": "code",
   "execution_count": 58,
   "id": "39f139a3-a262-492f-a17a-77194d2374a2",
   "metadata": {},
   "outputs": [
    {
     "data": {
      "text/plain": [
       "torch.Size([3960, 3, 14])"
      ]
     },
     "execution_count": 58,
     "metadata": {},
     "output_type": "execute_result"
    }
   ],
   "source": [
    "x_train_ds.Xs[1].size()"
   ]
  },
  {
   "cell_type": "code",
   "execution_count": 59,
   "id": "b2192cbf-f5d8-4aaf-b4d2-9e85a6676898",
   "metadata": {},
   "outputs": [],
   "source": [
    "# some debugging to check where the nan values are\n",
    "for i in range(3969):\n",
    "    if x_train_ds.Xs[1][i:,:,:].isnan().sum()> 0:\n",
    "        print(i)\n",
    "        print(x_train_ds.Xs[1][i:,:,:])"
   ]
  },
  {
   "cell_type": "code",
   "execution_count": 60,
   "id": "df9bdfa3-fd2f-4ccd-9cef-1144552901b0",
   "metadata": {},
   "outputs": [
    {
     "data": {
      "text/plain": [
       "(3, torch.Size([64, 1, 14]), torch.Size([64, 3, 14]), torch.Size([64, 1]))"
      ]
     },
     "execution_count": 60,
     "metadata": {},
     "output_type": "execute_result"
    }
   ],
   "source": [
    "#checking data shapes\n",
    "\n",
    "temp = next(iter(train_dataloader))\n",
    "len(temp), temp[0].shape, temp[1].shape, temp[2].shape"
   ]
  },
  {
   "cell_type": "code",
   "execution_count": 61,
   "id": "e6a7e951-7113-4ca2-8d7a-1fdff2a35267",
   "metadata": {},
   "outputs": [
    {
     "name": "stderr",
     "output_type": "stream",
     "text": [
      "/home/jack/anaconda3/envs/trading_environment/lib/python3.10/site-packages/torch/nn/modules/lazy.py:180: UserWarning: Lazy modules are a new feature under heavy development so changes to the API or functionality can happen at any moment.\n",
      "  warnings.warn('Lazy modules are a new feature under heavy development '\n"
     ]
    }
   ],
   "source": [
    "class indicator_cnn(nn.Module):\n",
    "    \"\"\"\n",
    "    basic indicator model with 2 seperate cnn that that takes price and some indicators as input respectively. They both branch into a few common fully connected layers\n",
    "    \n",
    "    \"\"\"\n",
    "    \n",
    "    \n",
    "    def __init__(self):\n",
    "        super(indicator_cnn, self).__init__()\n",
    "        \n",
    "        # direct price input layers\n",
    "        # self.x_padding = nn.ConstantPad1d((0,2), 0)# we only want to pad the right because the earlier data is not as important\n",
    "        self.x_conv1 = nn.Conv1d(in_channels=1, out_channels=6, kernel_size=3, stride=2)\n",
    "        self.x_conv2 = nn.Conv1d(6, 12, 2, 1)\n",
    "        self.x_conv3 = nn.Conv1d(12, 20, 1)\n",
    "        \n",
    "        # indicators input layers\n",
    "        # self.ind_padding = nn.ConstantPad1d((0,2), 0) # we only want to pad the right because the earlier data is not as important\n",
    "        self.ind_conv1 = nn.Conv1d(in_channels=3, out_channels=6, kernel_size=3, stride=3)\n",
    "        self.ind_conv2 = nn.Conv1d(6, 12, 1, 1)\n",
    "        # self.ind_conv3 = nn.Conv1d(10, 16, 1, 1)\n",
    "        \n",
    "        #combined layers\n",
    "        self.fc1 = nn.LazyLinear(40)\n",
    "        self.fc2 = nn.Linear(40, 20)\n",
    "        self.fc3 = nn.Linear(20, 1)\n",
    "    \n",
    "    def forward(self, x, ind):\n",
    "\n",
    "        # x = self.x_padding(x)\n",
    "        x = F.relu(self.x_conv1(x))\n",
    "        x = F.relu(self.x_conv2(x))\n",
    "        x = F.relu(self.x_conv3(x))\n",
    "        x = x.view(-1, self.num_flat_features(x))\n",
    "        \n",
    "        # ind = self.ind_padding(ind)\n",
    "        ind = F.relu(self.ind_conv1(ind))\n",
    "        ind = F.relu(self.ind_conv2(ind))\n",
    "        # ind = F.relu(self.ind_conv3(ind))\n",
    "        ind = ind.view(-1, self.num_flat_features(ind))\n",
    "        \n",
    "        combined = torch.cat((x, ind),1)\n",
    "        combined = F.relu(self.fc1(combined))\n",
    "        combined = F.relu(self.fc2(combined))\n",
    "        combined = self.fc3(combined)\n",
    "        \n",
    "        return combined\n",
    "    \n",
    "    def predict(self, X, return_logits=True, threshold = 0.5):\n",
    "        logits = torch.sigmoid(self.forward(*X).cpu().detach())\n",
    "        if return_logits:\n",
    "            return logits.numpy()\n",
    "        return (logits > threshold).astype(\"int\")\n",
    "    \n",
    "    def num_flat_features(self, x):\n",
    "        size = x.size()[1:]\n",
    "        num_features = 1\n",
    "        for s in size:\n",
    "            num_features *= s\n",
    "        return num_features\n",
    "    \n",
    "    def count_parameters(self):\n",
    "        return sum(p.numel() for p in model.parameters() if p.requires_grad)\n",
    "    \n",
    "\n",
    "model = indicator_cnn().cuda()"
   ]
  },
  {
   "cell_type": "code",
   "execution_count": 62,
   "id": "fdf001bd-02a1-4bfa-9aec-cda52013036f",
   "metadata": {
    "tags": []
   },
   "outputs": [
    {
     "data": {
      "text/plain": [
       "tensor([[-0.1068],\n",
       "        [-0.1065],\n",
       "        [-0.1059],\n",
       "        [-0.1076],\n",
       "        [-0.1063],\n",
       "        [-0.1079],\n",
       "        [-0.1085],\n",
       "        [-0.1076],\n",
       "        [-0.1082],\n",
       "        [-0.1079],\n",
       "        [-0.1068],\n",
       "        [-0.1086],\n",
       "        [-0.1078],\n",
       "        [-0.1081],\n",
       "        [-0.1071],\n",
       "        [-0.1061],\n",
       "        [-0.1083],\n",
       "        [-0.1066],\n",
       "        [-0.1067],\n",
       "        [-0.1082],\n",
       "        [-0.1072],\n",
       "        [-0.1068],\n",
       "        [-0.1072],\n",
       "        [-0.1069],\n",
       "        [-0.1068],\n",
       "        [-0.1063],\n",
       "        [-0.1063],\n",
       "        [-0.1071],\n",
       "        [-0.1081],\n",
       "        [-0.1067],\n",
       "        [-0.1079],\n",
       "        [-0.1080],\n",
       "        [-0.1076],\n",
       "        [-0.1083],\n",
       "        [-0.1067],\n",
       "        [-0.1070],\n",
       "        [-0.1056],\n",
       "        [-0.1088],\n",
       "        [-0.1083],\n",
       "        [-0.1060],\n",
       "        [-0.1062],\n",
       "        [-0.1067],\n",
       "        [-0.1058],\n",
       "        [-0.1084],\n",
       "        [-0.1064],\n",
       "        [-0.1091],\n",
       "        [-0.1071],\n",
       "        [-0.1064],\n",
       "        [-0.1073],\n",
       "        [-0.1058],\n",
       "        [-0.1085],\n",
       "        [-0.1059],\n",
       "        [-0.1080],\n",
       "        [-0.1072],\n",
       "        [-0.1067],\n",
       "        [-0.1086],\n",
       "        [-0.1068],\n",
       "        [-0.1084],\n",
       "        [-0.1091],\n",
       "        [-0.1081],\n",
       "        [-0.1068],\n",
       "        [-0.1090],\n",
       "        [-0.1074],\n",
       "        [-0.1078]], grad_fn=<AddmmBackward0>)"
      ]
     },
     "execution_count": 62,
     "metadata": {},
     "output_type": "execute_result"
    }
   ],
   "source": [
    "#dry run to initialise lazy modules\n",
    "model(*next(iter(train_dataloader))[:-1])"
   ]
  },
  {
   "cell_type": "code",
   "execution_count": 63,
   "id": "fe10eb65-2ca9-488f-9ef2-fed04e06cd26",
   "metadata": {},
   "outputs": [
    {
     "data": {
      "text/plain": [
       "2"
      ]
     },
     "execution_count": 63,
     "metadata": {},
     "output_type": "execute_result"
    }
   ],
   "source": [
    "len(next(iter(train_dataloader))[:-1])"
   ]
  },
  {
   "cell_type": "code",
   "execution_count": 64,
   "id": "58aea9c5-1b3b-4cc5-8f1e-1769b391c816",
   "metadata": {},
   "outputs": [
    {
     "data": {
      "text/plain": [
       "7385"
      ]
     },
     "execution_count": 64,
     "metadata": {},
     "output_type": "execute_result"
    }
   ],
   "source": [
    "model.count_parameters()"
   ]
  },
  {
   "cell_type": "code",
   "execution_count": 65,
   "id": "976ea5d2-d8f4-470a-a46b-0e5c52050c5a",
   "metadata": {},
   "outputs": [
    {
     "name": "stdout",
     "output_type": "stream",
     "text": [
      "indicator_cnn(\n",
      "  (x_conv1): Conv1d(1, 6, kernel_size=(3,), stride=(2,))\n",
      "  (x_conv2): Conv1d(6, 12, kernel_size=(2,), stride=(1,))\n",
      "  (x_conv3): Conv1d(12, 20, kernel_size=(1,), stride=(1,))\n",
      "  (ind_conv1): Conv1d(3, 6, kernel_size=(3,), stride=(3,))\n",
      "  (ind_conv2): Conv1d(6, 12, kernel_size=(1,), stride=(1,))\n",
      "  (fc1): Linear(in_features=148, out_features=40, bias=True)\n",
      "  (fc2): Linear(in_features=40, out_features=20, bias=True)\n",
      "  (fc3): Linear(in_features=20, out_features=1, bias=True)\n",
      ")\n"
     ]
    }
   ],
   "source": [
    "print(model)"
   ]
  },
  {
   "cell_type": "code",
   "execution_count": 66,
   "id": "8fc16817-7f84-400d-80a5-80092eb000ad",
   "metadata": {},
   "outputs": [],
   "source": [
    "loss_fn = nn.BCEWithLogitsLoss()\n",
    "optimizer = optim.Adam(model.parameters(), lr=0.001, betas = (0.9, 0.999))\n",
    "# optimizer = optim.RMSprop(model.parameters(), lr=0.01, alpha=0.99)"
   ]
  },
  {
   "cell_type": "code",
   "execution_count": 67,
   "id": "2a9aab76-bd62-4915-be81-265e31c50c82",
   "metadata": {},
   "outputs": [],
   "source": [
    "# using tensorboard visualisation tool\n",
    "# To view, start TensorBoard on the command line with:\n",
    "#tensorboard --logdir=runs\n",
    "#and open a browser tab to http://localhost:6006/\n",
    "from datetime import datetime\n",
    "\n",
    "writer = SummaryWriter('runs/indicator_cnn')\n",
    "timestamp = datetime.now().strftime('%Y%m%d_%H%M%S')"
   ]
  },
  {
   "cell_type": "code",
   "execution_count": 68,
   "id": "380175e0-c29e-4bad-b78c-e3e16d40b11c",
   "metadata": {},
   "outputs": [],
   "source": [
    "# debugging each individual layers\n",
    "def printnorm(self, input, output):\n",
    "    # input is a tuple of packed inputs\n",
    "    # output is a Tensor. output.data is the Tensor we are interested\n",
    "    print('Inside ' + self.__class__.__name__ + ' forward')\n",
    "    print('')\n",
    "    print('input: ', type(input))\n",
    "    print('input[0]: ', type(input[0]))\n",
    "    print('output: ', type(output))\n",
    "    print('')\n",
    "    print('input size:', input[0].size())\n",
    "    print('output size:', output.data.size())\n",
    "    print('how many nan value:', torch.sum(torch.isnan(output.data)))"
   ]
  },
  {
   "cell_type": "code",
   "execution_count": 69,
   "id": "a0c1bc2c-202d-4019-8948-d84fd51f809f",
   "metadata": {},
   "outputs": [],
   "source": [
    "# register hooks to look at outputs for debugging\n",
    "\n",
    "# model.x_conv3.register_forward_hook(printnorm)\n",
    "# model.ind_conv2.register_forward_hook(printnorm)\n",
    "# model.fc1.register_forward_hook(printnorm)"
   ]
  },
  {
   "cell_type": "code",
   "execution_count": 70,
   "id": "b8ab1dd3-f959-4e54-95e1-4cd0d0d478b8",
   "metadata": {
    "tags": []
   },
   "outputs": [],
   "source": [
    "#model(*next(iter(train_dataloader))[:-1])"
   ]
  },
  {
   "cell_type": "code",
   "execution_count": 71,
   "id": "a1f889b7-ec3c-4961-a18b-a2dd4c54fd05",
   "metadata": {
    "tags": []
   },
   "outputs": [
    {
     "name": "stdout",
     "output_type": "stream",
     "text": [
      "Epoch 1 ------------------------>  Avg training loss: 0.010820, Avg val loss: 0.010872, Validation accuracy: 59.5% \n",
      "\n",
      "Epoch 2 ------------------------>  Avg training loss: 0.010778, Avg val loss: 0.010866, Validation accuracy: 59.5% \n",
      "\n",
      "Epoch 3 ------------------------>  Avg training loss: 0.010778, Avg val loss: 0.010854, Validation accuracy: 59.5% \n",
      "\n",
      "Epoch 4 ------------------------>  Avg training loss: 0.010776, Avg val loss: 0.010909, Validation accuracy: 59.5% \n",
      "\n",
      "Epoch 5 ------------------------>  Avg training loss: 0.010773, Avg val loss: 0.010841, Validation accuracy: 59.5% \n",
      "\n",
      "Epoch 6 ------------------------>  Avg training loss: 0.010780, Avg val loss: 0.010833, Validation accuracy: 59.5% \n",
      "\n",
      "Epoch 7 ------------------------>  Avg training loss: 0.010774, Avg val loss: 0.010848, Validation accuracy: 59.5% \n",
      "\n",
      "Epoch 8 ------------------------>  Avg training loss: 0.010777, Avg val loss: 0.010850, Validation accuracy: 59.5% \n",
      "\n",
      "Epoch 9 ------------------------>  Avg training loss: 0.010772, Avg val loss: 0.010863, Validation accuracy: 59.5% \n",
      "\n",
      "Epoch 10 ------------------------>  Avg training loss: 0.010776, Avg val loss: 0.010907, Validation accuracy: 59.5% \n",
      "\n",
      "Epoch 11 ------------------------>  Avg training loss: 0.010776, Avg val loss: 0.010861, Validation accuracy: 59.5% \n",
      "\n",
      "Epoch 12 ------------------------>  Avg training loss: 0.010773, Avg val loss: 0.010837, Validation accuracy: 59.5% \n",
      "\n",
      "Epoch 13 ------------------------>  Avg training loss: 0.010773, Avg val loss: 0.010877, Validation accuracy: 59.5% \n",
      "\n",
      "Epoch 14 ------------------------>  Avg training loss: 0.010769, Avg val loss: 0.010832, Validation accuracy: 59.5% \n",
      "\n",
      "Epoch 15 ------------------------>  Avg training loss: 0.010773, Avg val loss: 0.010811, Validation accuracy: 59.5% \n",
      "\n",
      "Epoch 16 ------------------------>  Avg training loss: 0.010770, Avg val loss: 0.010846, Validation accuracy: 59.5% \n",
      "\n",
      "Epoch 17 ------------------------>  Avg training loss: 0.010771, Avg val loss: 0.010867, Validation accuracy: 59.5% \n",
      "\n",
      "Epoch 18 ------------------------>  Avg training loss: 0.010775, Avg val loss: 0.010880, Validation accuracy: 59.5% \n",
      "\n",
      "Epoch 19 ------------------------>  Avg training loss: 0.010764, Avg val loss: 0.010823, Validation accuracy: 59.5% \n",
      "\n",
      "Epoch 20 ------------------------>  Avg training loss: 0.010760, Avg val loss: 0.010841, Validation accuracy: 59.5% \n",
      "\n",
      "Epoch 21 ------------------------>  Avg training loss: 0.010761, Avg val loss: 0.010815, Validation accuracy: 59.5% \n",
      "\n",
      "Epoch 22 ------------------------>  Avg training loss: 0.010759, Avg val loss: 0.010852, Validation accuracy: 59.5% \n",
      "\n",
      "Epoch 23 ------------------------>  Avg training loss: 0.010759, Avg val loss: 0.010852, Validation accuracy: 59.5% \n",
      "\n",
      "Epoch 24 ------------------------>  Avg training loss: 0.010757, Avg val loss: 0.010821, Validation accuracy: 59.5% \n",
      "\n",
      "Epoch 25 ------------------------>  Avg training loss: 0.010756, Avg val loss: 0.010848, Validation accuracy: 59.5% \n",
      "\n",
      "Epoch 26 ------------------------>  Avg training loss: 0.010756, Avg val loss: 0.010822, Validation accuracy: 59.5% \n",
      "\n",
      "Epoch 27 ------------------------>  Avg training loss: 0.010752, Avg val loss: 0.010854, Validation accuracy: 59.5% \n",
      "\n",
      "Epoch 28 ------------------------>  Avg training loss: 0.010760, Avg val loss: 0.010879, Validation accuracy: 59.5% \n",
      "\n",
      "Epoch 29 ------------------------>  Avg training loss: 0.010757, Avg val loss: 0.010843, Validation accuracy: 59.5% \n",
      "\n",
      "Epoch 30 ------------------------>  Avg training loss: 0.010752, Avg val loss: 0.010871, Validation accuracy: 59.5% \n",
      "\n",
      "Epoch 31 ------------------------>  Avg training loss: 0.010763, Avg val loss: 0.010820, Validation accuracy: 59.6% \n",
      "\n",
      "Epoch 32 ------------------------>  Avg training loss: 0.010756, Avg val loss: 0.010848, Validation accuracy: 59.5% \n",
      "\n",
      "Epoch 33 ------------------------>  Avg training loss: 0.010751, Avg val loss: 0.010862, Validation accuracy: 59.3% \n",
      "\n",
      "Epoch 34 ------------------------>  Avg training loss: 0.010747, Avg val loss: 0.010836, Validation accuracy: 59.6% \n",
      "\n",
      "Epoch 35 ------------------------>  Avg training loss: 0.010744, Avg val loss: 0.010844, Validation accuracy: 59.6% \n",
      "\n",
      "Epoch 36 ------------------------>  Avg training loss: 0.010749, Avg val loss: 0.010902, Validation accuracy: 56.1% \n",
      "\n",
      "Epoch 37 ------------------------>  Avg training loss: 0.010746, Avg val loss: 0.010877, Validation accuracy: 59.0% \n",
      "\n",
      "Epoch 38 ------------------------>  Avg training loss: 0.010742, Avg val loss: 0.010839, Validation accuracy: 59.4% \n",
      "\n",
      "Epoch 39 ------------------------>  Avg training loss: 0.010742, Avg val loss: 0.010831, Validation accuracy: 59.5% \n",
      "\n",
      "Epoch 40 ------------------------>  Avg training loss: 0.010746, Avg val loss: 0.010843, Validation accuracy: 59.6% \n",
      "\n",
      "Done!\n"
     ]
    }
   ],
   "source": [
    "#training\n",
    "epochs = 40\n",
    "\n",
    "for t in range(epochs):\n",
    "    print(f\"Epoch {t+1} ------------------------>  \", end='')\n",
    "    avg_loss = train_loop(train_dataloader, model, loss_fn, optimizer)\n",
    "    avg_vloss, correct = test_loop(val_dataloader, model, loss_fn, batch_size=64)\n",
    "    \n",
    "    writer.add_scalars('Training vs. Validation Loss',\n",
    "                    { 'Training' : avg_loss, 'Validation' : avg_vloss },\n",
    "                    t + 1)\n",
    "    writer.flush()\n",
    "print(\"Done!\")"
   ]
  },
  {
   "cell_type": "code",
   "execution_count": 82,
   "id": "b7657c33-84ed-4b72-b224-e99365b5c8f8",
   "metadata": {},
   "outputs": [],
   "source": [
    "logits = model.predict((x_val, ind_val))\n",
    "metric = anlayse_binary(logits, y_val.cpu().detach().numpy().astype(\"int\"))"
   ]
  },
  {
   "cell_type": "code",
   "execution_count": 83,
   "id": "e19aeb28-7c6f-407b-a57c-ae032571fd85",
   "metadata": {},
   "outputs": [
    {
     "data": {
      "text/plain": [
       "(array([  5., 108.,  93.,  99., 129., 245., 179.,  93.,  28.,  22.]),\n",
       " array([0.49711248, 0.50972509, 0.52233773, 0.53495038, 0.54756302,\n",
       "        0.56017566, 0.5727883 , 0.58540088, 0.59801352, 0.61062616,\n",
       "        0.6232388 ]),\n",
       " <BarContainer object of 10 artists>)"
      ]
     },
     "execution_count": 83,
     "metadata": {},
     "output_type": "execute_result"
    },
    {
     "data": {
      "image/png": "[encoded data removed]",
      "text/plain": [
       "<Figure size 640x480 with 1 Axes>"
      ]
     },
     "metadata": {},
     "output_type": "display_data"
    }
   ],
   "source": [
    "plt.hist(logits)"
   ]
  },
  {
   "cell_type": "code",
   "execution_count": 84,
   "id": "e52765aa-2c56-477b-9b81-8f6ec8fbdb87",
   "metadata": {},
   "outputs": [
    {
     "data": {
      "image/png": "[encoded data removed]",
      "text/plain": [
       "<Figure size 640x480 with 2 Axes>"
      ]
     },
     "metadata": {},
     "output_type": "display_data"
    },
    {
     "name": "stdout",
     "output_type": "stream",
     "text": [
      "              precision    recall  f1-score   support\n",
      "\n",
      "           0       0.46      0.10      0.17       405\n",
      "           1       0.60      0.92      0.73       596\n",
      "\n",
      "    accuracy                           0.59      1001\n",
      "   macro avg       0.53      0.51      0.45      1001\n",
      "weighted avg       0.54      0.59      0.50      1001\n",
      "\n"
     ]
    }
   ],
   "source": [
    "metric.binarise(0.52)\n",
    "metric.show_cf()"
   ]
  },
  {
   "cell_type": "code",
   "execution_count": 85,
   "id": "75dfc7f0-2896-4577-87dc-fd22ce0c7d4b",
   "metadata": {
    "collapsed": true,
    "jupyter": {
     "outputs_hidden": true
    },
    "tags": []
   },
   "outputs": [
    {
     "data": {
      "text/plain": [
       "{'precision': [0.596,\n",
       "  0.5953815261044176,\n",
       "  0.6008771929824561,\n",
       "  0.5980861244019139,\n",
       "  0.5981794538361509,\n",
       "  0.6077265973254086,\n",
       "  0.5992970123022847,\n",
       "  0.5848563968668408,\n",
       "  0.5969387755102041,\n",
       "  0.625],\n",
       " 'recall': [1.0,\n",
       "  0.9949664429530202,\n",
       "  0.9194630872483222,\n",
       "  0.8389261744966443,\n",
       "  0.7718120805369127,\n",
       "  0.6862416107382551,\n",
       "  0.5721476510067114,\n",
       "  0.37583892617449666,\n",
       "  0.19630872483221476,\n",
       "  0.10906040268456375],\n",
       " 'f1-score': [0.7468671679197995,\n",
       "  0.7449748743718593,\n",
       "  0.726790450928382,\n",
       "  0.6983240223463687,\n",
       "  0.6739926739926739,\n",
       "  0.6446020488573679,\n",
       "  0.5854077253218885,\n",
       "  0.4576098059244127,\n",
       "  0.29545454545454547,\n",
       "  0.18571428571428572],\n",
       " 'accuracy': [0.5964035964035964,\n",
       "  0.5944055944055944,\n",
       "  0.5884115884115884,\n",
       "  0.5684315684315684,\n",
       "  0.5554445554445554,\n",
       "  0.5494505494505495,\n",
       "  0.5174825174825175,\n",
       "  0.4695304695304695,\n",
       "  0.44255744255744256,\n",
       "  0.4305694305694306]}"
      ]
     },
     "execution_count": 85,
     "metadata": {},
     "output_type": "execute_result"
    }
   ],
   "source": [
    "metric.threshold_range()"
   ]
  },
  {
   "cell_type": "code",
   "execution_count": 91,
   "id": "bb8131b2-7ed2-4cc3-ad06-42c92192fd63",
   "metadata": {},
   "outputs": [
    {
     "data": {
      "image/png": "[encoded data removed]",
      "text/plain": [
       "<Figure size 640x480 with 1 Axes>"
      ]
     },
     "metadata": {},
     "output_type": "display_data"
    }
   ],
   "source": [
    "metric.graph_metric(\"f1-score\")"
   ]
  },
  {
   "cell_type": "code",
   "execution_count": 92,
   "id": "424b8609-4718-4966-9fb8-7d2fb87d30ee",
   "metadata": {},
   "outputs": [
    {
     "data": {
      "image/png": "[encoded data removed]",
      "text/plain": [
       "<Figure size 640x480 with 1 Axes>"
      ]
     },
     "metadata": {},
     "output_type": "display_data"
    }
   ],
   "source": [
    "metric.graph_metric(\"accuracy\")"
   ]
  },
  {
   "cell_type": "code",
   "execution_count": 93,
   "id": "077cc640-7aad-4a67-9f04-98903c647f8b",
   "metadata": {},
   "outputs": [
    {
     "data": {
      "image/png": "[encoded data removed]",
      "text/plain": [
       "<Figure size 640x480 with 1 Axes>"
      ]
     },
     "metadata": {},
     "output_type": "display_data"
    }
   ],
   "source": [
    "metric.graph_metric(\"precision\")"
   ]
  },
  {
   "cell_type": "code",
   "execution_count": 94,
   "id": "1351ecbd-d2e4-4c53-8bd0-8e986c25cfcb",
   "metadata": {},
   "outputs": [
    {
     "data": {
      "image/png": "[encoded data removed]",
      "text/plain": [
       "<Figure size 640x480 with 1 Axes>"
      ]
     },
     "metadata": {},
     "output_type": "display_data"
    }
   ],
   "source": [
    "metric.graph_metric(\"recall\")"
   ]
  },
  {
   "cell_type": "code",
   "execution_count": null,
   "id": "3979c6eb-c4d3-43c8-ab7e-ed68dd1afdf3",
   "metadata": {},
   "outputs": [],
   "source": []
  }
 ],
 "metadata": {
  "kernelspec": {
   "display_name": "trading_environment",
   "language": "python",
   "name": "trading_environment"
  },
  "language_info": {
   "codemirror_mode": {
    "name": "ipython",
    "version": 3
   },
   "file_extension": ".py",
   "mimetype": "text/x-python",
   "name": "python",
   "nbconvert_exporter": "python",
   "pygments_lexer": "ipython3",
   "version": "3.10.9"
  }
 },
 "nbformat": 4,
 "nbformat_minor": 5
}
