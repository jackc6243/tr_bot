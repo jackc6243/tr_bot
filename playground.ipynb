{
 "cells": [
  {
   "cell_type": "code",
   "execution_count": 1,
   "metadata": {
    "id": "y6C1S5t6_OMM"
   },
   "outputs": [],
   "source": [
    "import torch\n",
    "from torch import nn\n",
    "import numpy as np\n",
    "import pandas as pd\n",
    "import matplotlib.pyplot as plt\n",
    "from datetime import datetime\n",
    "from y_engineering import binarise"
   ]
  },
  {
   "cell_type": "code",
   "execution_count": 2,
   "metadata": {
    "id": "4xj_3E46Iu2X"
   },
   "outputs": [],
   "source": [
    "def kelly_criterion(win_pct, wl_ratio):\n",
    "  return win_pct - (1-win_pct)/wl_ratio"
   ]
  },
  {
   "cell_type": "code",
   "execution_count": 3,
   "metadata": {
    "colab": {
     "base_uri": "https://localhost:8080/"
    },
    "id": "PaDxwjMHyvE1",
    "outputId": "9f2784cd-2bfb-4028-f18d-cdc9b29e6ca3"
   },
   "outputs": [
    {
     "name": "stdout",
     "output_type": "stream",
     "text": [
      "Using cuda device\n"
     ]
    }
   ],
   "source": [
    "device = \"cuda\" if torch.cuda.is_available() else \"cpu\"\n",
    "print(f\"Using {device} device\")"
   ]
  },
  {
   "cell_type": "code",
   "execution_count": 4,
   "metadata": {
    "id": "SfgNvHPq_Uie"
   },
   "outputs": [],
   "source": [
    "data = pd.read_csv('/content/Binance_BTCUSDT_d.csv')"
   ]
  },
  {
   "cell_type": "code",
   "execution_count": 5,
   "metadata": {
    "colab": {
     "base_uri": "https://localhost:8080/",
     "height": 206
    },
    "id": "K_ivLiMmA0NY",
    "outputId": "6b356c04-76c8-41b4-94fb-6a135c5b223a"
   },
   "outputs": [
    {
     "data": {
      "text/html": [
       "\n",
       "  <div id=\"df-66bc9b79-ade4-45ff-9b09-6496c3d95d07\">\n",
       "    <div class=\"colab-df-container\">\n",
       "      <div>\n",
       "<style scoped>\n",
       "    .dataframe tbody tr th:only-of-type {\n",
       "        vertical-align: middle;\n",
       "    }\n",
       "\n",
       "    .dataframe tbody tr th {\n",
       "        vertical-align: top;\n",
       "    }\n",
       "\n",
       "    .dataframe thead th {\n",
       "        text-align: right;\n",
       "    }\n",
       "</style>\n",
       "<table border=\"1\" class=\"dataframe\">\n",
       "  <thead>\n",
       "    <tr style=\"text-align: right;\">\n",
       "      <th></th>\n",
       "      <th>Unix</th>\n",
       "      <th>Date</th>\n",
       "      <th>Symbol</th>\n",
       "      <th>Open</th>\n",
       "      <th>High</th>\n",
       "      <th>Low</th>\n",
       "      <th>Close</th>\n",
       "      <th>Volume BTC</th>\n",
       "      <th>Volume USDT</th>\n",
       "      <th>tradecount</th>\n",
       "    </tr>\n",
       "  </thead>\n",
       "  <tbody>\n",
       "    <tr>\n",
       "      <th>0</th>\n",
       "      <td>1.674000e+12</td>\n",
       "      <td>18/1/2023</td>\n",
       "      <td>BTCUSDT</td>\n",
       "      <td>21132.29</td>\n",
       "      <td>21650.00</td>\n",
       "      <td>20407.15</td>\n",
       "      <td>20677.47</td>\n",
       "      <td>350916.0195</td>\n",
       "      <td>7.399719e+09</td>\n",
       "      <td>7617173</td>\n",
       "    </tr>\n",
       "    <tr>\n",
       "      <th>1</th>\n",
       "      <td>1.673910e+12</td>\n",
       "      <td>17/1/2023</td>\n",
       "      <td>BTCUSDT</td>\n",
       "      <td>21185.65</td>\n",
       "      <td>21647.45</td>\n",
       "      <td>20841.31</td>\n",
       "      <td>21134.81</td>\n",
       "      <td>275407.7441</td>\n",
       "      <td>5.840586e+09</td>\n",
       "      <td>6440138</td>\n",
       "    </tr>\n",
       "    <tr>\n",
       "      <th>2</th>\n",
       "      <td>1.673830e+12</td>\n",
       "      <td>16/1/2023</td>\n",
       "      <td>BTCUSDT</td>\n",
       "      <td>20872.99</td>\n",
       "      <td>21474.05</td>\n",
       "      <td>20611.48</td>\n",
       "      <td>21185.65</td>\n",
       "      <td>293078.0826</td>\n",
       "      <td>6.168654e+09</td>\n",
       "      <td>6856434</td>\n",
       "    </tr>\n",
       "    <tr>\n",
       "      <th>3</th>\n",
       "      <td>1.673740e+12</td>\n",
       "      <td>15/1/2023</td>\n",
       "      <td>BTCUSDT</td>\n",
       "      <td>20952.76</td>\n",
       "      <td>21050.74</td>\n",
       "      <td>20551.01</td>\n",
       "      <td>20871.50</td>\n",
       "      <td>178542.2255</td>\n",
       "      <td>3.710527e+09</td>\n",
       "      <td>5194354</td>\n",
       "    </tr>\n",
       "    <tr>\n",
       "      <th>4</th>\n",
       "      <td>1.673650e+12</td>\n",
       "      <td>14/1/2023</td>\n",
       "      <td>BTCUSDT</td>\n",
       "      <td>19930.01</td>\n",
       "      <td>21258.00</td>\n",
       "      <td>19888.05</td>\n",
       "      <td>20954.92</td>\n",
       "      <td>393913.7495</td>\n",
       "      <td>8.183072e+09</td>\n",
       "      <td>8659545</td>\n",
       "    </tr>\n",
       "  </tbody>\n",
       "</table>\n",
       "</div>\n",
       "      <button class=\"colab-df-convert\" onclick=\"convertToInteractive('df-66bc9b79-ade4-45ff-9b09-6496c3d95d07')\"\n",
       "              title=\"Convert this dataframe to an interactive table.\"\n",
       "              style=\"display:none;\">\n",
       "        \n",
       "  <svg xmlns=\"http://www.w3.org/2000/svg\" height=\"24px\"viewBox=\"0 0 24 24\"\n",
       "       width=\"24px\">\n",
       "    <path d=\"M0 0h24v24H0V0z\" fill=\"none\"/>\n",
       "    <path d=\"M18.56 5.44l.94 2.06.94-2.06 2.06-.94-2.06-.94-.94-2.06-.94 2.06-2.06.94zm-11 1L8.5 8.5l.94-2.06 2.06-.94-2.06-.94L8.5 2.5l-.94 2.06-2.06.94zm10 10l.94 2.06.94-2.06 2.06-.94-2.06-.94-.94-2.06-.94 2.06-2.06.94z\"/><path d=\"M17.41 7.96l-1.37-1.37c-.4-.4-.92-.59-1.43-.59-.52 0-1.04.2-1.43.59L10.3 9.45l-7.72 7.72c-.78.78-.78 2.05 0 2.83L4 21.41c.39.39.9.59 1.41.59.51 0 1.02-.2 1.41-.59l7.78-7.78 2.81-2.81c.8-.78.8-2.07 0-2.86zM5.41 20L4 18.59l7.72-7.72 1.47 1.35L5.41 20z\"/>\n",
       "  </svg>\n",
       "      </button>\n",
       "      \n",
       "  <style>\n",
       "    .colab-df-container {\n",
       "      display:flex;\n",
       "      flex-wrap:wrap;\n",
       "      gap: 12px;\n",
       "    }\n",
       "\n",
       "    .colab-df-convert {\n",
       "      background-color: #E8F0FE;\n",
       "      border: none;\n",
       "      border-radius: 50%;\n",
       "      cursor: pointer;\n",
       "      display: none;\n",
       "      fill: #1967D2;\n",
       "      height: 32px;\n",
       "      padding: 0 0 0 0;\n",
       "      width: 32px;\n",
       "    }\n",
       "\n",
       "    .colab-df-convert:hover {\n",
       "      background-color: #E2EBFA;\n",
       "      box-shadow: 0px 1px 2px rgba(60, 64, 67, 0.3), 0px 1px 3px 1px rgba(60, 64, 67, 0.15);\n",
       "      fill: #174EA6;\n",
       "    }\n",
       "\n",
       "    [theme=dark] .colab-df-convert {\n",
       "      background-color: #3B4455;\n",
       "      fill: #D2E3FC;\n",
       "    }\n",
       "\n",
       "    [theme=dark] .colab-df-convert:hover {\n",
       "      background-color: #434B5C;\n",
       "      box-shadow: 0px 1px 3px 1px rgba(0, 0, 0, 0.15);\n",
       "      filter: drop-shadow(0px 1px 2px rgba(0, 0, 0, 0.3));\n",
       "      fill: #FFFFFF;\n",
       "    }\n",
       "  </style>\n",
       "\n",
       "      <script>\n",
       "        const buttonEl =\n",
       "          document.querySelector('#df-66bc9b79-ade4-45ff-9b09-6496c3d95d07 button.colab-df-convert');\n",
       "        buttonEl.style.display =\n",
       "          google.colab.kernel.accessAllowed ? 'block' : 'none';\n",
       "\n",
       "        async function convertToInteractive(key) {\n",
       "          const element = document.querySelector('#df-66bc9b79-ade4-45ff-9b09-6496c3d95d07');\n",
       "          const dataTable =\n",
       "            await google.colab.kernel.invokeFunction('convertToInteractive',\n",
       "                                                     [key], {});\n",
       "          if (!dataTable) return;\n",
       "\n",
       "          const docLinkHtml = 'Like what you see? Visit the ' +\n",
       "            '<a target=\"_blank\" href=https://colab.research.google.com/notebooks/data_table.ipynb>data table notebook</a>'\n",
       "            + ' to learn more about interactive tables.';\n",
       "          element.innerHTML = '';\n",
       "          dataTable['output_type'] = 'display_data';\n",
       "          await google.colab.output.renderOutput(dataTable, element);\n",
       "          const docLink = document.createElement('div');\n",
       "          docLink.innerHTML = docLinkHtml;\n",
       "          element.appendChild(docLink);\n",
       "        }\n",
       "      </script>\n",
       "    </div>\n",
       "  </div>\n",
       "  "
      ],
      "text/plain": [
       "           Unix       Date   Symbol      Open      High       Low     Close  \\\n",
       "0  1.674000e+12  18/1/2023  BTCUSDT  21132.29  21650.00  20407.15  20677.47   \n",
       "1  1.673910e+12  17/1/2023  BTCUSDT  21185.65  21647.45  20841.31  21134.81   \n",
       "2  1.673830e+12  16/1/2023  BTCUSDT  20872.99  21474.05  20611.48  21185.65   \n",
       "3  1.673740e+12  15/1/2023  BTCUSDT  20952.76  21050.74  20551.01  20871.50   \n",
       "4  1.673650e+12  14/1/2023  BTCUSDT  19930.01  21258.00  19888.05  20954.92   \n",
       "\n",
       "    Volume BTC   Volume USDT  tradecount  \n",
       "0  350916.0195  7.399719e+09     7617173  \n",
       "1  275407.7441  5.840586e+09     6440138  \n",
       "2  293078.0826  6.168654e+09     6856434  \n",
       "3  178542.2255  3.710527e+09     5194354  \n",
       "4  393913.7495  8.183072e+09     8659545  "
      ]
     },
     "execution_count": 5,
     "metadata": {},
     "output_type": "execute_result"
    }
   ],
   "source": [
    "data.head()"
   ]
  },
  {
   "cell_type": "code",
   "execution_count": 6,
   "metadata": {
    "colab": {
     "base_uri": "https://localhost:8080/"
    },
    "id": "wad2woVAA01K",
    "outputId": "952edb0a-6e60-462b-9db4-df603805d80e"
   },
   "outputs": [
    {
     "name": "stdout",
     "output_type": "stream",
     "text": [
      "<class 'pandas.core.frame.DataFrame'>\n",
      "RangeIndex: 1981 entries, 0 to 1980\n",
      "Data columns (total 10 columns):\n",
      " #   Column       Non-Null Count  Dtype  \n",
      "---  ------       --------------  -----  \n",
      " 0   Unix         1981 non-null   float64\n",
      " 1   Date         1981 non-null   object \n",
      " 2   Symbol       1981 non-null   object \n",
      " 3   Open         1981 non-null   float64\n",
      " 4   High         1981 non-null   float64\n",
      " 5   Low          1981 non-null   float64\n",
      " 6   Close        1981 non-null   float64\n",
      " 7   Volume BTC   1981 non-null   float64\n",
      " 8   Volume USDT  1981 non-null   float64\n",
      " 9   tradecount   1981 non-null   int64  \n",
      "dtypes: float64(7), int64(1), object(2)\n",
      "memory usage: 154.9+ KB\n"
     ]
    }
   ],
   "source": [
    "data.info()"
   ]
  },
  {
   "cell_type": "code",
   "execution_count": 119,
   "metadata": {
    "id": "x8uL9Q-3Ct9t"
   },
   "outputs": [],
   "source": [
    "y = binarise(data, 'Close', threshold = 0)"
   ]
  },
  {
   "cell_type": "code",
   "execution_count": 121,
   "metadata": {
    "colab": {
     "base_uri": "https://localhost:8080/"
    },
    "id": "9tcWPTrwg11P",
    "outputId": "4dde9f76-957f-43b1-a740-361db033f0de"
   },
   "outputs": [
    {
     "data": {
      "text/plain": [
       "(956, 0.48258455325593136)"
      ]
     },
     "execution_count": 121,
     "metadata": {},
     "output_type": "execute_result"
    }
   ],
   "source": [
    "y.sum(), y.sum()/len(y)"
   ]
  },
  {
   "cell_type": "code",
   "execution_count": 8,
   "metadata": {
    "id": "IPQcNiwxCuEo"
   },
   "outputs": [],
   "source": [
    "def get_ordered_index(df, period_to_skip=100, val_split_ratio=0.2, test_split_ratio=0.2,  period_from_end_skip=0):\n",
    "    # get ordered dates split into train, val and test based on index\n",
    "    all_dates = list(df.index)\n",
    "    all_train = int(len(all_dates)*(1-test_split_ratio))\n",
    "    train = int(all_train*(1-val_split_ratio))\n",
    "\n",
    "    train_dates = all_dates[period_to_skip:train]\n",
    "    val_dates = all_dates[train:all_train]\n",
    "    test_dates = all_dates[all_train:-1 - period_from_end_skip]\n",
    "    return train_dates, val_dates, test_dates"
   ]
  },
  {
   "cell_type": "code",
   "execution_count": 9,
   "metadata": {
    "id": "XxS1jcPC4V00"
   },
   "outputs": [],
   "source": [
    "def get_x(df, y_index, x_col = 'Close', period=21):\n",
    "  return df.loc[y_index-period:y_index-1, x_col]"
   ]
  },
  {
   "cell_type": "code",
   "execution_count": 10,
   "metadata": {
    "id": "60k6YRA86Cx3"
   },
   "outputs": [],
   "source": [
    "def get_xy(df, y, period, x_col = 'Close', val_split_ratio=0.2, test_split_ratio=0.2):\n",
    "  x_traini, x_vali, x_testi = get_ordered_index(data, period_to_skip=period+1, val_split_ratio=0.2, test_split_ratio=0.2)\n",
    "  x_train = np.zeros((len(x_traini),period))\n",
    "  x_val = np.zeros((len(x_vali),period))\n",
    "  x_test = np.zeros((len(x_testi),period))\n",
    "\n",
    "  y_train = np.array(y[x_traini])\n",
    "  y_val = np.array(y[x_vali])\n",
    "  y_test = np.array([x_testi])\n",
    "\n",
    "  for i in range(len(x_traini)):\n",
    "    temp = np.array(get_x(df, x_traini[i], x_col = x_col, period=period))\n",
    "    x_train[i, :] = temp\n",
    "  \n",
    "  for i in range(len(x_vali)):\n",
    "    temp = np.array(get_x(df, x_vali[i], x_col = x_col, period=period))\n",
    "    x_train[i, :] = temp\n",
    "  \n",
    "  for i in range(len(x_testi)):\n",
    "    temp = np.array(get_x(df, x_testi[i], x_col = x_col, period=period))\n",
    "    x_train[i, :] = temp\n",
    "\n",
    "  return x_train, y_train, x_val, y_val, x_test, y_test\n"
   ]
  },
  {
   "cell_type": "code",
   "execution_count": 11,
   "metadata": {
    "id": "XpqfQ0_-CuHi"
   },
   "outputs": [],
   "source": [
    "x_train, y_train, x_val, y_val, x_test, y_test = get_xy(data, y, 21, x_col = 'Close', val_split_ratio=0.2, test_split_ratio=0.2)"
   ]
  },
  {
   "cell_type": "code",
   "execution_count": 12,
   "metadata": {
    "colab": {
     "base_uri": "https://localhost:8080/"
    },
    "id": "g4xyqOeJJrYk",
    "outputId": "37a7e95c-f8f3-40fa-c0b7-d9b2e72a7506"
   },
   "outputs": [
    {
     "data": {
      "text/plain": [
       "((1245, 21), (1245,), (317, 21), (396, 21))"
      ]
     },
     "execution_count": 12,
     "metadata": {},
     "output_type": "execute_result"
    }
   ],
   "source": [
    "x_train.shape, y_train.shape, x_val.shape, x_test.shape"
   ]
  },
  {
   "cell_type": "code",
   "execution_count": 15,
   "metadata": {
    "id": "ZuQeoZrO9JKT"
   },
   "outputs": [],
   "source": [
    "def convert_to_tensor(x):\n",
    "  device = \"cuda\" if torch.cuda.is_available() else \"cpu\"\n",
    "  return [torch.tensor(i).to(device) for i in x]"
   ]
  },
  {
   "cell_type": "code",
   "execution_count": 16,
   "metadata": {
    "id": "cdQ053JtZw9k"
   },
   "outputs": [],
   "source": [
    "temp = [x_train, y_train, x_val, y_val, x_test, y_test]\n",
    "x_train, y_train, x_val, y_val, x_test, y_test = convert_to_tensor(temp)"
   ]
  },
  {
   "cell_type": "code",
   "execution_count": 17,
   "metadata": {
    "colab": {
     "base_uri": "https://localhost:8080/"
    },
    "id": "KmBMzaEb9jeN",
    "outputId": "a2bd1155-feb3-4143-a83d-84ebc971a531"
   },
   "outputs": [
    {
     "data": {
      "text/plain": [
       "torch.Tensor"
      ]
     },
     "execution_count": 17,
     "metadata": {},
     "output_type": "execute_result"
    }
   ],
   "source": [
    "type(x_train)"
   ]
  },
  {
   "cell_type": "code",
   "execution_count": 53,
   "metadata": {
    "id": "DhUILMGI1OTH"
   },
   "outputs": [],
   "source": [
    "from torch.utils.data import Dataset, DataLoader\n",
    "\n",
    "class CustomDataset(Dataset):\n",
    "    def __init__(self, X, y, transform=None, target_transform=None):\n",
    "        self.x = X\n",
    "        self.y = y\n",
    "        self.transform = transform\n",
    "        self.target_transform = target_transform\n",
    "\n",
    "    def __len__(self):\n",
    "        return self.y.shape[0]\n",
    "\n",
    "    def __getitem__(self, idx):\n",
    "        x = self.x[idx,:].type(torch.float)\n",
    "        y = self.y[idx].type(torch.float)\n",
    "        if self.transform:\n",
    "            x = self.transform(x)\n",
    "        if self.target_transform:\n",
    "            y = self.target_transform(y)\n",
    "        return torch.reshape(x, (1, -1)), y"
   ]
  },
  {
   "cell_type": "code",
   "execution_count": 54,
   "metadata": {
    "id": "BTOrfVAD3E-j"
   },
   "outputs": [],
   "source": [
    "x_train_ds = CustomDataset(x_train, y_train)\n",
    "x_val_ds = CustomDataset(x_val, y_val)"
   ]
  },
  {
   "cell_type": "code",
   "execution_count": 55,
   "metadata": {
    "id": "R9K6K7CZ2MbM"
   },
   "outputs": [],
   "source": [
    "BATCH_SIZE = 32\n",
    "train_dataloader = DataLoader(x_train_ds, batch_size=BATCH_SIZE, shuffle=True)\n",
    "test_dataloader = DataLoader(x_val_ds, batch_size=BATCH_SIZE, shuffle=True)"
   ]
  },
  {
   "cell_type": "code",
   "execution_count": 108,
   "metadata": {
    "colab": {
     "base_uri": "https://localhost:8080/"
    },
    "id": "got6rgkjaUzQ",
    "outputId": "4e4438c9-ea34-4986-8667-a37a40a06211"
   },
   "outputs": [
    {
     "name": "stdout",
     "output_type": "stream",
     "text": [
      "torch.Size([32, 1, 21]) torch.Size([32])\n",
      "torch.Size([32, 1, 21]) torch.Size([32])\n",
      "torch.Size([32, 1, 21]) torch.Size([32])\n",
      "torch.Size([32, 1, 21]) torch.Size([32])\n",
      "torch.Size([32, 1, 21]) torch.Size([32])\n",
      "torch.Size([32, 1, 21]) torch.Size([32])\n",
      "torch.Size([32, 1, 21]) torch.Size([32])\n",
      "torch.Size([32, 1, 21]) torch.Size([32])\n",
      "torch.Size([32, 1, 21]) torch.Size([32])\n",
      "torch.Size([29, 1, 21]) torch.Size([29])\n"
     ]
    }
   ],
   "source": [
    "for X, y in test_dataloader:\n",
    "  print(X.shape, y.shape)"
   ]
  },
  {
   "cell_type": "code",
   "execution_count": 57,
   "metadata": {
    "id": "1iUkny-j6nYz"
   },
   "outputs": [],
   "source": [
    "class basic_cnn(nn.Module):\n",
    "  \"\"\"\n",
    "  Basic cnn model with 3 convolutional layers followed by 3 dense layers\n",
    "  \"\"\"\n",
    "\n",
    "  def __init__(self):\n",
    "      super(basic_cnn, self).__init__()\n",
    "      self.conv1 = nn.Conv1d(1, 6, 5)\n",
    "      self.conv2 = nn.Conv1d(6, 16, 3)\n",
    "      self.conv3 = nn.Conv1d(16, 32, 3)\n",
    "      # self.maxpool = nn.MaxPool1d(2, 2)\n",
    "      \n",
    "      self.fc1 = nn.Linear(416 , 64)\n",
    "      self.fc2 = nn.Linear(64, 32)\n",
    "      self.fc3 = nn.Linear(32, 1)\n",
    "\n",
    "  def forward(self, x):\n",
    "      x = self.conv1(x)\n",
    "      x = nn.ReLU()(x)\n",
    "      # x = self.maxpool(x)\n",
    "\n",
    "      x = self.conv2(x)\n",
    "      x = nn.ReLU()(x)\n",
    "      # x = self.maxpool(x)\n",
    "\n",
    "      x = self.conv3(x)\n",
    "      x = nn.ReLU()(x)\n",
    "      # x = self.maxpool(x)\n",
    "\n",
    "      x = x.view(-1, self.num_flat_features(x))\n",
    "      x = self.fc1(x)\n",
    "      x = nn.ReLU()(x)\n",
    "      x = self.fc2(x)\n",
    "      x = nn.ReLU()(x)\n",
    "      x = self.fc3(x)\n",
    "      return x\n",
    "\n",
    "  def num_flat_features(self, x):\n",
    "      size = x.size()[1:]\n",
    "      num_features = 1\n",
    "      for s in size:\n",
    "          num_features *= s\n",
    "      return num_features"
   ]
  },
  {
   "cell_type": "code",
   "execution_count": 109,
   "metadata": {
    "id": "WMZiGFj9w7mU"
   },
   "outputs": [],
   "source": [
    "model = basic_cnn()\n",
    "if torch.cuda.is_available():\n",
    "    model.cuda()"
   ]
  },
  {
   "cell_type": "code",
   "execution_count": 110,
   "metadata": {
    "colab": {
     "base_uri": "https://localhost:8080/"
    },
    "id": "vlup42DoA-0j",
    "outputId": "4d3f628c-8bbe-4bcc-d253-dcbb8ac374c3"
   },
   "outputs": [
    {
     "name": "stdout",
     "output_type": "stream",
     "text": [
      "Layer: conv1.weight | Size: torch.Size([6, 1, 5])\n",
      "Layer: conv1.bias | Size: torch.Size([6])\n",
      "Layer: conv2.weight | Size: torch.Size([16, 6, 3])\n",
      "Layer: conv2.bias | Size: torch.Size([16])\n",
      "Layer: conv3.weight | Size: torch.Size([32, 16, 3])\n",
      "Layer: conv3.bias | Size: torch.Size([32])\n",
      "Layer: fc1.weight | Size: torch.Size([64, 416])\n",
      "Layer: fc1.bias | Size: torch.Size([64])\n",
      "Layer: fc2.weight | Size: torch.Size([32, 64])\n",
      "Layer: fc2.bias | Size: torch.Size([32])\n",
      "Layer: fc3.weight | Size: torch.Size([1, 32])\n",
      "Layer: fc3.bias | Size: torch.Size([1])\n"
     ]
    }
   ],
   "source": [
    "for name, param in model.named_parameters():\n",
    "    print(f\"Layer: {name} | Size: {param.size()}\")"
   ]
  },
  {
   "cell_type": "code",
   "execution_count": 117,
   "metadata": {
    "id": "4cZw0EC40AXM"
   },
   "outputs": [],
   "source": [
    "def train_loop(dataloader, model, loss_fn, optimizer):\n",
    "    size = len(dataloader.dataset)\n",
    "    for batch, (X, y) in enumerate(dataloader):        \n",
    "        # Compute prediction and loss\n",
    "        pred = model(X)\n",
    "        loss = loss_fn(pred, y.unsqueeze(1))\n",
    "        \n",
    "        # Backpropagation\n",
    "        optimizer.zero_grad()\n",
    "        loss.backward()\n",
    "        optimizer.step()\n",
    "\n",
    "        # if batch % 5 == 0:\n",
    "        #   loss, current = loss.item(), batch * len(X)\n",
    "        #   print(f\"loss: {loss:>7f}  [{current:>5d}/{size:>5d}]\")\n",
    "\n",
    "\n",
    "def test_loop(dataloader, model, loss_fn):\n",
    "    batch_num = len(dataloader.dataset)\n",
    "    test_loss, correct = 0, 0\n",
    "\n",
    "    with torch.no_grad():\n",
    "        for X, y in dataloader:\n",
    "            pred = model(X)\n",
    "            test_loss += loss_fn(pred, y.unsqueeze(1)).item()\n",
    "            pred = (torch.sigmoid(pred) > 0.5).type(torch.float32)\n",
    "            correct += (pred==y).sum().item()/BATCH_SIZE\n",
    "            \n",
    "    test_loss /= batch_num\n",
    "    correct /= batch_num\n",
    "    print(f\"Test Error: \\n Accuracy: {(100*correct):>0.1f}%, Avg loss: {test_loss:>8f} \\n\")"
   ]
  },
  {
   "cell_type": "code",
   "execution_count": 118,
   "metadata": {
    "colab": {
     "base_uri": "https://localhost:8080/"
    },
    "id": "niwakQKMyAzk",
    "outputId": "12daf794-ab76-421b-fea1-4379dd160b24"
   },
   "outputs": [
    {
     "name": "stdout",
     "output_type": "stream",
     "text": [
      "Epoch 1\n",
      "-------------------------------\n",
      "tensor([-0.0170], device='cuda:0')\n",
      "tensor([0.], device='cuda:0')\n",
      "tensor([-0.0170], device='cuda:0')\n",
      "tensor([0.], device='cuda:0')\n",
      "tensor([-0.0170], device='cuda:0')\n",
      "tensor([0.], device='cuda:0')\n",
      "tensor([-0.0170], device='cuda:0')\n",
      "tensor([0.], device='cuda:0')\n",
      "tensor([-0.0170], device='cuda:0')\n",
      "tensor([0.], device='cuda:0')\n",
      "tensor([-0.0170], device='cuda:0')\n",
      "tensor([0.], device='cuda:0')\n",
      "tensor([-0.0170], device='cuda:0')\n",
      "tensor([0.], device='cuda:0')\n",
      "tensor([-0.0170], device='cuda:0')\n",
      "tensor([0.], device='cuda:0')\n",
      "tensor([-0.0170], device='cuda:0')\n",
      "tensor([0.], device='cuda:0')\n",
      "tensor([-0.0170], device='cuda:0')\n",
      "tensor([0.], device='cuda:0')\n",
      "Test Error: \n",
      " Accuracy: 54.8%, Avg loss: 0.021840 \n",
      "\n",
      "Epoch 2\n",
      "-------------------------------\n",
      "tensor([-0.0109], device='cuda:0')\n",
      "tensor([0.], device='cuda:0')\n",
      "tensor([-0.0109], device='cuda:0')\n",
      "tensor([0.], device='cuda:0')\n",
      "tensor([-0.0109], device='cuda:0')\n",
      "tensor([0.], device='cuda:0')\n",
      "tensor([-0.0109], device='cuda:0')\n",
      "tensor([0.], device='cuda:0')\n",
      "tensor([-0.0109], device='cuda:0')\n",
      "tensor([0.], device='cuda:0')\n",
      "tensor([-0.0109], device='cuda:0')\n",
      "tensor([0.], device='cuda:0')\n",
      "tensor([-0.0109], device='cuda:0')\n",
      "tensor([0.], device='cuda:0')\n",
      "tensor([-0.0109], device='cuda:0')\n",
      "tensor([0.], device='cuda:0')\n",
      "tensor([-0.0109], device='cuda:0')\n",
      "tensor([0.], device='cuda:0')\n",
      "tensor([-0.0109], device='cuda:0')\n",
      "tensor([0.], device='cuda:0')\n",
      "Test Error: \n",
      " Accuracy: 54.7%, Avg loss: 0.021848 \n",
      "\n",
      "Epoch 3\n",
      "-------------------------------\n",
      "tensor([-0.0118], device='cuda:0')\n",
      "tensor([0.], device='cuda:0')\n",
      "tensor([-0.0118], device='cuda:0')\n",
      "tensor([0.], device='cuda:0')\n",
      "tensor([-0.0118], device='cuda:0')\n",
      "tensor([0.], device='cuda:0')\n",
      "tensor([-0.0118], device='cuda:0')\n",
      "tensor([0.], device='cuda:0')\n",
      "tensor([-0.0118], device='cuda:0')\n",
      "tensor([0.], device='cuda:0')\n",
      "tensor([-0.0118], device='cuda:0')\n",
      "tensor([0.], device='cuda:0')\n",
      "tensor([-0.0118], device='cuda:0')\n",
      "tensor([0.], device='cuda:0')\n",
      "tensor([-0.0118], device='cuda:0')\n",
      "tensor([0.], device='cuda:0')\n",
      "tensor([-0.0118], device='cuda:0')\n",
      "tensor([0.], device='cuda:0')\n",
      "tensor([-0.0118], device='cuda:0')\n",
      "tensor([0.], device='cuda:0')\n",
      "Test Error: \n",
      " Accuracy: 54.7%, Avg loss: 0.021847 \n",
      "\n",
      "Epoch 4\n",
      "-------------------------------\n",
      "tensor([-0.0138], device='cuda:0')\n",
      "tensor([0.], device='cuda:0')\n",
      "tensor([-0.0138], device='cuda:0')\n",
      "tensor([0.], device='cuda:0')\n",
      "tensor([-0.0138], device='cuda:0')\n",
      "tensor([0.], device='cuda:0')\n",
      "tensor([-0.0138], device='cuda:0')\n",
      "tensor([0.], device='cuda:0')\n",
      "tensor([-0.0138], device='cuda:0')\n",
      "tensor([0.], device='cuda:0')\n",
      "tensor([-0.0138], device='cuda:0')\n",
      "tensor([0.], device='cuda:0')\n",
      "tensor([-0.0138], device='cuda:0')\n",
      "tensor([0.], device='cuda:0')\n",
      "tensor([-0.0138], device='cuda:0')\n",
      "tensor([0.], device='cuda:0')\n",
      "tensor([-0.0138], device='cuda:0')\n",
      "tensor([0.], device='cuda:0')\n",
      "tensor([-0.0138], device='cuda:0')\n",
      "tensor([0.], device='cuda:0')\n",
      "Test Error: \n",
      " Accuracy: 54.8%, Avg loss: 0.021844 \n",
      "\n",
      "Epoch 5\n",
      "-------------------------------\n",
      "tensor([-0.0097], device='cuda:0')\n",
      "tensor([0.], device='cuda:0')\n",
      "tensor([-0.0097], device='cuda:0')\n",
      "tensor([0.], device='cuda:0')\n",
      "tensor([-0.0097], device='cuda:0')\n",
      "tensor([0.], device='cuda:0')\n",
      "tensor([-0.0097], device='cuda:0')\n",
      "tensor([0.], device='cuda:0')\n",
      "tensor([-0.0097], device='cuda:0')\n",
      "tensor([0.], device='cuda:0')\n",
      "tensor([-0.0097], device='cuda:0')\n",
      "tensor([0.], device='cuda:0')\n",
      "tensor([-0.0097], device='cuda:0')\n",
      "tensor([0.], device='cuda:0')\n",
      "tensor([-0.0097], device='cuda:0')\n",
      "tensor([0.], device='cuda:0')\n",
      "tensor([-0.0097], device='cuda:0')\n",
      "tensor([0.], device='cuda:0')\n",
      "tensor([-0.0097], device='cuda:0')\n",
      "tensor([0.], device='cuda:0')\n",
      "Test Error: \n",
      " Accuracy: 54.8%, Avg loss: 0.021850 \n",
      "\n",
      "Epoch 6\n",
      "-------------------------------\n",
      "tensor([-0.0177], device='cuda:0')\n",
      "tensor([0.], device='cuda:0')\n",
      "tensor([-0.0177], device='cuda:0')\n",
      "tensor([0.], device='cuda:0')\n",
      "tensor([-0.0177], device='cuda:0')\n",
      "tensor([0.], device='cuda:0')\n",
      "tensor([-0.0177], device='cuda:0')\n",
      "tensor([0.], device='cuda:0')\n",
      "tensor([-0.0177], device='cuda:0')\n",
      "tensor([0.], device='cuda:0')\n",
      "tensor([-0.0177], device='cuda:0')\n",
      "tensor([0.], device='cuda:0')\n",
      "tensor([-0.0177], device='cuda:0')\n",
      "tensor([0.], device='cuda:0')\n",
      "tensor([-0.0177], device='cuda:0')\n",
      "tensor([0.], device='cuda:0')\n",
      "tensor([-0.0177], device='cuda:0')\n",
      "tensor([0.], device='cuda:0')\n",
      "tensor([-0.0177], device='cuda:0')\n",
      "tensor([0.], device='cuda:0')\n",
      "Test Error: \n",
      " Accuracy: 54.7%, Avg loss: 0.021838 \n",
      "\n",
      "Epoch 7\n",
      "-------------------------------\n",
      "tensor([-0.0043], device='cuda:0')\n",
      "tensor([0.], device='cuda:0')\n",
      "tensor([-0.0043], device='cuda:0')\n",
      "tensor([0.], device='cuda:0')\n",
      "tensor([-0.0043], device='cuda:0')\n",
      "tensor([0.], device='cuda:0')\n",
      "tensor([-0.0043], device='cuda:0')\n",
      "tensor([0.], device='cuda:0')\n",
      "tensor([-0.0043], device='cuda:0')\n",
      "tensor([0.], device='cuda:0')\n",
      "tensor([-0.0043], device='cuda:0')\n",
      "tensor([0.], device='cuda:0')\n",
      "tensor([-0.0043], device='cuda:0')\n",
      "tensor([0.], device='cuda:0')\n",
      "tensor([-0.0043], device='cuda:0')\n",
      "tensor([0.], device='cuda:0')\n",
      "tensor([-0.0043], device='cuda:0')\n",
      "tensor([0.], device='cuda:0')\n",
      "tensor([-0.0043], device='cuda:0')\n",
      "tensor([0.], device='cuda:0')\n",
      "Test Error: \n",
      " Accuracy: 54.9%, Avg loss: 0.021859 \n",
      "\n",
      "Epoch 8\n",
      "-------------------------------\n",
      "tensor([-0.0160], device='cuda:0')\n",
      "tensor([0.], device='cuda:0')\n",
      "tensor([-0.0160], device='cuda:0')\n",
      "tensor([0.], device='cuda:0')\n",
      "tensor([-0.0160], device='cuda:0')\n",
      "tensor([0.], device='cuda:0')\n",
      "tensor([-0.0160], device='cuda:0')\n",
      "tensor([0.], device='cuda:0')\n",
      "tensor([-0.0160], device='cuda:0')\n",
      "tensor([0.], device='cuda:0')\n",
      "tensor([-0.0160], device='cuda:0')\n",
      "tensor([0.], device='cuda:0')\n",
      "tensor([-0.0160], device='cuda:0')\n",
      "tensor([0.], device='cuda:0')\n",
      "tensor([-0.0160], device='cuda:0')\n",
      "tensor([0.], device='cuda:0')\n",
      "tensor([-0.0160], device='cuda:0')\n",
      "tensor([0.], device='cuda:0')\n",
      "tensor([-0.0160], device='cuda:0')\n",
      "tensor([0.], device='cuda:0')\n",
      "Test Error: \n",
      " Accuracy: 54.9%, Avg loss: 0.021842 \n",
      "\n",
      "Epoch 9\n",
      "-------------------------------\n",
      "tensor([-0.0170], device='cuda:0')\n",
      "tensor([0.], device='cuda:0')\n",
      "tensor([-0.0170], device='cuda:0')\n",
      "tensor([0.], device='cuda:0')\n",
      "tensor([-0.0170], device='cuda:0')\n",
      "tensor([0.], device='cuda:0')\n",
      "tensor([-0.0170], device='cuda:0')\n",
      "tensor([0.], device='cuda:0')\n",
      "tensor([-0.0170], device='cuda:0')\n",
      "tensor([0.], device='cuda:0')\n",
      "tensor([-0.0170], device='cuda:0')\n",
      "tensor([0.], device='cuda:0')\n",
      "tensor([-0.0170], device='cuda:0')\n",
      "tensor([0.], device='cuda:0')\n",
      "tensor([-0.0170], device='cuda:0')\n",
      "tensor([0.], device='cuda:0')\n",
      "tensor([-0.0170], device='cuda:0')\n",
      "tensor([0.], device='cuda:0')\n",
      "tensor([-0.0170], device='cuda:0')\n",
      "tensor([0.], device='cuda:0')\n",
      "Test Error: \n",
      " Accuracy: 54.8%, Avg loss: 0.021839 \n",
      "\n",
      "Epoch 10\n",
      "-------------------------------\n",
      "tensor([-0.0144], device='cuda:0')\n",
      "tensor([0.], device='cuda:0')\n",
      "tensor([-0.0144], device='cuda:0')\n",
      "tensor([0.], device='cuda:0')\n",
      "tensor([-0.0144], device='cuda:0')\n",
      "tensor([0.], device='cuda:0')\n",
      "tensor([-0.0144], device='cuda:0')\n",
      "tensor([0.], device='cuda:0')\n",
      "tensor([-0.0144], device='cuda:0')\n",
      "tensor([0.], device='cuda:0')\n",
      "tensor([-0.0144], device='cuda:0')\n",
      "tensor([0.], device='cuda:0')\n",
      "tensor([-0.0144], device='cuda:0')\n",
      "tensor([0.], device='cuda:0')\n",
      "tensor([-0.0144], device='cuda:0')\n",
      "tensor([0.], device='cuda:0')\n",
      "tensor([-0.0144], device='cuda:0')\n",
      "tensor([0.], device='cuda:0')\n",
      "tensor([-0.0144], device='cuda:0')\n",
      "tensor([0.], device='cuda:0')\n",
      "Test Error: \n",
      " Accuracy: 54.7%, Avg loss: 0.021843 \n",
      "\n",
      "Done!\n"
     ]
    }
   ],
   "source": [
    "learning_rate = 0.001\n",
    "loss_fn = nn.BCEWithLogitsLoss()\n",
    "optimizer = torch.optim.Adam(model.parameters(), lr=0.001)\n",
    "\n",
    "epochs = 10\n",
    "for t in range(epochs):\n",
    "    print(f\"Epoch {t+1}\\n-------------------------------\")\n",
    "    train_loop(train_dataloader, model, loss_fn, optimizer)\n",
    "    test_loop(test_dataloader, model, loss_fn)\n",
    "print(\"Done!\")"
   ]
  },
  {
   "cell_type": "code",
   "execution_count": null,
   "metadata": {
    "id": "ri_UpmbwDiIR"
   },
   "outputs": [],
   "source": [
    "with torch.no_grad():\n",
    "    for X, y in test_dataloader:\n",
    "      pred = model(X)\n",
    "      print(torch.sigmoid(pred))"
   ]
  },
  {
   "cell_type": "code",
   "execution_count": null,
   "metadata": {
    "id": "z3j3l_QqXHlw"
   },
   "outputs": [],
   "source": []
  }
 ],
 "metadata": {
  "accelerator": "GPU",
  "colab": {
   "provenance": []
  },
  "gpuClass": "standard",
  "kernelspec": {
   "display_name": "Python 3 (ipykernel)",
   "language": "python",
   "name": "python3"
  },
  "language_info": {
   "codemirror_mode": {
    "name": "ipython",
    "version": 3
   },
   "file_extension": ".py",
   "mimetype": "text/x-python",
   "name": "python",
   "nbconvert_exporter": "python",
   "pygments_lexer": "ipython3",
   "version": "3.9.7"
  }
 },
 "nbformat": 4,
 "nbformat_minor": 4
}
