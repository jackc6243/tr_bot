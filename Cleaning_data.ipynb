{
 "cells": [
  {
   "cell_type": "code",
   "execution_count": 2,
   "id": "de8bd9fd-02eb-43e2-89e3-a21d98b841c9",
   "metadata": {},
   "outputs": [],
   "source": [
    "import pandas as pd\n",
    "import numpy as np\n",
    "from y_engineering import pct_log\n",
    "from Indicators import *"
   ]
  },
  {
   "cell_type": "code",
   "execution_count": 40,
   "id": "0c2bcd85-1f51-4418-9961-dbe11220714c",
   "metadata": {},
   "outputs": [],
   "source": [
    "import pathlib\n",
    "import datetime"
   ]
  },
  {
   "cell_type": "code",
   "execution_count": 41,
   "id": "b0c980d3-9429-4f90-83b1-44db8d6cb5ab",
   "metadata": {},
   "outputs": [
    {
     "data": {
      "text/plain": [
       "PosixPath('/home/jack/Desktop/Programming/tr_bot')"
      ]
     },
     "execution_count": 41,
     "metadata": {},
     "output_type": "execute_result"
    }
   ],
   "source": [
    "pathlib.Path().resolve()"
   ]
  },
  {
   "cell_type": "code",
   "execution_count": 42,
   "id": "f940f1e0-c505-445c-85c3-81a7ca6a0799",
   "metadata": {},
   "outputs": [],
   "source": [
    "tickers = [\"AAPL\", \"AMZN\", \"GOOG\", \"META\", \"MSFT\", \"NVDA\"]"
   ]
  },
  {
   "cell_type": "code",
   "execution_count": 43,
   "id": "64db0dd9-8266-4eb3-aedc-3c21dea9febb",
   "metadata": {},
   "outputs": [],
   "source": [
    "# getting raw data\n",
    "data = {}\n",
    "for ticker in tickers:\n",
    "    raw_path = \"/home/jack/Desktop/Programming/tr_bot/data/raw/\" + ticker + \".csv\"\n",
    "    data[ticker] = pd.read_csv(raw_path)"
   ]
  },
  {
   "cell_type": "code",
   "execution_count": 44,
   "id": "c0428757-2c23-4f57-bb4d-c53599672dbe",
   "metadata": {},
   "outputs": [],
   "source": [
    "#saving data split into train and test files with extra features\n",
    "\n",
    "for key, df in data.items():\n",
    "    #adding basic features\n",
    "    df[\"pct\"] = pct_log(df, \"Adj Close\", log=False)\n",
    "    df[\"pct_log\"] = pct_log(df, \"Adj Close\")\n",
    "    \n",
    "    df[\"ema_20\"] = ema(df, period=20, column='Adj Close')\n",
    "    df[\"ema_50\"] = ema(df, period=50, column='Adj Close')\n",
    "    df[\"ema_200\"] = ema(df, period=200, column='Adj Close')\n",
    "    df[\"ema_pct_20\"] = pct_log(df, y_col='ema_20', time_to_pred = 1, pct=True, log=False)\n",
    "    df[\"ema_pct_50\"] = pct_log(df, y_col='ema_50', time_to_pred = 1, pct=True, log=False)\n",
    "    df[\"ema_pct_200\"] = pct_log(df, y_col='ema_200', time_to_pred = 1, pct=True, log=False)\n",
    "    \n",
    "    df[\"rsi_20\"] = rsi(df, period=20, column='Adj Close')\n",
    "    df[\"rsi_20\"] = (df[\"rsi_20\"]-50)/100\n",
    "    \n",
    "    df['y_binary_sma4'] = (sma(df, period=4, column='Adj Close').shift(periods=-4) > df['Adj Close']).astype(int)\n",
    "    \n",
    "    #saving data\n",
    "    path = \"/home/jack/Desktop/Programming/tr_bot/data\"\n",
    "    df[:-500].to_csv(path + \"/train/\" + key + \"_train.csv\", index=False)\n",
    "    df[-500:].to_csv(path + \"/test/\" + key + \"_test.csv\", index=False)"
   ]
  }
 ],
 "metadata": {
  "kernelspec": {
   "display_name": "trading_environment",
   "language": "python",
   "name": "trading_environment"
  },
  "language_info": {
   "codemirror_mode": {
    "name": "ipython",
    "version": 3
   },
   "file_extension": ".py",
   "mimetype": "text/x-python",
   "name": "python",
   "nbconvert_exporter": "python",
   "pygments_lexer": "ipython3",
   "version": "3.10.9"
  }
 },
 "nbformat": 4,
 "nbformat_minor": 5
}
