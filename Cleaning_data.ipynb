{
 "cells": [
  {
   "cell_type": "code",
   "execution_count": 14,
   "id": "de8bd9fd-02eb-43e2-89e3-a21d98b841c9",
   "metadata": {},
   "outputs": [],
   "source": [
    "import pandas as pd\n",
    "import numpy as np\n",
    "from y_engineering import pct_log\n",
    "from Indicators import *"
   ]
  },
  {
   "cell_type": "code",
   "execution_count": 8,
   "id": "df8adc4e-138c-4bb0-b833-5be37f6b03fd",
   "metadata": {},
   "outputs": [],
   "source": [
    "data = pd.read_csv('AAPL.csv')"
   ]
  },
  {
   "cell_type": "code",
   "execution_count": 10,
   "id": "c0428757-2c23-4f57-bb4d-c53599672dbe",
   "metadata": {},
   "outputs": [
    {
     "name": "stdout",
     "output_type": "stream",
     "text": [
      "<class 'pandas.core.frame.DataFrame'>\n",
      "RangeIndex: 5809 entries, 0 to 5808\n",
      "Data columns (total 7 columns):\n",
      " #   Column     Non-Null Count  Dtype  \n",
      "---  ------     --------------  -----  \n",
      " 0   Date       5809 non-null   object \n",
      " 1   Open       5809 non-null   float64\n",
      " 2   High       5809 non-null   float64\n",
      " 3   Low        5809 non-null   float64\n",
      " 4   Close      5809 non-null   float64\n",
      " 5   Adj Close  5809 non-null   float64\n",
      " 6   Volume     5809 non-null   int64  \n",
      "dtypes: float64(5), int64(1), object(1)\n",
      "memory usage: 317.8+ KB\n"
     ]
    }
   ],
   "source": [
    "data.info()"
   ]
  },
  {
   "cell_type": "code",
   "execution_count": 12,
   "id": "240a7eb3-0dba-4650-9e47-2e345b64bfbc",
   "metadata": {},
   "outputs": [
    {
     "data": {
      "text/html": [
       "<div>\n",
       "<style scoped>\n",
       "    .dataframe tbody tr th:only-of-type {\n",
       "        vertical-align: middle;\n",
       "    }\n",
       "\n",
       "    .dataframe tbody tr th {\n",
       "        vertical-align: top;\n",
       "    }\n",
       "\n",
       "    .dataframe thead th {\n",
       "        text-align: right;\n",
       "    }\n",
       "</style>\n",
       "<table border=\"1\" class=\"dataframe\">\n",
       "  <thead>\n",
       "    <tr style=\"text-align: right;\">\n",
       "      <th></th>\n",
       "      <th>Date</th>\n",
       "      <th>Open</th>\n",
       "      <th>High</th>\n",
       "      <th>Low</th>\n",
       "      <th>Close</th>\n",
       "      <th>Adj Close</th>\n",
       "      <th>Volume</th>\n",
       "    </tr>\n",
       "  </thead>\n",
       "  <tbody>\n",
       "    <tr>\n",
       "      <th>5804</th>\n",
       "      <td>2023-02-10</td>\n",
       "      <td>149.460007</td>\n",
       "      <td>151.339996</td>\n",
       "      <td>149.220001</td>\n",
       "      <td>151.009995</td>\n",
       "      <td>151.009995</td>\n",
       "      <td>57409100</td>\n",
       "    </tr>\n",
       "    <tr>\n",
       "      <th>5805</th>\n",
       "      <td>2023-02-13</td>\n",
       "      <td>150.949997</td>\n",
       "      <td>154.259995</td>\n",
       "      <td>150.919998</td>\n",
       "      <td>153.850006</td>\n",
       "      <td>153.850006</td>\n",
       "      <td>62199000</td>\n",
       "    </tr>\n",
       "    <tr>\n",
       "      <th>5806</th>\n",
       "      <td>2023-02-14</td>\n",
       "      <td>152.119995</td>\n",
       "      <td>153.770004</td>\n",
       "      <td>150.860001</td>\n",
       "      <td>153.199997</td>\n",
       "      <td>153.199997</td>\n",
       "      <td>61707600</td>\n",
       "    </tr>\n",
       "    <tr>\n",
       "      <th>5807</th>\n",
       "      <td>2023-02-15</td>\n",
       "      <td>153.110001</td>\n",
       "      <td>155.500000</td>\n",
       "      <td>152.880005</td>\n",
       "      <td>155.330002</td>\n",
       "      <td>155.330002</td>\n",
       "      <td>65669300</td>\n",
       "    </tr>\n",
       "    <tr>\n",
       "      <th>5808</th>\n",
       "      <td>2023-02-16</td>\n",
       "      <td>153.509995</td>\n",
       "      <td>156.330002</td>\n",
       "      <td>153.350006</td>\n",
       "      <td>153.710007</td>\n",
       "      <td>153.710007</td>\n",
       "      <td>68031000</td>\n",
       "    </tr>\n",
       "  </tbody>\n",
       "</table>\n",
       "</div>"
      ],
      "text/plain": [
       "            Date        Open        High         Low       Close   Adj Close  \\\n",
       "5804  2023-02-10  149.460007  151.339996  149.220001  151.009995  151.009995   \n",
       "5805  2023-02-13  150.949997  154.259995  150.919998  153.850006  153.850006   \n",
       "5806  2023-02-14  152.119995  153.770004  150.860001  153.199997  153.199997   \n",
       "5807  2023-02-15  153.110001  155.500000  152.880005  155.330002  155.330002   \n",
       "5808  2023-02-16  153.509995  156.330002  153.350006  153.710007  153.710007   \n",
       "\n",
       "        Volume  \n",
       "5804  57409100  \n",
       "5805  62199000  \n",
       "5806  61707600  \n",
       "5807  65669300  \n",
       "5808  68031000  "
      ]
     },
     "execution_count": 12,
     "metadata": {},
     "output_type": "execute_result"
    }
   ],
   "source": [
    "data.tail()"
   ]
  },
  {
   "cell_type": "code",
   "execution_count": 30,
   "id": "7db3e59a-7aac-411e-a2b8-962051f4e814",
   "metadata": {},
   "outputs": [],
   "source": [
    "data[\"pct\"] = pct_log(data, \"Adj Close\", log=False)"
   ]
  },
  {
   "cell_type": "code",
   "execution_count": 31,
   "id": "7cac6840-eebc-4c3b-9d1e-faf9e2815603",
   "metadata": {},
   "outputs": [],
   "source": [
    "data[\"pct_log\"] = pct_log(data, \"Adj Close\")"
   ]
  },
  {
   "cell_type": "code",
   "execution_count": 42,
   "id": "a2f89cd7-9b3c-43bf-99b6-4c715c7a6972",
   "metadata": {},
   "outputs": [],
   "source": [
    "data.loc[:5000,[\"Adj Close\", \"Volume\", \"pct_log\", \"pct\"]].to_csv(\"appl_clean_train.csv\", index=False)"
   ]
  },
  {
   "cell_type": "code",
   "execution_count": 43,
   "id": "3d07b0d4-5cef-417e-b754-f5ec102a5006",
   "metadata": {},
   "outputs": [],
   "source": [
    "data.loc[5001:,[\"Adj Close\", \"Volume\", \"pct_log\", \"pct\"]].to_csv(\"appl_clean_test.csv\", index=False)"
   ]
  },
  {
   "cell_type": "code",
   "execution_count": null,
   "id": "e188f7f9-27ed-4593-8a59-5f1c9992cb87",
   "metadata": {},
   "outputs": [],
   "source": []
  }
 ],
 "metadata": {
  "kernelspec": {
   "display_name": "trading_env",
   "language": "python",
   "name": "trading_env"
  },
  "language_info": {
   "codemirror_mode": {
    "name": "ipython",
    "version": 3
   },
   "file_extension": ".py",
   "mimetype": "text/x-python",
   "name": "python",
   "nbconvert_exporter": "python",
   "pygments_lexer": "ipython3",
   "version": "3.8.10"
  }
 },
 "nbformat": 4,
 "nbformat_minor": 5
}
