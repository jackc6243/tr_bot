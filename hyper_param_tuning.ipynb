{
 "cells": [
  {
   "cell_type": "code",
   "execution_count": 3,
   "id": "127d6209-dde1-481a-905e-7e1d865ff616",
   "metadata": {},
   "outputs": [],
   "source": [
    "import os\n",
    "from functools import partial\n",
    "\n",
    "#data essentials\n",
    "import matplotlib.pyplot as plt\n",
    "import numpy as np\n",
    "import pandas as pd\n",
    "import math\n",
    "import scipy\n",
    "\n",
    "#self created tools\n",
    "from getting_data import *\n",
    "from Indicators import *\n",
    "from y_engineering import *\n",
    "from metric import *\n",
    "from models import *\n",
    "\n",
    "# pytorch\n",
    "import torch\n",
    "import torch.nn as nn\n",
    "import torch.nn.functional as F\n",
    "import torch.optim as optim\n",
    "from torch.utils.data import random_split\n",
    "\n",
    "#Using the library ray tune for hyperparameter tuning\n",
    "from ray import tune\n",
    "from ray.tune import CLIReporter\n",
    "from ray.tune.schedulers import ASHAScheduler"
   ]
  },
  {
   "cell_type": "code",
   "execution_count": 5,
   "id": "f8e56202-4f44-4037-9713-eb66e6bdd766",
   "metadata": {},
   "outputs": [],
   "source": [
    "#use gpu if available\n",
    "if torch.cuda.is_available():\n",
    "    torch.set_default_tensor_type('torch.cuda.FloatTensor')\n",
    "    device = \"cuda\""
   ]
  },
  {
   "cell_type": "code",
   "execution_count": 4,
   "id": "062ef43c-67a2-4a82-a4d6-e206c77fdac0",
   "metadata": {},
   "outputs": [],
   "source": [
    "tickers = [\"AAPL\", \"AMZN\", \"GOOG\", \"META\", \"MSFT\", \"NVDA\"]\n",
    "\n",
    "# getting raw data\n",
    "data = {}\n",
    "for ticker in tickers:\n",
    "    raw_path = \"/home/jack/Desktop/Programming/tr_bot/data/train/\" + ticker + \"_train.csv\"\n",
    "    data[ticker] = pd.read_csv(raw_path)"
   ]
  },
  {
   "cell_type": "code",
   "execution_count": null,
   "id": "a2047704-d370-44d7-91e2-4bc5d9692e74",
   "metadata": {},
   "outputs": [],
   "source": []
  }
 ],
 "metadata": {
  "kernelspec": {
   "display_name": "trading_environment",
   "language": "python",
   "name": "trading_environment"
  },
  "language_info": {
   "codemirror_mode": {
    "name": "ipython",
    "version": 3
   },
   "file_extension": ".py",
   "mimetype": "text/x-python",
   "name": "python",
   "nbconvert_exporter": "python",
   "pygments_lexer": "ipython3",
   "version": "3.10.9"
  }
 },
 "nbformat": 4,
 "nbformat_minor": 5
}
